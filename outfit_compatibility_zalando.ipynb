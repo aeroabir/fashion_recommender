{
 "cells": [
  {
   "cell_type": "markdown",
   "metadata": {},
   "source": [
    "# Outfit Compatibility Prediction - Zalando\n",
    "\n",
    "For Zalando data, I have created train, validation and test data using negative samples from existing outfits. The samples are created by altering *only* one of the product. This still may not be the right way of generating negative samples. The data also have outfit style information that is unique to Zalando dataset. "
   ]
  },
  {
   "cell_type": "code",
   "execution_count": 1,
   "metadata": {},
   "outputs": [],
   "source": [
    "%load_ext autoreload\n",
    "%autoreload 2"
   ]
  },
  {
   "cell_type": "code",
   "execution_count": 2,
   "metadata": {},
   "outputs": [
    {
     "name": "stdout",
     "output_type": "stream",
     "text": [
      "Populating the interactive namespace from numpy and matplotlib\n",
      "TF: 2.2.0\n",
      "NP: 1.19.5\n"
     ]
    }
   ],
   "source": [
    "import os\n",
    "import json\n",
    "from collections import Counter\n",
    "from PIL import Image\n",
    "import numpy as np\n",
    "import pandas as pd\n",
    "import tensorflow as tf\n",
    "from tensorflow import keras\n",
    "from tensorflow.keras.callbacks import EarlyStopping, ReduceLROnPlateau\n",
    "\n",
    "from tqdm import tqdm\n",
    "import pickle\n",
    "\n",
    "import sys\n",
    "sys.path.insert(0, \"/recsys_data/RecSys/fashion/automl/efficientnetv2\")\n",
    "import effnetv2_model\n",
    "\n",
    "%pylab inline\n",
    "import matplotlib.pyplot as plt\n",
    "\n",
    "print(\"TF:\", tf.__version__)\n",
    "print(\"NP:\", np.__version__)"
   ]
  },
  {
   "cell_type": "code",
   "execution_count": 3,
   "metadata": {},
   "outputs": [],
   "source": [
    "base_dir = \"/recsys_data/RecSys/Zalando_Outfit/female/Outfit_Data\"\n",
    "train_dir = base_dir\n",
    "image_dir = \"/recsys_data/RecSys/Zalando_Outfit/resized_packshot_images_female\"\n",
    "embed_dir = \"/recsys_data/RecSys/Zalando_Outfit/female/Outfit_Data/precomputed\"\n",
    "train_file = \"compatibility_train.txt\"\n",
    "valid_file = \"compatibility_valid.txt\"\n",
    "test_file = \"compatibility_test.txt\"\n",
    "item_file = \"polyvore_item_metadata.json\""
   ]
  },
  {
   "cell_type": "markdown",
   "metadata": {},
   "source": [
    "each line in the dataset has: label style item_1 item_2 item_3 ..."
   ]
  },
  {
   "cell_type": "code",
   "execution_count": 4,
   "metadata": {},
   "outputs": [
    {
     "name": "stdout",
     "output_type": "stream",
     "text": [
      "Total 272541, 7479, 17427 examples in train, validation and test split, respectively\n"
     ]
    }
   ],
   "source": [
    "with open(os.path.join(train_dir, train_file), 'r') as fr:\n",
    "    train_X, train_y = [], []\n",
    "    for line in fr:\n",
    "        elems = line.strip().split()\n",
    "        train_y.append(elems[0])\n",
    "        train_X.append(elems[1:])\n",
    "\n",
    "with open(os.path.join(train_dir, valid_file), 'r') as fr:\n",
    "    valid_X, valid_y = [], []\n",
    "    for line in fr:\n",
    "        elems = line.strip().split()\n",
    "        valid_y.append(elems[0])\n",
    "        valid_X.append(elems[1:])\n",
    "\n",
    "with open(os.path.join(train_dir, test_file), 'r') as fr:\n",
    "    test_X, test_y = [], []\n",
    "    for line in fr:\n",
    "        elems = line.strip().split()\n",
    "        test_y.append(elems[0])\n",
    "        test_X.append(elems[1:])\n",
    "\n",
    "print(f\"Total {len(train_X)}, {len(valid_X)}, {len(test_X)} examples in train, validation and test split, respectively\")"
   ]
  },
  {
   "cell_type": "code",
   "execution_count": 5,
   "metadata": {},
   "outputs": [
    {
     "name": "stdout",
     "output_type": "stream",
     "text": [
      "90847 training examples, average 3.89 items, max 8 item\n",
      "2493 validation examples, average 4.12 items, max 7 items\n",
      "5809 test examples, average 4.13 items, max 7 item\n"
     ]
    }
   ],
   "source": [
    "# item_dict converts a token in the dataset to the corresponding image (required for Polyvore data)\n",
    "# Here, we create a dict to match the requirement\n",
    "item_dict = {}\n",
    "train_file = \"zalando_female_outfit_data_18k_and_new_modified_format_train.json\"\n",
    "valid_file = \"zalando_female_outfit_data_18k_and_new_modified_format_val.json\"\n",
    "test_file = \"zalando_female_outfit_data_18k_and_new_modified_format_test.json\"\n",
    "\n",
    "train_json = os.path.join(base_dir, \"Train\", train_file)\n",
    "train_data = json.load(open(train_json, 'r'))\n",
    "\n",
    "item2cat = {}\n",
    "cat2item = {}\n",
    "seq_lens = []\n",
    "count = 0\n",
    "for outfit in train_data:\n",
    "    items = outfit[\"item_ids\"]\n",
    "    categories = outfit[\"high_level_cats\"]\n",
    "    style = outfit[\"outfit_occasion\"]\n",
    "    for i,c in zip(items, categories):\n",
    "        if c not in cat2item:\n",
    "            cat2item[c] = []\n",
    "        cat2item[c].append(i)\n",
    "        item2cat[i] = {\"category_id\": c}\n",
    "    seq_lens.append(len(items))\n",
    "    count += 1\n",
    "print(f\"{count} training examples, average {np.mean(seq_lens):.2f} items, max {np.max(seq_lens)} item\")\n",
    "\n",
    "valid_json = os.path.join(base_dir, \"Val\", valid_file)\n",
    "valid_data = json.load(open(valid_json, 'r'))\n",
    "\n",
    "count = 0\n",
    "seq_lens = []\n",
    "for outfit in valid_data:\n",
    "    items = outfit[\"item_ids\"]\n",
    "    categories = outfit[\"high_level_cats\"]\n",
    "    for i,c in zip(items, categories):\n",
    "        cat2item[c].append(i)\n",
    "        item2cat[i] = {\"category_id\": c}\n",
    "    seq_lens.append(len(items))\n",
    "    count += 1\n",
    "print(f\"{count} validation examples, average {np.mean(seq_lens):.2f} items, max {np.max(seq_lens)} items\")\n",
    "\n",
    "test_json = os.path.join(base_dir, \"Test\", test_file)\n",
    "test_data = json.load(open(test_json, 'r'))\n",
    "\n",
    "count = 0\n",
    "seq_lens = []\n",
    "for outfit in test_data:\n",
    "    items = outfit[\"item_ids\"]\n",
    "    categories = outfit[\"high_level_cats\"]\n",
    "    for i,c in zip(items, categories):\n",
    "        cat2item[c].append(i)\n",
    "        item2cat[i] = {\"category_id\": c}\n",
    "    seq_lens.append(len(items))\n",
    "    count += 1\n",
    "print(f\"{count} test examples, average {np.mean(seq_lens):.2f} items, max {np.max(seq_lens)} item\")"
   ]
  },
  {
   "cell_type": "code",
   "execution_count": 6,
   "metadata": {},
   "outputs": [
    {
     "name": "stdout",
     "output_type": "stream",
     "text": [
      "Total number of categories: 9\n"
     ]
    }
   ],
   "source": [
    "print(f\"Total number of categories: {len(cat2item)}\")"
   ]
  },
  {
   "cell_type": "code",
   "execution_count": 7,
   "metadata": {},
   "outputs": [],
   "source": [
    "from build_model import build_single_transformer, build_multilevel_transformer\n",
    "from build_model import build_set_transformer\n",
    "from rnn import build_multilevel_rnn_unequal, build_fc_model, build_hybrid_model"
   ]
  },
  {
   "cell_type": "code",
   "execution_count": 8,
   "metadata": {},
   "outputs": [],
   "source": [
    "model_type = \"rnn\" # \"set-transformer\", \"rnn\", \"single-transformer\"\n",
    "include_text = False\n",
    "use_graphsage = False\n",
    "batch_size = 32\n",
    "max_seq_len = 4\n",
    "d_model_rnn = 256\n",
    "image_data_type = \"embedding\"  # \"original\", \"embedding\", \"both\"\n",
    "include_item_categories = True\n",
    "image_encoder = \"resnet50\"  # \"resnet50\", \"vgg16\", \"inception\"\n",
    "\n",
    "if use_graphsage:\n",
    "    image_embedding_dim, image_embedding_file = (50, os.path.join(embed_dir, \"graphsage_dict2_polyvore.pkl\"))\n",
    "#         image_embedding_dim, image_embedding_file = (256, os.path.join(embed_dir, \"graphsage_dict2_polyvore_nondisjoint.pkl\"))\n",
    "else:\n",
    "    image_embedding_dim, image_embedding_file = (1280, os.path.join(embed_dir, \"effnet2_zalando.pkl\"))\n",
    "#         image_embedding_dim, image_embedding_file = (256, os.path.join(embed_dir, \"triplet_polyvore_image.pkl\"))\n",
    "    \n",
    "text_embedding_dim, text_embedding_file = (768, os.path.join(embed_dir, \"bert_polyvore.pkl\"))\n",
    "# text_embedding_dim, text_embedding_file = (256, os.path.join(embed_dir, \"triplet_polyvore_text.pkl\"))"
   ]
  },
  {
   "cell_type": "code",
   "execution_count": 9,
   "metadata": {},
   "outputs": [
    {
     "name": "stdout",
     "output_type": "stream",
     "text": [
      "Model: \"rnn\"\n",
      "__________________________________________________________________________________________________\n",
      "Layer (type)                    Output Shape         Param #     Connected to                     \n",
      "==================================================================================================\n",
      "input_1 (InputLayer)            [(None, 4, 1280)]    0                                            \n",
      "__________________________________________________________________________________________________\n",
      "tf_op_layer_Sum (TensorFlowOpLa [(None, 4)]          0           input_1[0][0]                    \n",
      "__________________________________________________________________________________________________\n",
      "tf_op_layer_NotEqual (TensorFlo [(None, 4)]          0           tf_op_layer_Sum[0][0]            \n",
      "__________________________________________________________________________________________________\n",
      "input_2 (InputLayer)            [(None, 4)]          0                                            \n",
      "__________________________________________________________________________________________________\n",
      "input_3 (InputLayer)            [(None,)]            0                                            \n",
      "__________________________________________________________________________________________________\n",
      "bidirectional (Bidirectional)   (None, 4, 512)       3147776     input_1[0][0]                    \n",
      "__________________________________________________________________________________________________\n",
      "embedding (Embedding)           (None, 4, 256)       2560        input_2[0][0]                    \n",
      "__________________________________________________________________________________________________\n",
      "embedding_1 (Embedding)         (None, 256)          1792        input_3[0][0]                    \n",
      "__________________________________________________________________________________________________\n",
      "bidirectional_1 (Bidirectional) (None, 4, 512)       1574912     bidirectional[0][0]              \n",
      "__________________________________________________________________________________________________\n",
      "bidirectional_2 (Bidirectional) (None, 4, 512)       1050624     embedding[0][0]                  \n",
      "__________________________________________________________________________________________________\n",
      "tf_op_layer_stack (TensorFlowOp [(None, 4, 256)]     0           embedding_1[0][0]                \n",
      "                                                                 embedding_1[0][0]                \n",
      "                                                                 embedding_1[0][0]                \n",
      "                                                                 embedding_1[0][0]                \n",
      "__________________________________________________________________________________________________\n",
      "concatenate (Concatenate)       (None, 4, 1280)      0           bidirectional_1[0][0]            \n",
      "                                                                 bidirectional_2[0][0]            \n",
      "                                                                 tf_op_layer_stack[0][0]          \n",
      "__________________________________________________________________________________________________\n",
      "batch_normalization (BatchNorma (None, 4, 1280)      5120        concatenate[0][0]                \n",
      "__________________________________________________________________________________________________\n",
      "permute (Permute)               (None, 1280, 4)      0           batch_normalization[0][0]        \n",
      "__________________________________________________________________________________________________\n",
      "dense (Dense)                   (None, 1280, 1)      5           permute[0][0]                    \n",
      "__________________________________________________________________________________________________\n",
      "tf_op_layer_Squeeze (TensorFlow [(None, 1280)]       0           dense[0][0]                      \n",
      "__________________________________________________________________________________________________\n",
      "dropout (Dropout)               (None, 1280)         0           tf_op_layer_Squeeze[0][0]        \n",
      "__________________________________________________________________________________________________\n",
      "dense_1 (Dense)                 (None, 1)            1281        dropout[0][0]                    \n",
      "==================================================================================================\n",
      "Total params: 5,784,070\n",
      "Trainable params: 5,781,510\n",
      "Non-trainable params: 2,560\n",
      "__________________________________________________________________________________________________\n"
     ]
    }
   ],
   "source": [
    "# from rnn import build_multilevel_rnn_unequal\n",
    "# model_type = \"hybrid\"\n",
    "if model_type == \"fc\":\n",
    "    model = build_fc_model(max_seq_len, \n",
    "                           image_embedding_dim,\n",
    "                         num_classes=2,\n",
    "                         num_layers=2,\n",
    "                         d_model=512,\n",
    "                         rnn=\"bilstm\",\n",
    "                         final_activation=\"sigmoid\",\n",
    "                         include_text=include_text\n",
    "                        )\n",
    "elif model_type == \"rnn\":\n",
    "    model = build_multilevel_rnn_unequal(max_seq_len, \n",
    "                                         num_classes=2,\n",
    "                                         num_layers=2,\n",
    "                                         d_model=d_model_rnn,\n",
    "                                         rnn=\"bilstm\",\n",
    "                                         final_activation=\"sigmoid\",\n",
    "                                         include_text=include_text,\n",
    "                                         image_embedding_dim=image_embedding_dim,\n",
    "                                         text_feature_dim=text_embedding_dim,\n",
    "                                         include_item_categories=include_item_categories,\n",
    "                                         image_data_type=image_data_type,\n",
    "                                         include_multihead_attention=False,\n",
    "                                         image_encoder=image_encoder,\n",
    "                                         num_categories=len(cat2item)+1,\n",
    "                                         include_style=True,\n",
    "                                         num_styles=7,\n",
    "                                        )\n",
    "elif model_type == \"single-transformer\":\n",
    "    model = build_single_transformer(max_seq_len, \n",
    "                                     image_embedding_dim,\n",
    "                                     num_layers=6,\n",
    "                                     d_model=64,\n",
    "                                     num_heads=16,\n",
    "                                     dff=32,\n",
    "                                     rate=0.0,\n",
    "                                     include_text=include_text,\n",
    "                                     include_item_categories=include_item_categories,\n",
    "                                     num_categories=154,\n",
    "                                     text_feature_dim=768,\n",
    "                                     num_classes=2,\n",
    "                                     lstm_dim=256,\n",
    "                                     embedding_activation=\"linear\",\n",
    "                                     lstm_activation=\"linear\",\n",
    "                                     final_activation=\"sigmoid\"\n",
    "                                    )\n",
    "elif model_type == \"transformer\":\n",
    "    model = build_multilevel_transformer(max_seq_len, \n",
    "                                         image_embedding_dim,\n",
    "                                         num_layers=3,\n",
    "                                         d_model=64,\n",
    "                                         num_heads=1,\n",
    "                                         dff=32,\n",
    "                                         rate=0.0,\n",
    "                                         include_text=include_text,\n",
    "                                         include_item_categories=include_item_categories,\n",
    "                                         inp_dim2=768,\n",
    "                                         num_classes=2,\n",
    "                                         lstm_dim=256,\n",
    "                                         embedding_activation=\"linear\",\n",
    "                                         lstm_activation=\"linear\",\n",
    "                                         final_activation=\"sigmoid\"\n",
    "                                        )\n",
    "elif model_type == \"set-transformer\":\n",
    "    model = build_set_transformer(max_seq_len, \n",
    "                                  image_embedding_dim, \n",
    "                                  num_layers=3,\n",
    "                                  d_model=256,\n",
    "                                  num_heads=2,\n",
    "                                  dff=256,\n",
    "                                  num_classes=2,\n",
    "                                  lstm_dim=256,\n",
    "                                  include_text=include_text,\n",
    "                                  inp_dim2=768,\n",
    "                                  embedding_activation=\"relu\",\n",
    "                                  lstm_activation=\"relu\",\n",
    "                                  final_activation=\"sigmoid\"\n",
    "                                 )\n",
    "elif model_type == \"hybrid\":\n",
    "    model = build_hybrid_model(max_seq_len, \n",
    "                               image_embedding_dim,\n",
    "                               rnn=\"bilstm\",\n",
    "                               num_layers=2,\n",
    "                               d_model=512,\n",
    "                               num_heads=2,\n",
    "                               dff=32,\n",
    "                               rate=0.0,\n",
    "                               include_text=include_text,\n",
    "                               text_feature_dim=text_embedding_dim,\n",
    "                               num_classes=2,\n",
    "                               embedding_activation=\"tanh\",\n",
    "                               lstm_activation=\"linear\",\n",
    "                               final_activation=\"sigmoid\",\n",
    "                               include_item_categories=include_item_categories,\n",
    "                               num_categories=154,\n",
    "                              )\n",
    "\n",
    "model.summary()"
   ]
  },
  {
   "cell_type": "code",
   "execution_count": 10,
   "metadata": {},
   "outputs": [
    {
     "name": "stdout",
     "output_type": "stream",
     "text": [
      "8517 234\n"
     ]
    }
   ],
   "source": [
    "from data_process import ZalandoDataGen\n",
    "\n",
    "train_gen = ZalandoDataGen(train_X, train_y, \n",
    "                          item2cat, \n",
    "                          image_dir=image_dir, \n",
    "                          batch_size=batch_size,\n",
    "                          max_len=max_seq_len,\n",
    "                          only_image=not include_text,\n",
    "                          image_embedding_dim=image_embedding_dim,\n",
    "                          image_embedding_file=image_embedding_file,\n",
    "                          text_embedding_file=text_embedding_file,\n",
    "                          number_items_in_batch=150,\n",
    "                          variable_length_input=True,\n",
    "                          text_embedding_dim=text_embedding_dim,\n",
    "                          include_item_categories=include_item_categories,\n",
    "                          image_data=image_data_type,\n",
    "                         )\n",
    "valid_gen = ZalandoDataGen(valid_X, valid_y, \n",
    "                          item2cat, \n",
    "                          image_dir=image_dir, \n",
    "                          batch_size=batch_size,\n",
    "                          max_len=max_seq_len,\n",
    "                          only_image=not include_text,\n",
    "                          image_embedding_dim=image_embedding_dim,\n",
    "                          image_embedding_file=image_embedding_file,\n",
    "                          text_embedding_file=text_embedding_file,\n",
    "                          number_items_in_batch=150,\n",
    "                          variable_length_input=True,\n",
    "                          text_embedding_dim=text_embedding_dim,\n",
    "                          include_item_categories=include_item_categories,\n",
    "                          image_data=image_data_type,\n",
    "                         )\n",
    "print(len(train_gen), len(valid_gen))"
   ]
  },
  {
   "cell_type": "code",
   "execution_count": 11,
   "metadata": {},
   "outputs": [
    {
     "name": "stdout",
     "output_type": "stream",
     "text": [
      "[(32, 4, 1280), (32, 4), (32,)] (32,)\n",
      "[(32, 4, 1280), (32, 4), (32,)] (32,)\n",
      "[(32, 4, 1280), (32, 4), (32,)] (32,)\n",
      "[(32, 4, 1280), (32, 4), (32,)] (32,)\n"
     ]
    }
   ],
   "source": [
    "for ii in range(4):\n",
    "    inps, targs = train_gen[ii]\n",
    "    print([x.shape for x in inps], targs.shape)\n",
    "#     print(inps.shape, targs.shape)"
   ]
  },
  {
   "cell_type": "code",
   "execution_count": 12,
   "metadata": {},
   "outputs": [
    {
     "data": {
      "text/plain": [
       "array([2, 0, 1, 2, 0, 2, 3, 0, 1, 4, 4, 4, 3, 1, 6, 1, 1, 3, 2, 0, 1, 3,\n",
       "       2, 5, 2, 2, 2, 3, 5, 0, 0, 5])"
      ]
     },
     "execution_count": 12,
     "metadata": {},
     "output_type": "execute_result"
    }
   ],
   "source": [
    "inps[2]"
   ]
  },
  {
   "cell_type": "code",
   "execution_count": 13,
   "metadata": {},
   "outputs": [
    {
     "name": "stdout",
     "output_type": "stream",
     "text": [
      "Epoch 1/50\n",
      "8517/8517 [==============================] - 437s 51ms/step - loss: 0.1606 - auc: 0.5388 - val_loss: 0.1593 - val_auc: 0.5313 - lr: 1.0000e-04\n",
      "Epoch 2/50\n",
      "8517/8517 [==============================] - 424s 50ms/step - loss: 0.1558 - auc: 0.5722 - val_loss: 0.1593 - val_auc: 0.5567 - lr: 1.0000e-04\n",
      "Epoch 3/50\n",
      "8517/8517 [==============================] - 426s 50ms/step - loss: 0.1536 - auc: 0.5928 - val_loss: 0.1599 - val_auc: 0.5595 - lr: 1.0000e-04\n",
      "Epoch 4/50\n",
      "8517/8517 [==============================] - 419s 49ms/step - loss: 0.1508 - auc: 0.6123 - val_loss: 0.1606 - val_auc: 0.5687 - lr: 5.0000e-05\n",
      "Epoch 5/50\n",
      "8517/8517 [==============================] - 392s 46ms/step - loss: 0.1493 - auc: 0.6228 - val_loss: 0.1637 - val_auc: 0.5740 - lr: 5.0000e-05\n",
      "Epoch 6/50\n",
      "8517/8517 [==============================] - 396s 46ms/step - loss: 0.1474 - auc: 0.6344 - val_loss: 0.1663 - val_auc: 0.5783 - lr: 2.5000e-05\n",
      "Epoch 7/50\n",
      "8517/8517 [==============================] - 394s 46ms/step - loss: 0.1464 - auc: 0.6396 - val_loss: 0.1682 - val_auc: 0.5817 - lr: 2.5000e-05\n"
     ]
    },
    {
     "data": {
      "text/plain": [
       "2913.7548706531525"
      ]
     },
     "execution_count": 13,
     "metadata": {},
     "output_type": "execute_result"
    }
   ],
   "source": [
    "from focal_loss import BinaryFocalLoss\n",
    "\n",
    "learning_rate = 1.0e-04\n",
    "epochs = 50\n",
    "patience = 5\n",
    "num_train = len(train_X)\n",
    "checkpoint_filepath = base_dir + '/zalando_checkpoint'\n",
    "\n",
    "opt = keras.optimizers.Adam(learning_rate=learning_rate)\n",
    "# loss = tf.keras.losses.BinaryCrossentropy(from_logits=False, name='binary_crossentropy')\n",
    "# loss = tf.keras.losses.BinaryFocalCrossentropy(from_logits=False, name='binary_focal_crossentropy')\n",
    "loss = BinaryFocalLoss(gamma=2)\n",
    "\n",
    "model.compile(loss=loss, optimizer=opt, metrics=[tf.keras.metrics.AUC()])  # \"accuracy\"\n",
    "callback = EarlyStopping(\n",
    "                        monitor=\"val_loss\",\n",
    "                        min_delta=0,\n",
    "                        patience=patience,\n",
    "                        verbose=0,\n",
    "                        mode=\"auto\",\n",
    "                        baseline=None,\n",
    "                        restore_best_weights=True,\n",
    "                    )\n",
    "\n",
    "# wandb_callback = WandbCallback(\n",
    "#                         monitor=\"val_loss\",\n",
    "#                         verbose=0,\n",
    "#                         save_model=(False), \n",
    "#                         mode=\"auto\")\n",
    "\n",
    "model_checkpoint_callback = tf.keras.callbacks.ModelCheckpoint(\n",
    "    filepath=checkpoint_filepath,\n",
    "    save_weights_only=True,\n",
    "    monitor='val_loss',\n",
    "    mode='min',\n",
    "    save_best_only=True)\n",
    "\n",
    "reduce_lr = ReduceLROnPlateau(monitor='val_loss', factor=0.5,\n",
    "                              patience=2, min_lr=1e-07)\n",
    "\n",
    "tic = time.time()\n",
    "# run = wandb.init(reinit=True)\n",
    "if 'history' in locals():\n",
    "    history_prev = history\n",
    "history = model.fit(train_gen, \n",
    "                    epochs=epochs, \n",
    "                    batch_size=batch_size,\n",
    "#                     steps_per_epoch=math.ceil(num_train/batch_size),\n",
    "                    validation_data=valid_gen,\n",
    "                    validation_batch_size=32,\n",
    "                    validation_freq=1,\n",
    "                    callbacks=[callback, reduce_lr],\n",
    "                    verbose=1)\n",
    "# run.finish()\n",
    "time.time() - tic"
   ]
  },
  {
   "cell_type": "code",
   "execution_count": 17,
   "metadata": {},
   "outputs": [
    {
     "name": "stdout",
     "output_type": "stream",
     "text": [
      "8517/8517 [==============================] - 396s 47ms/step - loss: 0.1391 - auc: 0.6785\n"
     ]
    }
   ],
   "source": [
    "history = model.fit(train_gen, \n",
    "                    epochs=1, \n",
    "                    batch_size=batch_size,\n",
    "                    verbose=1)\n"
   ]
  },
  {
   "cell_type": "code",
   "execution_count": 15,
   "metadata": {},
   "outputs": [
    {
     "name": "stdout",
     "output_type": "stream",
     "text": [
      "Done\n"
     ]
    }
   ],
   "source": [
    "print(\"Done\")"
   ]
  },
  {
   "cell_type": "code",
   "execution_count": 16,
   "metadata": {},
   "outputs": [
    {
     "data": {
      "text/plain": [
       "<matplotlib.legend.Legend at 0x7f979e44a290>"
      ]
     },
     "execution_count": 16,
     "metadata": {},
     "output_type": "execute_result"
    },
    {
     "data": {
      "image/png": "[encoded data removed]",
      "text/plain": [
       "<Figure size 1080x432 with 2 Axes>"
      ]
     },
     "metadata": {
      "needs_background": "light"
     },
     "output_type": "display_data"
    }
   ],
   "source": [
    "auc_str = \"auc\"\n",
    "f, axs = plt.subplots(1,2,figsize=(15,6))\n",
    "max_val_auc = max(history.history[f'val_{auc_str}'])\n",
    "f.suptitle(f'Performance of a {model_type} model (Max. AUC = {max_val_auc:.4})', fontsize=16)\n",
    "plt.subplot(121)\n",
    "plt.plot(history.history['loss'], label='train-loss')\n",
    "plt.plot(history.history['val_loss'], label='validation-loss')\n",
    "plt.legend()\n",
    "\n",
    "plt.subplot(122)\n",
    "plt.plot(history.history[auc_str], label='train-AUC')\n",
    "plt.plot(history.history[f'val_{auc_str}'], label='validation-AUC')\n",
    "plt.legend()"
   ]
  },
  {
   "cell_type": "code",
   "execution_count": 18,
   "metadata": {},
   "outputs": [
    {
     "name": "stdout",
     "output_type": "stream",
     "text": [
      "WARNING:tensorflow:From /anaconda/envs/py37_tensorflow/lib/python3.7/site-packages/tensorflow/python/ops/resource_variable_ops.py:1817: calling BaseResourceVariable.__init__ (from tensorflow.python.ops.resource_variable_ops) with constraint is deprecated and will be removed in a future version.\n",
      "Instructions for updating:\n",
      "If using Keras pass *_constraint arguments to layers.\n",
      "INFO:tensorflow:Assets written to: compatibility_zalando_rnn_model_4_only_image/assets\n"
     ]
    }
   ],
   "source": [
    "model_path = f\"compatibility_zalando_{model_type}_model_{max_seq_len}_only_image\"\n",
    "model.save(model_path)"
   ]
  },
  {
   "cell_type": "markdown",
   "metadata": {},
   "source": [
    "## Load Model and Test"
   ]
  },
  {
   "cell_type": "code",
   "execution_count": 1,
   "metadata": {},
   "outputs": [
    {
     "name": "stdout",
     "output_type": "stream",
     "text": [
      "Populating the interactive namespace from numpy and matplotlib\n",
      "TF: 2.2.0\n",
      "NP: 1.19.5\n",
      "Model: \"rnn\"\n",
      "__________________________________________________________________________________________________\n",
      "Layer (type)                    Output Shape         Param #     Connected to                     \n",
      "==================================================================================================\n",
      "input_13 (InputLayer)           [(None, 8, 1280)]    0                                            \n",
      "__________________________________________________________________________________________________\n",
      "tf_op_layer_Sum_4 (TensorFlowOp (None, 8)            0           input_13[0][0]                   \n",
      "__________________________________________________________________________________________________\n",
      "tf_op_layer_NotEqual_4 (TensorF (None, 8)            0           tf_op_layer_Sum_4[0][0]          \n",
      "__________________________________________________________________________________________________\n",
      "input_14 (InputLayer)           [(None, 8)]          0                                            \n",
      "__________________________________________________________________________________________________\n",
      "input_15 (InputLayer)           [(None,)]            0                                            \n",
      "__________________________________________________________________________________________________\n",
      "bidirectional_12 (Bidirectional (None, 8, 512)       3147776     input_13[0][0]                   \n",
      "__________________________________________________________________________________________________\n",
      "embedding_8 (Embedding)         (None, 8, 256)       2560        input_14[0][0]                   \n",
      "__________________________________________________________________________________________________\n",
      "embedding_9 (Embedding)         (None, 256)          1792        input_15[0][0]                   \n",
      "__________________________________________________________________________________________________\n",
      "bidirectional_13 (Bidirectional (None, 8, 512)       1574912     bidirectional_12[0][0]           \n",
      "__________________________________________________________________________________________________\n",
      "bidirectional_14 (Bidirectional (None, 8, 512)       1050624     embedding_8[0][0]                \n",
      "__________________________________________________________________________________________________\n",
      "tf_op_layer_stack_2 (TensorFlow (None, 8, 256)       0           embedding_9[0][0]                \n",
      "                                                                 embedding_9[0][0]                \n",
      "                                                                 embedding_9[0][0]                \n",
      "                                                                 embedding_9[0][0]                \n",
      "                                                                 embedding_9[0][0]                \n",
      "                                                                 embedding_9[0][0]                \n",
      "                                                                 embedding_9[0][0]                \n",
      "                                                                 embedding_9[0][0]                \n",
      "__________________________________________________________________________________________________\n",
      "concatenate_3 (Concatenate)     (None, 8, 1280)      0           bidirectional_13[0][0]           \n",
      "                                                                 bidirectional_14[0][0]           \n",
      "                                                                 tf_op_layer_stack_2[0][0]        \n",
      "__________________________________________________________________________________________________\n",
      "batch_normalization_3 (BatchNor (None, 8, 1280)      5120        concatenate_3[0][0]              \n",
      "__________________________________________________________________________________________________\n",
      "permute_3 (Permute)             (None, 1280, 8)      0           batch_normalization_3[0][0]      \n",
      "__________________________________________________________________________________________________\n",
      "dense_6 (Dense)                 (None, 1280, 1)      9           permute_3[0][0]                  \n",
      "__________________________________________________________________________________________________\n",
      "tf_op_layer_Squeeze_3 (TensorFl (None, 1280)         0           dense_6[0][0]                    \n",
      "__________________________________________________________________________________________________\n",
      "dropout_3 (Dropout)             (None, 1280)         0           tf_op_layer_Squeeze_3[0][0]      \n",
      "__________________________________________________________________________________________________\n",
      "dense_7 (Dense)                 (None, 1)            1281        dropout_3[0][0]                  \n",
      "==================================================================================================\n",
      "Total params: 5,784,074\n",
      "Trainable params: 5,781,514\n",
      "Non-trainable params: 2,560\n",
      "__________________________________________________________________________________________________\n"
     ]
    }
   ],
   "source": [
    "import os\n",
    "import json\n",
    "from collections import Counter\n",
    "from PIL import Image\n",
    "import numpy as np\n",
    "import pandas as pd\n",
    "import tensorflow as tf\n",
    "from tensorflow import keras\n",
    "from tensorflow.keras.callbacks import EarlyStopping, ReduceLROnPlateau\n",
    "\n",
    "from tqdm import tqdm\n",
    "import pickle\n",
    "\n",
    "import sys\n",
    "sys.path.insert(0, \"/recsys_data/RecSys/fashion/automl/efficientnetv2\")\n",
    "import effnetv2_model\n",
    "\n",
    "%pylab inline\n",
    "import matplotlib.pyplot as plt\n",
    "from focal_loss import BinaryFocalLoss\n",
    "\n",
    "print(\"TF:\", tf.__version__)\n",
    "print(\"NP:\", np.__version__)\n",
    "\n",
    "model = tf.keras.models.load_model('compatibility_zalando_rnn_model_8_only_image')\n",
    "model.summary()"
   ]
  },
  {
   "cell_type": "code",
   "execution_count": 19,
   "metadata": {},
   "outputs": [
    {
     "data": {
      "text/plain": [
       "array([[0.3166604]], dtype=float32)"
      ]
     },
     "execution_count": 19,
     "metadata": {},
     "output_type": "execute_result"
    }
   ],
   "source": [
    "from data_process import ZalandoDataGen\n",
    "\n",
    "train_X = [[\"0\", \"SIF21C000-Q11@13.jpg\", \"CA115O00F-Q11@11.jpg\", \"EV451H0M7-Q11@13.jpg\"]]\n",
    "train_y = 0\n",
    "train_gen = ZalandoDataGen(train_X, train_y, \n",
    "                          item2cat, \n",
    "                          image_dir=image_dir, \n",
    "                          batch_size=1,\n",
    "                          max_len=max_seq_len,\n",
    "                          only_image=not include_text,\n",
    "                          image_embedding_dim=image_embedding_dim,\n",
    "                          image_embedding_file=image_embedding_file,\n",
    "                          text_embedding_file=text_embedding_file,\n",
    "                          number_items_in_batch=150,\n",
    "                          variable_length_input=True,\n",
    "                          text_embedding_dim=text_embedding_dim,\n",
    "                          include_item_categories=include_item_categories,\n",
    "                          image_data=image_data_type,\n",
    "                         )\n",
    "inps, targs = train_gen[0]\n",
    "pred = model(inps)\n",
    "pred.numpy()"
   ]
  },
  {
   "cell_type": "code",
   "execution_count": null,
   "metadata": {},
   "outputs": [],
   "source": []
  },
  {
   "cell_type": "markdown",
   "metadata": {},
   "source": [
    "## Image Embedding"
   ]
  },
  {
   "cell_type": "code",
   "execution_count": 4,
   "metadata": {},
   "outputs": [
    {
     "name": "stdout",
     "output_type": "stream",
     "text": [
      "WARNING:tensorflow:From /anaconda/envs/py37_tensorflow/lib/python3.7/site-packages/tensorflow/python/training/tracking/util.py:1283: NameBasedSaverStatus.__init__ (from tensorflow.python.training.tracking.util) is deprecated and will be removed in a future version.\n",
      "Instructions for updating:\n",
      "Restoring a name-based tf.train.Saver checkpoint using the object-based restore API. This mode uses global names to match variables, and so is somewhat fragile. It also adds new restore ops to the graph each time it is called when graph building. Prefer re-encoding training checkpoints in the object-based format: run save() on the object-based saver (the same one this message is coming from) and use that checkpoint in the future.\n"
     ]
    },
    {
     "name": "stderr",
     "output_type": "stream",
     "text": [
      "WARNING:tensorflow:From /anaconda/envs/py37_tensorflow/lib/python3.7/site-packages/tensorflow/python/training/tracking/util.py:1283: NameBasedSaverStatus.__init__ (from tensorflow.python.training.tracking.util) is deprecated and will be removed in a future version.\n",
      "Instructions for updating:\n",
      "Restoring a name-based tf.train.Saver checkpoint using the object-based restore API. This mode uses global names to match variables, and so is somewhat fragile. It also adds new restore ops to the graph each time it is called when graph building. Prefer re-encoding training checkpoints in the object-based format: run save() on the object-based saver (the same one this message is coming from) and use that checkpoint in the future.\n",
      "100%|██████████| 51985/51985 [1:41:11<00:00,  8.56it/s]"
     ]
    },
    {
     "name": "stdout",
     "output_type": "stream",
     "text": [
      "Generated embeddings for 51985 images\n"
     ]
    },
    {
     "name": "stderr",
     "output_type": "stream",
     "text": [
      "\n"
     ]
    }
   ],
   "source": [
    "import glob\n",
    "efficient_net_dict = {}\n",
    "\n",
    "eff2_model = tf.keras.models.Sequential(\n",
    "                [\n",
    "                    tf.keras.layers.InputLayer(input_shape=[224, 224, 3]),\n",
    "                    effnetv2_model.get_model(\"efficientnetv2-b0\", include_top=False),\n",
    "                ]\n",
    "            )\n",
    "\n",
    "count = 0\n",
    "for image_path in tqdm(glob.glob(image_dir+\"/*.*\")):\n",
    "    item_id = image_path.split('/')[-1].split('.')[0]\n",
    "    image = tf.keras.preprocessing.image.load_img(image_path)\n",
    "    image_arr = tf.keras.preprocessing.image.img_to_array(image)\n",
    "    image_arr = tf.image.resize(image_arr, (224, 224)).numpy()\n",
    "    image_arr /= 255.0\n",
    "    image_embed = tf.squeeze(eff2_model(tf.expand_dims(image_arr, 0)))\n",
    "    efficient_net_dict[item_id] = image_embed\n",
    "    count += 1\n",
    "    \n",
    "print(f\"Generated embeddings for {count} images\")"
   ]
  },
  {
   "cell_type": "code",
   "execution_count": 5,
   "metadata": {},
   "outputs": [],
   "source": [
    "with open(os.path.join(embed_dir, \"effnet2_zalando.pkl\"), \"wb\") as output_file:\n",
    "    pickle.dump(efficient_net_dict, output_file)"
   ]
  },
  {
   "cell_type": "code",
   "execution_count": 19,
   "metadata": {},
   "outputs": [
    {
     "data": {
      "text/plain": [
       "'DOG81A000-A11@12'"
      ]
     },
     "execution_count": 19,
     "metadata": {},
     "output_type": "execute_result"
    }
   ],
   "source": [
    "item_id"
   ]
  },
  {
   "cell_type": "code",
   "execution_count": 20,
   "metadata": {},
   "outputs": [
    {
     "data": {
      "text/plain": [
       "['/recsys_data/RecSys/Zalando_Outfit/resized_packshot_images_female/V1021C1YY-K11@5.2.jpg']"
      ]
     },
     "execution_count": 20,
     "metadata": {},
     "output_type": "execute_result"
    }
   ],
   "source": [
    "glob.glob(image_dir+\"/V1021C1YY-K11@5*.*\")"
   ]
  },
  {
   "cell_type": "code",
   "execution_count": null,
   "metadata": {},
   "outputs": [],
   "source": []
  }
 ],
 "metadata": {
  "kernelspec": {
   "display_name": "Python 3",
   "language": "python",
   "name": "python3"
  },
  "language_info": {
   "codemirror_mode": {
    "name": "ipython",
    "version": 3
   },
   "file_extension": ".py",
   "mimetype": "text/x-python",
   "name": "python",
   "nbconvert_exporter": "python",
   "pygments_lexer": "ipython3",
   "version": "3.7.7"
  }
 },
 "nbformat": 4,
 "nbformat_minor": 4
}
