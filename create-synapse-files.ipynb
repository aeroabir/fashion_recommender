{
 "cells": [
  {
   "cell_type": "markdown",
   "metadata": {},
   "source": [
    "# Create Synapse Files"
   ]
  },
  {
   "cell_type": "code",
   "execution_count": 1,
   "metadata": {},
   "outputs": [],
   "source": [
    "import os\n",
    "import json\n",
    "from collections import Counter\n",
    "from PIL import Image\n",
    "import pandas as pd\n",
    "from tqdm import tqdm\n",
    "import pickle\n",
    "\n",
    "import sys"
   ]
  },
  {
   "cell_type": "code",
   "execution_count": 2,
   "metadata": {},
   "outputs": [],
   "source": [
    "base_dir = \"/recsys_data/RecSys/fashion/polyvore-dataset/polyvore_outfits\"\n",
    "data_type = \"nondisjoint\" # \"nondisjoint\", \"disjoint\"\n",
    "train_dir = os.path.join(base_dir, data_type)\n",
    "image_dir = os.path.join(base_dir, \"images\")\n",
    "embed_dir = \"/recsys_data/RecSys/fashion/polyvore-dataset/precomputed\"\n",
    "train_json = \"train.json\"\n",
    "valid_json = \"valid.json\"\n",
    "test_json = \"test.json\"\n",
    "\n",
    "train_file = \"compatibility_train.txt\"\n",
    "valid_file = \"compatibility_valid.txt\"\n",
    "test_file = \"compatibility_test.txt\"\n",
    "item_file = \"polyvore_item_metadata.json\"\n",
    "outfit_file = \"polyvore_outfit_titles.json\""
   ]
  },
  {
   "cell_type": "code",
   "execution_count": 3,
   "metadata": {},
   "outputs": [
    {
     "name": "stdout",
     "output_type": "stream",
     "text": [
      "Total 53306, 5000, 10000 outfits in train, validation and test split, respectively\n"
     ]
    }
   ],
   "source": [
    "with open(os.path.join(train_dir, train_json), 'r') as fr:\n",
    "    train_pos = json.load(fr)\n",
    "    \n",
    "with open(os.path.join(train_dir, valid_json), 'r') as fr:\n",
    "    valid_pos = json.load(fr)\n",
    "    \n",
    "with open(os.path.join(train_dir, test_json), 'r') as fr:\n",
    "    test_pos = json.load(fr)\n",
    "    \n",
    "with open(os.path.join(base_dir, item_file), 'r') as fr:\n",
    "    pv_items = json.load(fr)\n",
    "    \n",
    "with open(os.path.join(base_dir, outfit_file), 'r') as fr:\n",
    "    pv_outfits = json.load(fr)\n",
    "print(f\"Total {len(train_pos)}, {len(valid_pos)}, {len(test_pos)} outfits in train, validation and test split, respectively\")"
   ]
  },
  {
   "cell_type": "code",
   "execution_count": 4,
   "metadata": {},
   "outputs": [
    {
     "name": "stdout",
     "output_type": "stream",
     "text": [
      "Total 106612, 10000, 20000 examples in train, validation and test split, respectively\n"
     ]
    }
   ],
   "source": [
    "with open(os.path.join(train_dir, train_file), 'r') as fr:\n",
    "    train_X, train_y = [], []\n",
    "    for line in fr:\n",
    "        elems = line.strip().split()\n",
    "        train_y.append(elems[0])\n",
    "        train_X.append(elems[1:])\n",
    "\n",
    "with open(os.path.join(train_dir, valid_file), 'r') as fr:\n",
    "    valid_X, valid_y = [], []\n",
    "    for line in fr:\n",
    "        elems = line.strip().split()\n",
    "        valid_y.append(elems[0])\n",
    "        valid_X.append(elems[1:])\n",
    "\n",
    "with open(os.path.join(train_dir, test_file), 'r') as fr:\n",
    "    test_X, test_y = [], []\n",
    "    for line in fr:\n",
    "        elems = line.strip().split()\n",
    "        test_y.append(elems[0])\n",
    "        test_X.append(elems[1:])\n",
    "\n",
    "print(f\"Total {len(train_X)}, {len(valid_X)}, {len(test_X)} examples in train, validation and test split, respectively\")"
   ]
  },
  {
   "cell_type": "code",
   "execution_count": 5,
   "metadata": {},
   "outputs": [
    {
     "name": "stdout",
     "output_type": "stream",
     "text": [
      "284767\n",
      "311548\n",
      "365054\n"
     ]
    }
   ],
   "source": [
    "item_dict = {}\n",
    "for ii, outfit in enumerate(train_pos):\n",
    "    items = outfit['items']\n",
    "    mapped = train_X[ii]\n",
    "    item_dict.update({jj:kk['item_id'] for jj, kk in zip(mapped, items)})\n",
    "print(len(item_dict))\n",
    "\n",
    "for ii, outfit in enumerate(valid_pos):\n",
    "    items = outfit['items']\n",
    "    mapped = valid_X[ii]\n",
    "    item_dict.update({jj:kk['item_id'] for jj, kk in zip(mapped, items)})\n",
    "print(len(item_dict))\n",
    "\n",
    "for ii, outfit in enumerate(test_pos):\n",
    "    items = outfit['items']\n",
    "    mapped = test_X[ii]\n",
    "    item_dict.update({jj:kk['item_id'] for jj, kk in zip(mapped, items)})\n",
    "print(len(item_dict))"
   ]
  },
  {
   "cell_type": "code",
   "execution_count": 10,
   "metadata": {},
   "outputs": [],
   "source": [
    "new_train_file = \"compatibility_train_renamed.txt\"\n",
    "new_valid_file = \"compatibility_valid_renamed.txt\"\n",
    "new_test_file = \"compatibility_test_renamed.txt\"\n",
    "\n",
    "with open(os.path.join(train_dir, new_train_file), 'w') as fw:\n",
    "    for x, y in zip(train_X, train_y):\n",
    "        x_ = \" \".join([item_dict[xi] for xi in x])\n",
    "        fw.write(\"\\t\".join([x_, str(y)]) + \"\\n\")\n",
    "\n",
    "with open(os.path.join(train_dir, new_valid_file), 'w') as fw:\n",
    "    for x, y in zip(valid_X, valid_y):\n",
    "        x_ = \" \".join([item_dict[xi] for xi in x])\n",
    "        fw.write(\"\\t\".join([x_, str(y)]) + \"\\n\")\n",
    "\n",
    "with open(os.path.join(train_dir, new_test_file), 'w') as fw:\n",
    "    for x, y in zip(test_X, test_y):\n",
    "        x_ = \" \".join([item_dict[xi] for xi in x])\n",
    "        fw.write(\"\\t\".join([x_, str(y)]) + \"\\n\")\n"
   ]
  },
  {
   "cell_type": "code",
   "execution_count": 11,
   "metadata": {},
   "outputs": [
    {
     "name": "stdout",
     "output_type": "stream",
     "text": [
      "Loaded 261057 image embeddings\n"
     ]
    }
   ],
   "source": [
    "image_embedding_file = os.path.join(embed_dir, \"effnet_tuned_polyvore.pkl\")\n",
    "\n",
    "with open(image_embedding_file, \"rb\") as fr:\n",
    "    image_embedding_dict = pickle.load(fr)\n",
    "print(f\"Loaded {len(image_embedding_dict)} image embeddings\")"
   ]
  },
  {
   "cell_type": "code",
   "execution_count": 13,
   "metadata": {},
   "outputs": [],
   "source": [
    "small_dict = {}\n",
    "count = 0\n",
    "for image in image_embedding_dict:\n",
    "    small_dict[image] = image_embedding_dict[image]\n",
    "    count += 1\n",
    "    if count > 10:\n",
    "        break\n",
    "\n",
    "with open(os.path.join(embed_dir, \"small_image_dict.pkl\"), \"wb\") as output_file:\n",
    "    pickle.dump(small_dict, output_file)"
   ]
  },
  {
   "cell_type": "code",
   "execution_count": 14,
   "metadata": {},
   "outputs": [
    {
     "data": {
      "text/plain": [
       "{'114082981': <tf.Tensor: shape=(1280,), dtype=float32, numpy=\n",
       " array([-0.04131459, -0.03822539, -0.11315762, ..., -0.05389776,\n",
       "        -0.09421513, -0.07536255], dtype=float32)>,\n",
       " '200162527': <tf.Tensor: shape=(1280,), dtype=float32, numpy=\n",
       " array([ 1.4164206e+00,  6.8301838e-03, -2.1706795e-04, ...,\n",
       "        -6.6406071e-02,  3.9901610e-02,  5.5101466e-01], dtype=float32)>,\n",
       " '129089366': <tf.Tensor: shape=(1280,), dtype=float32, numpy=\n",
       " array([ 0.03774948,  0.02974486, -0.01352629, ...,  0.18308279,\n",
       "        -0.1321953 , -0.05086534], dtype=float32)>,\n",
       " '206910887': <tf.Tensor: shape=(1280,), dtype=float32, numpy=\n",
       " array([ 0.0759145 , -0.02402982,  0.00596189, ...,  0.06850755,\n",
       "         0.63392633,  0.19167559], dtype=float32)>,\n",
       " '191335829': <tf.Tensor: shape=(1280,), dtype=float32, numpy=\n",
       " array([ 0.2983623 , -0.09408159, -0.04841552, ..., -0.05707994,\n",
       "        -0.03165482,  0.1299014 ], dtype=float32)>,\n",
       " '181327897': <tf.Tensor: shape=(1280,), dtype=float32, numpy=\n",
       " array([-0.04763994, -0.07115061, -0.11198168, ...,  0.05035784,\n",
       "        -0.0089735 ,  0.22069569], dtype=float32)>,\n",
       " '190129940': <tf.Tensor: shape=(1280,), dtype=float32, numpy=\n",
       " array([ 0.4354941 , -0.05154099,  0.24384746, ..., -0.04570726,\n",
       "         0.34066865,  0.03064904], dtype=float32)>,\n",
       " '114190222': <tf.Tensor: shape=(1280,), dtype=float32, numpy=\n",
       " array([ 0.34676665, -0.02634213,  0.31627536, ..., -0.04564965,\n",
       "         0.08202168,  0.03653639], dtype=float32)>,\n",
       " '128377889': <tf.Tensor: shape=(1280,), dtype=float32, numpy=\n",
       " array([ 0.2396979 , -0.04427946, -0.02948459, ..., -0.09849834,\n",
       "        -0.08843622, -0.09218416], dtype=float32)>,\n",
       " '212676450': <tf.Tensor: shape=(1280,), dtype=float32, numpy=\n",
       " array([ 0.33092138,  0.2574633 ,  0.37963042, ...,  0.15340474,\n",
       "        -0.12675866, -0.12753493], dtype=float32)>,\n",
       " '186775778': <tf.Tensor: shape=(1280,), dtype=float32, numpy=\n",
       " array([-0.12996039, -0.04123248,  0.04307359, ..., -0.09451418,\n",
       "        -0.06856503, -0.09418172], dtype=float32)>}"
      ]
     },
     "execution_count": 14,
     "metadata": {},
     "output_type": "execute_result"
    }
   ],
   "source": [
    "small_dict"
   ]
  },
  {
   "cell_type": "code",
   "execution_count": 15,
   "metadata": {},
   "outputs": [
    {
     "data": {
      "text/plain": [
       "251008"
      ]
     },
     "execution_count": 15,
     "metadata": {},
     "output_type": "execute_result"
    }
   ],
   "source": [
    "len(set(item_dict.values()))"
   ]
  },
  {
   "cell_type": "code",
   "execution_count": 16,
   "metadata": {},
   "outputs": [
    {
     "name": "stdout",
     "output_type": "stream",
     "text": [
      "Loaded 251008 text embeddings\n"
     ]
    }
   ],
   "source": [
    "text_embedding_file = os.path.join(embed_dir, \"bert_polyvore.pkl\")\n",
    "with open(text_embedding_file, \"rb\") as fr:\n",
    "    text_embedding_dict = pickle.load(fr)\n",
    "print(f\"Loaded {len(text_embedding_dict)} text embeddings\")"
   ]
  },
  {
   "cell_type": "code",
   "execution_count": 18,
   "metadata": {},
   "outputs": [
    {
     "name": "stderr",
     "output_type": "stream",
     "text": [
      "100%|██████████| 251008/251008 [02:17<00:00, 1823.30it/s]\n"
     ]
    }
   ],
   "source": [
    "with open(os.path.join(embed_dir, \"bert_polyvore.txt\"), \"w\") as fw:\n",
    "    for item in tqdm(text_embedding_dict):\n",
    "        vec = text_embedding_dict[item]\n",
    "        vec = \" \".join([str(x) for x in vec])\n",
    "        out = item + \"\\t\" + vec + \"\\n\"\n",
    "        fw.write(out)"
   ]
  },
  {
   "cell_type": "code",
   "execution_count": 19,
   "metadata": {},
   "outputs": [
    {
     "name": "stderr",
     "output_type": "stream",
     "text": [
      "100%|██████████| 261057/261057 [04:17<00:00, 1012.77it/s]\n"
     ]
    }
   ],
   "source": [
    "with open(os.path.join(embed_dir, \"effnet_tuned_polyvore.txt\"), \"w\") as fw:\n",
    "    for item in tqdm(image_embedding_dict):\n",
    "        vec = image_embedding_dict[item].numpy()\n",
    "        vec = \" \".join([str(x) for x in vec])\n",
    "        out = item + \"\\t\" + vec + \"\\n\"\n",
    "        fw.write(out)"
   ]
  },
  {
   "cell_type": "code",
   "execution_count": 26,
   "metadata": {},
   "outputs": [
    {
     "name": "stderr",
     "output_type": "stream",
     "text": [
      "/anaconda/envs/py37_tensorflow/lib/python3.7/site-packages/ipykernel_launcher.py:6: RuntimeWarning: divide by zero encountered in log\n",
      "  \n"
     ]
    },
    {
     "data": {
      "image/png": "[encoded data removed]",
      "text/plain": [
       "<Figure size 640x480 with 1 Axes>"
      ]
     },
     "metadata": {},
     "output_type": "display_data"
    }
   ],
   "source": [
    "import math\n",
    "import numpy as np\n",
    "import matplotlib.pyplot as plt\n",
    "\n",
    "x = np.linspace(-1, 1, 100)\n",
    "y = np.log(1-x)\n",
    "plt.plot(x,y)\n",
    "plt.show()"
   ]
  },
  {
   "cell_type": "markdown",
   "metadata": {},
   "source": [
    "## Create Small Samples (for AzureML)"
   ]
  },
  {
   "cell_type": "code",
   "execution_count": 1,
   "metadata": {},
   "outputs": [],
   "source": [
    "import os\n",
    "import json\n",
    "from collections import Counter\n",
    "from PIL import Image\n",
    "import pandas as pd\n",
    "from tqdm import tqdm\n",
    "import pickle\n",
    "\n",
    "import sys"
   ]
  },
  {
   "cell_type": "code",
   "execution_count": 2,
   "metadata": {},
   "outputs": [],
   "source": [
    "base_dir = \"/recsys_data/RecSys/fashion/polyvore-dataset/polyvore_outfits\"\n",
    "data_type = \"nondisjoint\" # \"nondisjoint\", \"disjoint\"\n",
    "train_dir = os.path.join(base_dir, data_type)\n",
    "image_dir = os.path.join(base_dir, \"images\")\n",
    "embed_dir = \"/recsys_data/RecSys/fashion/polyvore-dataset/precomputed\"\n",
    "train_json = \"train.json\"\n",
    "valid_json = \"valid.json\"\n",
    "test_json = \"test.json\"\n",
    "\n",
    "train_file = \"compatibility_train.txt\"\n",
    "valid_file = \"compatibility_valid.txt\"\n",
    "test_file = \"compatibility_test.txt\"\n",
    "item_file = \"polyvore_item_metadata.json\"\n",
    "outfit_file = \"polyvore_outfit_titles.json\"\n",
    "n_item = 100"
   ]
  },
  {
   "cell_type": "code",
   "execution_count": 3,
   "metadata": {},
   "outputs": [
    {
     "name": "stdout",
     "output_type": "stream",
     "text": [
      "Total 53306, 5000, 10000 outfits in train, validation and test split, respectively\n"
     ]
    }
   ],
   "source": [
    "with open(os.path.join(train_dir, train_json), 'r') as fr:\n",
    "    train_pos = json.load(fr)\n",
    "    \n",
    "with open(os.path.join(train_dir, valid_json), 'r') as fr:\n",
    "    valid_pos = json.load(fr)\n",
    "    \n",
    "with open(os.path.join(train_dir, test_json), 'r') as fr:\n",
    "    test_pos = json.load(fr)\n",
    "    \n",
    "with open(os.path.join(base_dir, item_file), 'r') as fr:\n",
    "    pv_items = json.load(fr)\n",
    "    \n",
    "with open(os.path.join(base_dir, outfit_file), 'r') as fr:\n",
    "    pv_outfits = json.load(fr)\n",
    "print(f\"Total {len(train_pos)}, {len(valid_pos)}, {len(test_pos)} outfits in train, validation and test split, respectively\")"
   ]
  },
  {
   "cell_type": "code",
   "execution_count": 4,
   "metadata": {},
   "outputs": [
    {
     "name": "stdout",
     "output_type": "stream",
     "text": [
      "Total 106612, 10000, 20000 examples in train, validation and test split, respectively\n"
     ]
    }
   ],
   "source": [
    "with open(os.path.join(train_dir, train_file), 'r') as fr:\n",
    "    train_X, train_y = [], []\n",
    "    for line in fr:\n",
    "        elems = line.strip().split()\n",
    "        train_y.append(elems[0])\n",
    "        train_X.append(elems[1:])\n",
    "\n",
    "with open(os.path.join(train_dir, valid_file), 'r') as fr:\n",
    "    valid_X, valid_y = [], []\n",
    "    for line in fr:\n",
    "        elems = line.strip().split()\n",
    "        valid_y.append(elems[0])\n",
    "        valid_X.append(elems[1:])\n",
    "\n",
    "with open(os.path.join(train_dir, test_file), 'r') as fr:\n",
    "    test_X, test_y = [], []\n",
    "    for line in fr:\n",
    "        elems = line.strip().split()\n",
    "        test_y.append(elems[0])\n",
    "        test_X.append(elems[1:])\n",
    "\n",
    "print(f\"Total {len(train_X)}, {len(valid_X)}, {len(test_X)} examples in train, validation and test split, respectively\")"
   ]
  },
  {
   "cell_type": "code",
   "execution_count": 5,
   "metadata": {},
   "outputs": [
    {
     "name": "stdout",
     "output_type": "stream",
     "text": [
      "284767\n",
      "311548\n",
      "365054\n"
     ]
    }
   ],
   "source": [
    "item_dict = {}\n",
    "for ii, outfit in enumerate(train_pos):\n",
    "    items = outfit['items']\n",
    "    mapped = train_X[ii]\n",
    "    item_dict.update({jj:kk['item_id'] for jj, kk in zip(mapped, items)})\n",
    "print(len(item_dict))\n",
    "\n",
    "for ii, outfit in enumerate(valid_pos):\n",
    "    items = outfit['items']\n",
    "    mapped = valid_X[ii]\n",
    "    item_dict.update({jj:kk['item_id'] for jj, kk in zip(mapped, items)})\n",
    "print(len(item_dict))\n",
    "\n",
    "for ii, outfit in enumerate(test_pos):\n",
    "    items = outfit['items']\n",
    "    mapped = test_X[ii]\n",
    "    item_dict.update({jj:kk['item_id'] for jj, kk in zip(mapped, items)})\n",
    "print(len(item_dict))"
   ]
  },
  {
   "cell_type": "code",
   "execution_count": 8,
   "metadata": {},
   "outputs": [
    {
     "name": "stdout",
     "output_type": "stream",
     "text": [
      "Total 535 items in the train data\n",
      "Total 1094 items ...\n",
      "Total 1611 items ...\n"
     ]
    }
   ],
   "source": [
    "new_train_file = \"compatibility_train_small.txt\"\n",
    "new_valid_file = \"compatibility_valid_small.txt\"\n",
    "new_test_file = \"compatibility_test_small.txt\"\n",
    "items_kept = set()\n",
    "\n",
    "count = 0\n",
    "with open(os.path.join(train_dir, new_train_file), 'w') as fw:\n",
    "    for x, y in zip(train_X, train_y):\n",
    "        items_kept |= set([item_dict[xi] for xi in x])\n",
    "        x_ = \" \".join([item_dict[xi] for xi in x])\n",
    "        fw.write(\"\\t\".join([x_, str(y)]) + \"\\n\")\n",
    "        count += 1\n",
    "        if count > n_item:\n",
    "            break\n",
    "print(f\"Total {len(items_kept)} items in the train data\")\n",
    "            \n",
    "count = 0\n",
    "with open(os.path.join(train_dir, new_valid_file), 'w') as fw:\n",
    "    for x, y in zip(valid_X, valid_y):\n",
    "        items_kept |= set([item_dict[xi] for xi in x])\n",
    "        x_ = \" \".join([item_dict[xi] for xi in x])\n",
    "        fw.write(\"\\t\".join([x_, str(y)]) + \"\\n\")\n",
    "        count += 1\n",
    "        if count > n_item:\n",
    "            break\n",
    "print(f\"Total {len(items_kept)} items ...\")\n",
    "\n",
    "count = 0\n",
    "with open(os.path.join(train_dir, new_test_file), 'w') as fw:\n",
    "    for x, y in zip(test_X, test_y):\n",
    "        items_kept |= set([item_dict[xi] for xi in x])\n",
    "        x_ = \" \".join([item_dict[xi] for xi in x])\n",
    "        fw.write(\"\\t\".join([x_, str(y)]) + \"\\n\")\n",
    "        count += 1\n",
    "        if count > n_item:\n",
    "            break\n",
    "print(f\"Total {len(items_kept)} items ...\")\n"
   ]
  },
  {
   "cell_type": "code",
   "execution_count": 10,
   "metadata": {},
   "outputs": [
    {
     "name": "stdout",
     "output_type": "stream",
     "text": [
      "Loaded 251008 text embeddings\n"
     ]
    }
   ],
   "source": [
    "text_embedding_file = os.path.join(embed_dir, \"bert_polyvore.pkl\")\n",
    "with open(text_embedding_file, \"rb\") as fr:\n",
    "    text_embedding_dict = pickle.load(fr)\n",
    "print(f\"Loaded {len(text_embedding_dict)} text embeddings\")\n",
    "\n",
    "new_text_embedding_file = os.path.join(embed_dir, \"bert_polyvore_small.pkl\")\n",
    "new_text_dict = {}\n",
    "for item in items_kept:\n",
    "    new_text_dict[item] = text_embedding_dict[item]\n",
    "    \n",
    "with open(new_text_embedding_file, 'wb') as fw:\n",
    "    pickle.dump(new_text_dict, fw)"
   ]
  },
  {
   "cell_type": "code",
   "execution_count": 11,
   "metadata": {},
   "outputs": [
    {
     "name": "stdout",
     "output_type": "stream",
     "text": [
      "Loaded 261057 image embeddings\n"
     ]
    }
   ],
   "source": [
    "image_embedding_file = os.path.join(embed_dir, \"effnet_tuned_polyvore.pkl\")\n",
    "\n",
    "with open(image_embedding_file, \"rb\") as fr:\n",
    "    image_embedding_dict = pickle.load(fr)\n",
    "print(f\"Loaded {len(image_embedding_dict)} image embeddings\")\n",
    "\n",
    "new_image_embedding_file = os.path.join(embed_dir, \"effnet_tuned_polyvore_small.pkl\")\n",
    "new_image_dict = {}\n",
    "for item in items_kept:\n",
    "    new_image_dict[item] = image_embedding_dict[item]\n",
    "    \n",
    "with open(new_image_embedding_file, 'wb') as fw:\n",
    "    pickle.dump(new_image_dict, fw)"
   ]
  },
  {
   "cell_type": "code",
   "execution_count": null,
   "metadata": {},
   "outputs": [],
   "source": []
  }
 ],
 "metadata": {
  "kernelspec": {
   "display_name": "Python 3",
   "language": "python",
   "name": "python3"
  },
  "language_info": {
   "codemirror_mode": {
    "name": "ipython",
    "version": 3
   },
   "file_extension": ".py",
   "mimetype": "text/x-python",
   "name": "python",
   "nbconvert_exporter": "python",
   "pygments_lexer": "ipython3",
   "version": "3.7.7"
  }
 },
 "nbformat": 4,
 "nbformat_minor": 4
}
