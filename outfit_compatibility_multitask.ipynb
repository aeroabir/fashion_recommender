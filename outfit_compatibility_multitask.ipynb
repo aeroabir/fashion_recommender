{
 "cells": [
  {
   "cell_type": "markdown",
   "metadata": {},
   "source": [
    "# Outfit Compatibility Prediction\n",
    "\n",
    "Multi-task approach"
   ]
  },
  {
   "cell_type": "code",
   "execution_count": 1,
   "metadata": {},
   "outputs": [],
   "source": [
    "%load_ext autoreload\n",
    "%autoreload 2"
   ]
  },
  {
   "cell_type": "code",
   "execution_count": 2,
   "metadata": {},
   "outputs": [
    {
     "name": "stdout",
     "output_type": "stream",
     "text": [
      "Populating the interactive namespace from numpy and matplotlib\n"
     ]
    }
   ],
   "source": [
    "import os\n",
    "import json\n",
    "from collections import Counter\n",
    "from PIL import Image\n",
    "import pandas as pd\n",
    "import tensorflow as tf\n",
    "from tensorflow import keras\n",
    "from tensorflow.keras import backend as K\n",
    "from tensorflow.keras.callbacks import EarlyStopping\n",
    "\n",
    "from tqdm import tqdm\n",
    "import pickle\n",
    "\n",
    "import sys\n",
    "# sys.path.insert(0, \"/recsys_data/RecSys/fashion/automl/efficientnetv2\")\n",
    "# import effnetv2_model\n",
    "\n",
    "%pylab inline\n",
    "import matplotlib.pyplot as plt"
   ]
  },
  {
   "cell_type": "code",
   "execution_count": 3,
   "metadata": {},
   "outputs": [],
   "source": [
    "base_dir = \"/recsys_data/RecSys/fashion/polyvore-dataset/polyvore_outfits\"\n",
    "data_type = \"disjoint\" # \"nondisjoint\"\n",
    "train_dir = os.path.join(base_dir, data_type)\n",
    "image_dir = os.path.join(base_dir, \"images\")\n",
    "train_json = \"train.json\"\n",
    "valid_json = \"valid.json\"\n",
    "test_json = \"test.json\"\n",
    "\n",
    "train_file = \"compatibility_train.txt\"\n",
    "valid_file = \"compatibility_valid.txt\"\n",
    "test_file = \"compatibility_test.txt\"\n",
    "item_file = \"polyvore_item_metadata.json\"\n",
    "outfit_file = \"polyvore_outfit_titles.json\"\n",
    "\n",
    "model_type = \"rnn\" #\"set-transformer\"\n",
    "include_text = True"
   ]
  },
  {
   "cell_type": "code",
   "execution_count": 4,
   "metadata": {},
   "outputs": [],
   "source": [
    "with open(os.path.join(train_dir, train_json), 'r') as fr:\n",
    "    train_pos = json.load(fr)\n",
    "    \n",
    "with open(os.path.join(train_dir, valid_json), 'r') as fr:\n",
    "    valid_pos = json.load(fr)\n",
    "    \n",
    "with open(os.path.join(train_dir, test_json), 'r') as fr:\n",
    "    test_pos = json.load(fr)\n",
    "    \n",
    "with open(os.path.join(base_dir, item_file), 'r') as fr:\n",
    "    pv_items = json.load(fr)\n",
    "    \n",
    "with open(os.path.join(base_dir, outfit_file), 'r') as fr:\n",
    "    pv_outfits = json.load(fr)\n"
   ]
  },
  {
   "cell_type": "code",
   "execution_count": 5,
   "metadata": {},
   "outputs": [],
   "source": [
    "with open(os.path.join(train_dir, train_file), 'r') as fr:\n",
    "    train_X, train_y = [], []\n",
    "    for line in fr:\n",
    "        elems = line.strip().split()\n",
    "        train_y.append(elems[0])\n",
    "        train_X.append(elems[1:])\n",
    "\n",
    "with open(os.path.join(train_dir, valid_file), 'r') as fr:\n",
    "    valid_X, valid_y = [], []\n",
    "    for line in fr:\n",
    "        elems = line.strip().split()\n",
    "        valid_y.append(elems[0])\n",
    "        valid_X.append(elems[1:])\n",
    "\n",
    "with open(os.path.join(train_dir, test_file), 'r') as fr:\n",
    "    test_X, test_y = [], []\n",
    "    for line in fr:\n",
    "        elems = line.strip().split()\n",
    "        test_y.append(elems[0])\n",
    "        test_X.append(elems[1:])\n"
   ]
  },
  {
   "cell_type": "code",
   "execution_count": 6,
   "metadata": {},
   "outputs": [
    {
     "name": "stdout",
     "output_type": "stream",
     "text": [
      "85935\n",
      "101223\n",
      "175485\n"
     ]
    }
   ],
   "source": [
    "item_dict = {}\n",
    "for ii, outfit in enumerate(train_pos):\n",
    "    items = outfit['items']\n",
    "    mapped = train_X[ii]\n",
    "    item_dict.update({jj:kk['item_id'] for jj, kk in zip(mapped, items)})\n",
    "print(len(item_dict))\n",
    "\n",
    "for ii, outfit in enumerate(valid_pos):\n",
    "    items = outfit['items']\n",
    "    mapped = valid_X[ii]\n",
    "    item_dict.update({jj:kk['item_id'] for jj, kk in zip(mapped, items)})\n",
    "print(len(item_dict))\n",
    "\n",
    "for ii, outfit in enumerate(test_pos):\n",
    "    items = outfit['items']\n",
    "    mapped = test_X[ii]\n",
    "    item_dict.update({jj:kk['item_id'] for jj, kk in zip(mapped, items)})\n",
    "print(len(item_dict))"
   ]
  },
  {
   "cell_type": "code",
   "execution_count": 7,
   "metadata": {},
   "outputs": [],
   "source": [
    "from rnn import build_multitask_rnn\n",
    "from graph import build_multitask_gat\n",
    "from build_model import build_multitask_set_transformer"
   ]
  },
  {
   "cell_type": "code",
   "execution_count": 10,
   "metadata": {},
   "outputs": [],
   "source": [
    "model_type = \"set-transformer\" # \"set-transformer\", \"rnn\"\n",
    "include_text = True\n",
    "contrastive_loss = False\n",
    "use_graphsage = False\n",
    "batch_size = 32\n",
    "max_seq_len = 8\n",
    "if use_graphsage:\n",
    "    image_embedding_dim = 50\n",
    "    image_embedding_file = \"graphsage_dict2_polyvore.pkl\"\n",
    "else:\n",
    "    image_embedding_dim = 1280\n",
    "    image_embedding_file = \"effnet_tuned_polyvore.pkl\""
   ]
  },
  {
   "cell_type": "code",
   "execution_count": 9,
   "metadata": {},
   "outputs": [
    {
     "data": {
      "text/plain": [
       "'2.2.0'"
      ]
     },
     "execution_count": 9,
     "metadata": {},
     "output_type": "execute_result"
    }
   ],
   "source": [
    "tf.__version__"
   ]
  },
  {
   "cell_type": "code",
   "execution_count": 11,
   "metadata": {},
   "outputs": [
    {
     "name": "stdout",
     "output_type": "stream",
     "text": [
      "Model: \"set_transformer\"\n",
      "__________________________________________________________________________________________________\n",
      "Layer (type)                    Output Shape         Param #     Connected to                     \n",
      "==================================================================================================\n",
      "input_1 (InputLayer)            [(None, 8, 1280)]    0                                            \n",
      "__________________________________________________________________________________________________\n",
      "input_2 (InputLayer)            [(None, 8, 768)]     0                                            \n",
      "__________________________________________________________________________________________________\n",
      "dense (Dense)                   (None, 8, 256)       327936      input_1[0][0]                    \n",
      "__________________________________________________________________________________________________\n",
      "dense_23 (Dense)                (None, 8, 256)       196864      input_2[0][0]                    \n",
      "__________________________________________________________________________________________________\n",
      "st_encoder (STEncoder)          (None, 8, 256)       1450496     dense[0][0]                      \n",
      "__________________________________________________________________________________________________\n",
      "st_encoder_1 (STEncoder)        (None, 8, 256)       1450496     dense_23[0][0]                   \n",
      "__________________________________________________________________________________________________\n",
      "concatenate (Concatenate)       (None, 8, 512)       0           st_encoder[0][0]                 \n",
      "                                                                 st_encoder_1[0][0]               \n",
      "__________________________________________________________________________________________________\n",
      "lstm (LSTM)                     (None, 32)           69760       concatenate[0][0]                \n",
      "__________________________________________________________________________________________________\n",
      "compatibility (Dense)           (None, 1)            33          lstm[0][0]                       \n",
      "__________________________________________________________________________________________________\n",
      "item_classification (TimeDistri (None, 8, 153)       78489       concatenate[0][0]                \n",
      "==================================================================================================\n",
      "Total params: 3,574,074\n",
      "Trainable params: 3,574,074\n",
      "Non-trainable params: 0\n",
      "__________________________________________________________________________________________________\n"
     ]
    }
   ],
   "source": [
    "if model_type == \"rnn\":\n",
    "    model = build_multitask_rnn(max_seq_len, \n",
    "                                image_embedding_dim,\n",
    "                                num_classes=2,\n",
    "                                num_layers=1,\n",
    "                                d_model=512,\n",
    "                                rnn=\"bilstm\",\n",
    "                                final_activation=\"sigmoid\",\n",
    "                                merge_activation=\"tanh\", \n",
    "                                include_text=include_text\n",
    "                                )\n",
    "    \n",
    "elif model_type == \"transformer\":\n",
    "    model = build_multitask_transformer(max_seq_len, \n",
    "                                         image_embedding_dim,\n",
    "                                         num_layers=1,\n",
    "                                         d_model=64,\n",
    "                                         num_heads=1,\n",
    "                                         dff=32,\n",
    "                                         rate=0.0,\n",
    "                                         include_text=include_text,\n",
    "                                         inp_dim2=768,\n",
    "                                         num_classes=2,\n",
    "                                         lstm_dim=32,\n",
    "                                         embedding_activation=\"linear\",\n",
    "                                         lstm_activation=\"linear\",\n",
    "                                         final_activation=\"sigmoid\"\n",
    "                                        )\n",
    "elif model_type == \"set-transformer\":\n",
    "    model = build_multitask_set_transformer(max_seq_len, \n",
    "                                            image_embedding_dim, \n",
    "                                            num_layers=3,\n",
    "                                            d_model=256,\n",
    "                                            num_heads=1,\n",
    "                                            dff=32,\n",
    "                                            num_classes=2,\n",
    "                                            lstm_dim=32,\n",
    "                                            include_text=include_text,\n",
    "                                            inp_dim2=768,\n",
    "                                            first_activation=\"tanh\",\n",
    "                                            embedding_activation=\"tanh\",\n",
    "                                            lstm_activation=\"tanh\",\n",
    "                                            final_activation=\"sigmoid\",\n",
    "                                            add_contrastive_loss=contrastive_loss,\n",
    "                                           )\n",
    "elif model_type == \"gat\":\n",
    "    model = build_multitask_gat(max_seq_len, \n",
    "                                image_embedding_dim,\n",
    "                                num_classes=2,\n",
    "                                num_layers=1,\n",
    "                                num_heads=8,\n",
    "                                hidden_units=100,\n",
    "                                final_activation=\"sigmoid\",\n",
    "                                merge_activation=\"tanh\", \n",
    "                                include_text=include_text)\n",
    "    \n",
    "model.summary()"
   ]
  },
  {
   "cell_type": "code",
   "execution_count": 12,
   "metadata": {},
   "outputs": [
    {
     "data": {
      "text/plain": [
       "153"
      ]
     },
     "execution_count": 12,
     "metadata": {},
     "output_type": "execute_result"
    }
   ],
   "source": [
    "all_item_categories = set([pv_items[item]['category_id'] for item in pv_items])\n",
    "len(all_item_categories)"
   ]
  },
  {
   "cell_type": "code",
   "execution_count": 13,
   "metadata": {},
   "outputs": [],
   "source": [
    "label_renum_dict = {}\n",
    "for ii, k in enumerate(all_item_categories):\n",
    "    label_renum_dict[k] = ii"
   ]
  },
  {
   "cell_type": "code",
   "execution_count": 14,
   "metadata": {},
   "outputs": [],
   "source": [
    "# keras.utils.plot_model(model)\n",
    "from data_process import CustomDataGen\n",
    "train_gen = CustomDataGen(train_X, train_y, \n",
    "                          item_dict, \n",
    "                          pv_items, \n",
    "                          image_dir, \n",
    "                          batch_size=batch_size,\n",
    "                          max_len=max_seq_len,\n",
    "                          only_image=not include_text,\n",
    "                          image_embedding=True,\n",
    "                          image_embedding_dim=image_embedding_dim,\n",
    "                          image_embedding_file=image_embedding_file,\n",
    "                          text_embedding_file=\"bert_polyvore.pkl\",\n",
    "                          return_item_categories=True,\n",
    "                          return_negative_samples=contrastive_loss,\n",
    "                          number_negative_samples=8,\n",
    "                          label_dict=label_renum_dict,\n",
    "                         )\n",
    "\n",
    "valid_gen = CustomDataGen(valid_X, valid_y, \n",
    "                          item_dict, \n",
    "                          pv_items, \n",
    "                          image_dir, \n",
    "                          batch_size=batch_size,\n",
    "                          max_len=max_seq_len,\n",
    "                          only_image=not include_text,\n",
    "                          image_embedding=True,\n",
    "                          image_embedding_dim=image_embedding_dim,\n",
    "                          image_embedding_file=image_embedding_file,\n",
    "                          text_embedding_file=\"bert_polyvore.pkl\",\n",
    "                          return_item_categories=True,\n",
    "                          return_negative_samples=contrastive_loss,\n",
    "                          number_negative_samples=8,\n",
    "                          label_dict=label_renum_dict,\n",
    "                         )"
   ]
  },
  {
   "cell_type": "code",
   "execution_count": 15,
   "metadata": {},
   "outputs": [
    {
     "name": "stdout",
     "output_type": "stream",
     "text": [
      "[(32, 8, 1280), (32, 8, 768)] [(32,), (32, 8)]\n",
      "[1 1 1 0 1 1 1 1 1 0 1 1 1 0 0 1 1 1 1 1 0 0 0 1 1 1 0 0 0 0 0 0]\n",
      "[(32, 8, 1280), (32, 8, 768)] [(32,), (32, 8)]\n",
      "[1 0 1 1 0 1 0 1 1 0 0 1 0 1 1 0 0 1 0 1 0 0 1 0 1 0 1 1 1 0 0 1]\n",
      "[(32, 8, 1280), (32, 8, 768)] [(32,), (32, 8)]\n",
      "[1 0 1 0 0 1 0 1 0 1 0 0 0 1 0 1 0 1 1 1 0 1 0 1 0 1 1 1 0 0 1 0]\n",
      "[(32, 8, 1280), (32, 8, 768)] [(32,), (32, 8)]\n",
      "[0 0 1 0 0 1 1 0 1 1 0 0 0 1 1 1 1 0 0 0 0 1 1 0 1 1 1 0 0 1 1 0]\n",
      "[(32, 8, 1280), (32, 8, 768)] [(32,), (32, 8)]\n",
      "[0 0 0 0 1 0 1 1 1 1 1 0 1 1 1 1 0 1 0 0 0 1 0 1 0 0 1 1 0 0 1 0]\n",
      "[(32, 8, 1280), (32, 8, 768)] [(32,), (32, 8)]\n",
      "[1 0 1 1 1 0 0 0 0 1 1 0 0 1 1 0 1 1 1 0 1 0 1 0 1 1 0 1 0 1 0 1]\n",
      "[(32, 8, 1280), (32, 8, 768)] [(32,), (32, 8)]\n",
      "[1 1 1 1 0 0 1 1 1 1 0 0 1 0 0 1 0 1 1 1 1 1 0 1 0 0 0 1 1 1 0 1]\n",
      "[(32, 8, 1280), (32, 8, 768)] [(32,), (32, 8)]\n",
      "[0 0 1 1 1 1 0 0 1 0 0 1 0 0 1 0 0 1 0 0 1 1 0 1 1 0 1 0 0 1 0 0]\n",
      "[(32, 8, 1280), (32, 8, 768)] [(32,), (32, 8)]\n",
      "[0 0 0 1 0 0 0 1 1 1 0 1 0 0 1 0 0 0 1 0 0 0 1 1 1 1 1 0 0 0 0 0]\n",
      "[(32, 8, 1280), (32, 8, 768)] [(32,), (32, 8)]\n",
      "[1 0 0 0 0 0 1 1 0 1 1 1 0 1 0 1 1 0 0 0 0 0 0 0 1 1 0 0 0 1 1 1]\n"
     ]
    }
   ],
   "source": [
    "for ii in range(10):\n",
    "    inps, targs = train_gen[ii]\n",
    "    print([x.shape for x in inps], [y.shape for y in targs])\n",
    "    print(targs[0])"
   ]
  },
  {
   "cell_type": "code",
   "execution_count": 16,
   "metadata": {},
   "outputs": [],
   "source": [
    "def sparse_crossentropy_masked(y_true, y_pred):\n",
    "    y_true_masked = tf.boolean_mask(y_true, tf.not_equal(y_true, -1))\n",
    "    y_pred_masked = tf.boolean_mask(y_pred, tf.not_equal(y_true, -1))\n",
    "    return K.mean(K.sparse_categorical_crossentropy(y_true_masked, y_pred_masked))\n"
   ]
  },
  {
   "cell_type": "code",
   "execution_count": 17,
   "metadata": {},
   "outputs": [],
   "source": [
    "# yhat = model(x)\n",
    "# [y.shape for y in yhat]\n",
    "# scce = tf.keras.losses.SparseCategoricalCrossentropy()\n",
    "# scce(y[1], yh2).numpy()\n",
    "# sparse_crossentropy_masked(y[1], yh2).numpy()"
   ]
  },
  {
   "cell_type": "code",
   "execution_count": 17,
   "metadata": {},
   "outputs": [
    {
     "name": "stdout",
     "output_type": "stream",
     "text": [
      "Epoch 1/100\n",
      "1063/1063 [==============================] - 38s 36ms/step - loss: 1.3476 - compatibility_loss: 0.6972 - item_classification_loss: 0.6505 - compatibility_auc: 0.5021 - item_classification_accuracy: 0.5258 - val_loss: 1.0461 - val_compatibility_loss: 0.6916 - val_item_classification_loss: 0.3545 - val_compatibility_auc: 0.5386 - val_item_classification_accuracy: 0.5634\n",
      "Epoch 2/100\n",
      "1063/1063 [==============================] - 34s 32ms/step - loss: 0.9640 - compatibility_loss: 0.6903 - item_classification_loss: 0.2737 - compatibility_auc: 0.5426 - item_classification_accuracy: 0.5738 - val_loss: 0.9893 - val_compatibility_loss: 0.6861 - val_item_classification_loss: 0.3032 - val_compatibility_auc: 0.5694 - val_item_classification_accuracy: 0.5716\n",
      "Epoch 3/100\n",
      "1063/1063 [==============================] - 35s 33ms/step - loss: 0.8821 - compatibility_loss: 0.6779 - item_classification_loss: 0.2042 - compatibility_auc: 0.5992 - item_classification_accuracy: 0.5874 - val_loss: 0.9577 - val_compatibility_loss: 0.6670 - val_item_classification_loss: 0.2907 - val_compatibility_auc: 0.6314 - val_item_classification_accuracy: 0.5730\n",
      "Epoch 4/100\n",
      "1063/1063 [==============================] - 34s 32ms/step - loss: 0.8119 - compatibility_loss: 0.6531 - item_classification_loss: 0.1589 - compatibility_auc: 0.6601 - item_classification_accuracy: 0.5963 - val_loss: 0.9245 - val_compatibility_loss: 0.6518 - val_item_classification_loss: 0.2727 - val_compatibility_auc: 0.6597 - val_item_classification_accuracy: 0.5788\n",
      "Epoch 5/100\n",
      "1063/1063 [==============================] - 35s 33ms/step - loss: 0.7520 - compatibility_loss: 0.6255 - item_classification_loss: 0.1265 - compatibility_auc: 0.7060 - item_classification_accuracy: 0.6033 - val_loss: 0.9291 - val_compatibility_loss: 0.6361 - val_item_classification_loss: 0.2930 - val_compatibility_auc: 0.6884 - val_item_classification_accuracy: 0.5756\n",
      "Epoch 6/100\n",
      "1063/1063 [==============================] - 34s 32ms/step - loss: 0.6983 - compatibility_loss: 0.5952 - item_classification_loss: 0.1031 - compatibility_auc: 0.7472 - item_classification_accuracy: 0.6085 - val_loss: 0.9207 - val_compatibility_loss: 0.6279 - val_item_classification_loss: 0.2928 - val_compatibility_auc: 0.7021 - val_item_classification_accuracy: 0.5780\n",
      "Epoch 7/100\n",
      "1063/1063 [==============================] - 35s 33ms/step - loss: 0.6421 - compatibility_loss: 0.5570 - item_classification_loss: 0.0851 - compatibility_auc: 0.7893 - item_classification_accuracy: 0.6126 - val_loss: 0.9346 - val_compatibility_loss: 0.6237 - val_item_classification_loss: 0.3110 - val_compatibility_auc: 0.7148 - val_item_classification_accuracy: 0.5759\n",
      "Epoch 8/100\n",
      "1063/1063 [==============================] - 34s 32ms/step - loss: 0.5886 - compatibility_loss: 0.5177 - item_classification_loss: 0.0709 - compatibility_auc: 0.8255 - item_classification_accuracy: 0.6155 - val_loss: 0.9507 - val_compatibility_loss: 0.6328 - val_item_classification_loss: 0.3179 - val_compatibility_auc: 0.7121 - val_item_classification_accuracy: 0.5761\n",
      "Epoch 9/100\n",
      "1063/1063 [==============================] - 35s 33ms/step - loss: 0.5331 - compatibility_loss: 0.4729 - item_classification_loss: 0.0601 - compatibility_auc: 0.8594 - item_classification_accuracy: 0.6176 - val_loss: 0.9683 - val_compatibility_loss: 0.6385 - val_item_classification_loss: 0.3298 - val_compatibility_auc: 0.7198 - val_item_classification_accuracy: 0.5777\n",
      "Epoch 10/100\n",
      "1063/1063 [==============================] - 34s 32ms/step - loss: 0.4740 - compatibility_loss: 0.4204 - item_classification_loss: 0.0535 - compatibility_auc: 0.8936 - item_classification_accuracy: 0.6190 - val_loss: 0.9930 - val_compatibility_loss: 0.6579 - val_item_classification_loss: 0.3351 - val_compatibility_auc: 0.7206 - val_item_classification_accuracy: 0.5778\n",
      "Epoch 11/100\n",
      "1063/1063 [==============================] - 35s 33ms/step - loss: 0.4189 - compatibility_loss: 0.3696 - item_classification_loss: 0.0493 - compatibility_auc: 0.9201 - item_classification_accuracy: 0.6197 - val_loss: 1.0318 - val_compatibility_loss: 0.6754 - val_item_classification_loss: 0.3564 - val_compatibility_auc: 0.7237 - val_item_classification_accuracy: 0.5763\n",
      "Epoch 12/100\n",
      "1063/1063 [==============================] - 35s 33ms/step - loss: 0.3596 - compatibility_loss: 0.3159 - item_classification_loss: 0.0437 - compatibility_auc: 0.9436 - item_classification_accuracy: 0.6210 - val_loss: 1.0722 - val_compatibility_loss: 0.7095 - val_item_classification_loss: 0.3627 - val_compatibility_auc: 0.7321 - val_item_classification_accuracy: 0.5762\n",
      "Epoch 13/100\n",
      "1063/1063 [==============================] - 35s 33ms/step - loss: 0.3080 - compatibility_loss: 0.2687 - item_classification_loss: 0.0393 - compatibility_auc: 0.9601 - item_classification_accuracy: 0.6219 - val_loss: 1.1527 - val_compatibility_loss: 0.7777 - val_item_classification_loss: 0.3750 - val_compatibility_auc: 0.7208 - val_item_classification_accuracy: 0.5761\n",
      "Epoch 14/100\n",
      "1063/1063 [==============================] - 34s 32ms/step - loss: 0.2559 - compatibility_loss: 0.2200 - item_classification_loss: 0.0359 - compatibility_auc: 0.9741 - item_classification_accuracy: 0.6226 - val_loss: 1.1902 - val_compatibility_loss: 0.8142 - val_item_classification_loss: 0.3759 - val_compatibility_auc: 0.7243 - val_item_classification_accuracy: 0.5757\n",
      "Epoch 15/100\n",
      "1063/1063 [==============================] - 35s 33ms/step - loss: 0.2187 - compatibility_loss: 0.1854 - item_classification_loss: 0.0333 - compatibility_auc: 0.9817 - item_classification_accuracy: 0.6230 - val_loss: 1.2131 - val_compatibility_loss: 0.8270 - val_item_classification_loss: 0.3861 - val_compatibility_auc: 0.7271 - val_item_classification_accuracy: 0.5758\n",
      "Epoch 16/100\n",
      "1063/1063 [==============================] - 34s 32ms/step - loss: 0.1947 - compatibility_loss: 0.1628 - item_classification_loss: 0.0319 - compatibility_auc: 0.9860 - item_classification_accuracy: 0.6231 - val_loss: 1.3020 - val_compatibility_loss: 0.9063 - val_item_classification_loss: 0.3957 - val_compatibility_auc: 0.7199 - val_item_classification_accuracy: 0.5756\n",
      "Epoch 17/100\n",
      "1063/1063 [==============================] - 36s 33ms/step - loss: 0.1695 - compatibility_loss: 0.1395 - item_classification_loss: 0.0300 - compatibility_auc: 0.9896 - item_classification_accuracy: 0.6234 - val_loss: 1.3167 - val_compatibility_loss: 0.9094 - val_item_classification_loss: 0.4073 - val_compatibility_auc: 0.7302 - val_item_classification_accuracy: 0.5746\n",
      "Epoch 18/100\n",
      "1063/1063 [==============================] - 35s 33ms/step - loss: 0.1588 - compatibility_loss: 0.1293 - item_classification_loss: 0.0296 - compatibility_auc: 0.9909 - item_classification_accuracy: 0.6234 - val_loss: 1.4108 - val_compatibility_loss: 0.9962 - val_item_classification_loss: 0.4146 - val_compatibility_auc: 0.7277 - val_item_classification_accuracy: 0.5762\n",
      "Epoch 19/100\n",
      "1063/1063 [==============================] - 35s 33ms/step - loss: 0.1369 - compatibility_loss: 0.1093 - item_classification_loss: 0.0275 - compatibility_auc: 0.9937 - item_classification_accuracy: 0.6238 - val_loss: 1.4324 - val_compatibility_loss: 1.0143 - val_item_classification_loss: 0.4181 - val_compatibility_auc: 0.7274 - val_item_classification_accuracy: 0.5756\n",
      "Epoch 20/100\n",
      "1063/1063 [==============================] - 35s 33ms/step - loss: 0.1284 - compatibility_loss: 0.1024 - item_classification_loss: 0.0260 - compatibility_auc: 0.9940 - item_classification_accuracy: 0.6241 - val_loss: 1.4612 - val_compatibility_loss: 1.0244 - val_item_classification_loss: 0.4369 - val_compatibility_auc: 0.7232 - val_item_classification_accuracy: 0.5725\n",
      "Epoch 21/100\n",
      "1063/1063 [==============================] - 35s 33ms/step - loss: 0.1352 - compatibility_loss: 0.1070 - item_classification_loss: 0.0282 - compatibility_auc: 0.9935 - item_classification_accuracy: 0.6234 - val_loss: 1.5018 - val_compatibility_loss: 1.0708 - val_item_classification_loss: 0.4310 - val_compatibility_auc: 0.7271 - val_item_classification_accuracy: 0.5750\n",
      "Epoch 22/100\n"
     ]
    },
    {
     "name": "stdout",
     "output_type": "stream",
     "text": [
      "1063/1063 [==============================] - 34s 32ms/step - loss: 0.1211 - compatibility_loss: 0.0962 - item_classification_loss: 0.0250 - compatibility_auc: 0.9945 - item_classification_accuracy: 0.6241 - val_loss: 1.5281 - val_compatibility_loss: 1.0891 - val_item_classification_loss: 0.4390 - val_compatibility_auc: 0.7210 - val_item_classification_accuracy: 0.5749\n",
      "Epoch 23/100\n",
      "1063/1063 [==============================] - 35s 33ms/step - loss: 0.1070 - compatibility_loss: 0.0836 - item_classification_loss: 0.0234 - compatibility_auc: 0.9959 - item_classification_accuracy: 0.6245 - val_loss: 1.5234 - val_compatibility_loss: 1.0899 - val_item_classification_loss: 0.4335 - val_compatibility_auc: 0.7331 - val_item_classification_accuracy: 0.5754\n",
      "Epoch 24/100\n",
      "1063/1063 [==============================] - 35s 33ms/step - loss: 0.1152 - compatibility_loss: 0.0912 - item_classification_loss: 0.0240 - compatibility_auc: 0.9948 - item_classification_accuracy: 0.6242 - val_loss: 1.5515 - val_compatibility_loss: 1.0999 - val_item_classification_loss: 0.4516 - val_compatibility_auc: 0.7235 - val_item_classification_accuracy: 0.5745\n",
      "Epoch 25/100\n",
      "1063/1063 [==============================] - 34s 32ms/step - loss: 0.1030 - compatibility_loss: 0.0798 - item_classification_loss: 0.0232 - compatibility_auc: 0.9962 - item_classification_accuracy: 0.6243 - val_loss: 1.5718 - val_compatibility_loss: 1.1184 - val_item_classification_loss: 0.4534 - val_compatibility_auc: 0.7317 - val_item_classification_accuracy: 0.5745\n",
      "Epoch 26/100\n",
      "1063/1063 [==============================] - 34s 32ms/step - loss: 0.1091 - compatibility_loss: 0.0852 - item_classification_loss: 0.0239 - compatibility_auc: 0.9955 - item_classification_accuracy: 0.6241 - val_loss: 1.6423 - val_compatibility_loss: 1.1944 - val_item_classification_loss: 0.4479 - val_compatibility_auc: 0.7318 - val_item_classification_accuracy: 0.5757\n",
      "Epoch 27/100\n",
      "1063/1063 [==============================] - 34s 32ms/step - loss: 0.0875 - compatibility_loss: 0.0673 - item_classification_loss: 0.0202 - compatibility_auc: 0.9971 - item_classification_accuracy: 0.6250 - val_loss: 1.6536 - val_compatibility_loss: 1.1892 - val_item_classification_loss: 0.4644 - val_compatibility_auc: 0.7240 - val_item_classification_accuracy: 0.5751\n",
      "Epoch 28/100\n",
      "1063/1063 [==============================] - 34s 32ms/step - loss: 0.0906 - compatibility_loss: 0.0695 - item_classification_loss: 0.0211 - compatibility_auc: 0.9968 - item_classification_accuracy: 0.6245 - val_loss: 1.6921 - val_compatibility_loss: 1.2241 - val_item_classification_loss: 0.4680 - val_compatibility_auc: 0.7232 - val_item_classification_accuracy: 0.5741\n",
      "Epoch 29/100\n",
      "1063/1063 [==============================] - 36s 34ms/step - loss: 0.1003 - compatibility_loss: 0.0774 - item_classification_loss: 0.0229 - compatibility_auc: 0.9961 - item_classification_accuracy: 0.6242 - val_loss: 1.6649 - val_compatibility_loss: 1.1981 - val_item_classification_loss: 0.4668 - val_compatibility_auc: 0.7262 - val_item_classification_accuracy: 0.5737\n",
      "Epoch 30/100\n",
      "1063/1063 [==============================] - 35s 33ms/step - loss: 0.0986 - compatibility_loss: 0.0765 - item_classification_loss: 0.0221 - compatibility_auc: 0.9961 - item_classification_accuracy: 0.6244 - val_loss: 1.6406 - val_compatibility_loss: 1.1714 - val_item_classification_loss: 0.4692 - val_compatibility_auc: 0.7312 - val_item_classification_accuracy: 0.5736\n",
      "Epoch 31/100\n",
      "1063/1063 [==============================] - 35s 33ms/step - loss: 0.0783 - compatibility_loss: 0.0596 - item_classification_loss: 0.0187 - compatibility_auc: 0.9975 - item_classification_accuracy: 0.6252 - val_loss: 1.6837 - val_compatibility_loss: 1.2082 - val_item_classification_loss: 0.4754 - val_compatibility_auc: 0.7203 - val_item_classification_accuracy: 0.5726\n",
      "Epoch 32/100\n",
      "1063/1063 [==============================] - 35s 33ms/step - loss: 0.0864 - compatibility_loss: 0.0665 - item_classification_loss: 0.0199 - compatibility_auc: 0.9969 - item_classification_accuracy: 0.6248 - val_loss: 1.7261 - val_compatibility_loss: 1.2583 - val_item_classification_loss: 0.4678 - val_compatibility_auc: 0.7221 - val_item_classification_accuracy: 0.5759\n",
      "Epoch 33/100\n",
      "1063/1063 [==============================] - 35s 33ms/step - loss: 0.0855 - compatibility_loss: 0.0649 - item_classification_loss: 0.0206 - compatibility_auc: 0.9972 - item_classification_accuracy: 0.6245 - val_loss: 1.7367 - val_compatibility_loss: 1.2618 - val_item_classification_loss: 0.4749 - val_compatibility_auc: 0.7226 - val_item_classification_accuracy: 0.5744\n",
      "Epoch 34/100\n",
      "1063/1063 [==============================] - 36s 33ms/step - loss: 0.0843 - compatibility_loss: 0.0649 - item_classification_loss: 0.0195 - compatibility_auc: 0.9971 - item_classification_accuracy: 0.6249 - val_loss: 1.7398 - val_compatibility_loss: 1.2652 - val_item_classification_loss: 0.4746 - val_compatibility_auc: 0.7253 - val_item_classification_accuracy: 0.5753\n",
      "Epoch 35/100\n",
      "1063/1063 [==============================] - 36s 33ms/step - loss: 0.0786 - compatibility_loss: 0.0592 - item_classification_loss: 0.0193 - compatibility_auc: 0.9976 - item_classification_accuracy: 0.6248 - val_loss: 1.7472 - val_compatibility_loss: 1.2664 - val_item_classification_loss: 0.4807 - val_compatibility_auc: 0.7301 - val_item_classification_accuracy: 0.5749\n",
      "Epoch 36/100\n",
      "1063/1063 [==============================] - 34s 32ms/step - loss: 0.0736 - compatibility_loss: 0.0560 - item_classification_loss: 0.0177 - compatibility_auc: 0.9978 - item_classification_accuracy: 0.6252 - val_loss: 1.7604 - val_compatibility_loss: 1.2705 - val_item_classification_loss: 0.4899 - val_compatibility_auc: 0.7299 - val_item_classification_accuracy: 0.5746\n",
      "Epoch 37/100\n",
      "1063/1063 [==============================] - 35s 32ms/step - loss: 0.0684 - compatibility_loss: 0.0513 - item_classification_loss: 0.0171 - compatibility_auc: 0.9981 - item_classification_accuracy: 0.6254 - val_loss: 1.7600 - val_compatibility_loss: 1.2743 - val_item_classification_loss: 0.4858 - val_compatibility_auc: 0.7260 - val_item_classification_accuracy: 0.5751\n",
      "Epoch 38/100\n",
      "1063/1063 [==============================] - 34s 32ms/step - loss: 0.0826 - compatibility_loss: 0.0630 - item_classification_loss: 0.0196 - compatibility_auc: 0.9972 - item_classification_accuracy: 0.6247 - val_loss: 1.7404 - val_compatibility_loss: 1.2452 - val_item_classification_loss: 0.4952 - val_compatibility_auc: 0.7257 - val_item_classification_accuracy: 0.5735\n",
      "Epoch 39/100\n",
      "1063/1063 [==============================] - 34s 32ms/step - loss: 0.0797 - compatibility_loss: 0.0618 - item_classification_loss: 0.0180 - compatibility_auc: 0.9973 - item_classification_accuracy: 0.6249 - val_loss: 1.8026 - val_compatibility_loss: 1.3082 - val_item_classification_loss: 0.4944 - val_compatibility_auc: 0.7272 - val_item_classification_accuracy: 0.5749\n",
      "Epoch 40/100\n",
      "1063/1063 [==============================] - 35s 33ms/step - loss: 0.0679 - compatibility_loss: 0.0505 - item_classification_loss: 0.0174 - compatibility_auc: 0.9980 - item_classification_accuracy: 0.6252 - val_loss: 1.8006 - val_compatibility_loss: 1.3017 - val_item_classification_loss: 0.4988 - val_compatibility_auc: 0.7210 - val_item_classification_accuracy: 0.5738\n",
      "Epoch 41/100\n",
      "1063/1063 [==============================] - 35s 32ms/step - loss: 0.0823 - compatibility_loss: 0.0632 - item_classification_loss: 0.0191 - compatibility_auc: 0.9972 - item_classification_accuracy: 0.6248 - val_loss: 1.8365 - val_compatibility_loss: 1.3262 - val_item_classification_loss: 0.5103 - val_compatibility_auc: 0.7233 - val_item_classification_accuracy: 0.5734\n",
      "Epoch 42/100\n",
      "1063/1063 [==============================] - 35s 33ms/step - loss: 0.0577 - compatibility_loss: 0.0430 - item_classification_loss: 0.0147 - compatibility_auc: 0.9987 - item_classification_accuracy: 0.6257 - val_loss: 1.8639 - val_compatibility_loss: 1.3555 - val_item_classification_loss: 0.5084 - val_compatibility_auc: 0.7260 - val_item_classification_accuracy: 0.5744\n",
      "Epoch 43/100\n"
     ]
    },
    {
     "name": "stdout",
     "output_type": "stream",
     "text": [
      "1063/1063 [==============================] - 34s 32ms/step - loss: 0.0641 - compatibility_loss: 0.0478 - item_classification_loss: 0.0162 - compatibility_auc: 0.9984 - item_classification_accuracy: 0.6253 - val_loss: 1.8147 - val_compatibility_loss: 1.3144 - val_item_classification_loss: 0.5003 - val_compatibility_auc: 0.7283 - val_item_classification_accuracy: 0.5751\n",
      "Epoch 44/100\n",
      "1063/1063 [==============================] - 35s 33ms/step - loss: 0.0696 - compatibility_loss: 0.0521 - item_classification_loss: 0.0174 - compatibility_auc: 0.9980 - item_classification_accuracy: 0.6251 - val_loss: 1.9177 - val_compatibility_loss: 1.4214 - val_item_classification_loss: 0.4962 - val_compatibility_auc: 0.7240 - val_item_classification_accuracy: 0.5758\n",
      "Epoch 45/100\n",
      "1063/1063 [==============================] - 35s 33ms/step - loss: 0.0737 - compatibility_loss: 0.0564 - item_classification_loss: 0.0173 - compatibility_auc: 0.9975 - item_classification_accuracy: 0.6251 - val_loss: 1.9190 - val_compatibility_loss: 1.4135 - val_item_classification_loss: 0.5056 - val_compatibility_auc: 0.7246 - val_item_classification_accuracy: 0.5751\n",
      "Epoch 46/100\n",
      "1063/1063 [==============================] - 35s 33ms/step - loss: 0.0657 - compatibility_loss: 0.0498 - item_classification_loss: 0.0160 - compatibility_auc: 0.9981 - item_classification_accuracy: 0.6254 - val_loss: 1.8647 - val_compatibility_loss: 1.3410 - val_item_classification_loss: 0.5237 - val_compatibility_auc: 0.7334 - val_item_classification_accuracy: 0.5740\n",
      "Epoch 47/100\n",
      "1063/1063 [==============================] - 34s 32ms/step - loss: 0.0664 - compatibility_loss: 0.0500 - item_classification_loss: 0.0163 - compatibility_auc: 0.9982 - item_classification_accuracy: 0.6253 - val_loss: 1.9010 - val_compatibility_loss: 1.3841 - val_item_classification_loss: 0.5168 - val_compatibility_auc: 0.7218 - val_item_classification_accuracy: 0.5738\n",
      "Epoch 48/100\n",
      "1063/1063 [==============================] - 35s 33ms/step - loss: 0.0690 - compatibility_loss: 0.0526 - item_classification_loss: 0.0163 - compatibility_auc: 0.9980 - item_classification_accuracy: 0.6253 - val_loss: 1.9119 - val_compatibility_loss: 1.3923 - val_item_classification_loss: 0.5197 - val_compatibility_auc: 0.7224 - val_item_classification_accuracy: 0.5731\n",
      "Epoch 49/100\n",
      "1063/1063 [==============================] - 34s 32ms/step - loss: 0.0540 - compatibility_loss: 0.0405 - item_classification_loss: 0.0135 - compatibility_auc: 0.9988 - item_classification_accuracy: 0.6259 - val_loss: 1.9335 - val_compatibility_loss: 1.4088 - val_item_classification_loss: 0.5247 - val_compatibility_auc: 0.7304 - val_item_classification_accuracy: 0.5741\n",
      "Epoch 50/100\n",
      "1063/1063 [==============================] - 34s 32ms/step - loss: 0.0619 - compatibility_loss: 0.0462 - item_classification_loss: 0.0158 - compatibility_auc: 0.9984 - item_classification_accuracy: 0.6254 - val_loss: 1.8827 - val_compatibility_loss: 1.3654 - val_item_classification_loss: 0.5173 - val_compatibility_auc: 0.7272 - val_item_classification_accuracy: 0.5753\n",
      "Epoch 51/100\n",
      "1063/1063 [==============================] - 35s 33ms/step - loss: 0.0647 - compatibility_loss: 0.0490 - item_classification_loss: 0.0157 - compatibility_auc: 0.9981 - item_classification_accuracy: 0.6253 - val_loss: 1.8855 - val_compatibility_loss: 1.3724 - val_item_classification_loss: 0.5131 - val_compatibility_auc: 0.7268 - val_item_classification_accuracy: 0.5747\n",
      "Epoch 52/100\n",
      "1063/1063 [==============================] - 35s 33ms/step - loss: 0.0615 - compatibility_loss: 0.0452 - item_classification_loss: 0.0163 - compatibility_auc: 0.9983 - item_classification_accuracy: 0.6251 - val_loss: 1.9554 - val_compatibility_loss: 1.4307 - val_item_classification_loss: 0.5247 - val_compatibility_auc: 0.7229 - val_item_classification_accuracy: 0.5741\n",
      "Epoch 53/100\n",
      "1063/1063 [==============================] - 34s 32ms/step - loss: 0.0667 - compatibility_loss: 0.0511 - item_classification_loss: 0.0156 - compatibility_auc: 0.9979 - item_classification_accuracy: 0.6254 - val_loss: 1.8888 - val_compatibility_loss: 1.3565 - val_item_classification_loss: 0.5323 - val_compatibility_auc: 0.7342 - val_item_classification_accuracy: 0.5746\n",
      "Epoch 54/100\n",
      "1063/1063 [==============================] - 35s 32ms/step - loss: 0.0550 - compatibility_loss: 0.0407 - item_classification_loss: 0.0143 - compatibility_auc: 0.9987 - item_classification_accuracy: 0.6258 - val_loss: 1.8893 - val_compatibility_loss: 1.3728 - val_item_classification_loss: 0.5165 - val_compatibility_auc: 0.7323 - val_item_classification_accuracy: 0.5757\n",
      "Epoch 55/100\n",
      "1063/1063 [==============================] - 33s 31ms/step - loss: 0.0538 - compatibility_loss: 0.0396 - item_classification_loss: 0.0143 - compatibility_auc: 0.9988 - item_classification_accuracy: 0.6257 - val_loss: 1.9506 - val_compatibility_loss: 1.4107 - val_item_classification_loss: 0.5399 - val_compatibility_auc: 0.7211 - val_item_classification_accuracy: 0.5739\n",
      "Epoch 56/100\n",
      "1063/1063 [==============================] - 34s 32ms/step - loss: 0.0608 - compatibility_loss: 0.0448 - item_classification_loss: 0.0160 - compatibility_auc: 0.9985 - item_classification_accuracy: 0.6252 - val_loss: 1.9588 - val_compatibility_loss: 1.4268 - val_item_classification_loss: 0.5319 - val_compatibility_auc: 0.7257 - val_item_classification_accuracy: 0.5736\n",
      "Epoch 57/100\n",
      "1063/1063 [==============================] - 34s 32ms/step - loss: 0.0537 - compatibility_loss: 0.0402 - item_classification_loss: 0.0134 - compatibility_auc: 0.9988 - item_classification_accuracy: 0.6258 - val_loss: 2.0214 - val_compatibility_loss: 1.4829 - val_item_classification_loss: 0.5386 - val_compatibility_auc: 0.7229 - val_item_classification_accuracy: 0.5749\n",
      "Epoch 58/100\n",
      "1063/1063 [==============================] - 35s 33ms/step - loss: 0.0599 - compatibility_loss: 0.0450 - item_classification_loss: 0.0148 - compatibility_auc: 0.9982 - item_classification_accuracy: 0.6254 - val_loss: 1.9365 - val_compatibility_loss: 1.3878 - val_item_classification_loss: 0.5487 - val_compatibility_auc: 0.7306 - val_item_classification_accuracy: 0.5738\n",
      "Epoch 59/100\n",
      "1063/1063 [==============================] - 34s 32ms/step - loss: 0.0607 - compatibility_loss: 0.0451 - item_classification_loss: 0.0157 - compatibility_auc: 0.9984 - item_classification_accuracy: 0.6253 - val_loss: 1.9380 - val_compatibility_loss: 1.3979 - val_item_classification_loss: 0.5401 - val_compatibility_auc: 0.7342 - val_item_classification_accuracy: 0.5747\n",
      "Epoch 60/100\n",
      "1063/1063 [==============================] - 35s 33ms/step - loss: 0.0453 - compatibility_loss: 0.0333 - item_classification_loss: 0.0120 - compatibility_auc: 0.9992 - item_classification_accuracy: 0.6261 - val_loss: 2.0230 - val_compatibility_loss: 1.4898 - val_item_classification_loss: 0.5333 - val_compatibility_auc: 0.7160 - val_item_classification_accuracy: 0.5749\n",
      "Epoch 61/100\n",
      "1063/1063 [==============================] - 34s 32ms/step - loss: 0.0664 - compatibility_loss: 0.0496 - item_classification_loss: 0.0168 - compatibility_auc: 0.9980 - item_classification_accuracy: 0.6249 - val_loss: 2.0537 - val_compatibility_loss: 1.5197 - val_item_classification_loss: 0.5340 - val_compatibility_auc: 0.7265 - val_item_classification_accuracy: 0.5748\n",
      "Epoch 62/100\n",
      "1063/1063 [==============================] - 34s 32ms/step - loss: 0.0498 - compatibility_loss: 0.0374 - item_classification_loss: 0.0124 - compatibility_auc: 0.9989 - item_classification_accuracy: 0.6260 - val_loss: 2.0060 - val_compatibility_loss: 1.4638 - val_item_classification_loss: 0.5422 - val_compatibility_auc: 0.7233 - val_item_classification_accuracy: 0.5750\n",
      "Epoch 63/100\n",
      "1063/1063 [==============================] - 34s 32ms/step - loss: 0.0579 - compatibility_loss: 0.0427 - item_classification_loss: 0.0152 - compatibility_auc: 0.9986 - item_classification_accuracy: 0.6255 - val_loss: 1.9709 - val_compatibility_loss: 1.4286 - val_item_classification_loss: 0.5422 - val_compatibility_auc: 0.7316 - val_item_classification_accuracy: 0.5753\n",
      "Epoch 64/100\n"
     ]
    },
    {
     "name": "stdout",
     "output_type": "stream",
     "text": [
      "1063/1063 [==============================] - 34s 32ms/step - loss: 0.0459 - compatibility_loss: 0.0340 - item_classification_loss: 0.0119 - compatibility_auc: 0.9991 - item_classification_accuracy: 0.6260 - val_loss: 2.0290 - val_compatibility_loss: 1.4821 - val_item_classification_loss: 0.5469 - val_compatibility_auc: 0.7275 - val_item_classification_accuracy: 0.5752\n",
      "Epoch 65/100\n",
      "1063/1063 [==============================] - 34s 32ms/step - loss: 0.0571 - compatibility_loss: 0.0430 - item_classification_loss: 0.0142 - compatibility_auc: 0.9984 - item_classification_accuracy: 0.6256 - val_loss: 1.9676 - val_compatibility_loss: 1.4225 - val_item_classification_loss: 0.5450 - val_compatibility_auc: 0.7304 - val_item_classification_accuracy: 0.5743\n",
      "Epoch 66/100\n",
      "1063/1063 [==============================] - 34s 32ms/step - loss: 0.0507 - compatibility_loss: 0.0374 - item_classification_loss: 0.0132 - compatibility_auc: 0.9989 - item_classification_accuracy: 0.6258 - val_loss: 2.0426 - val_compatibility_loss: 1.5045 - val_item_classification_loss: 0.5381 - val_compatibility_auc: 0.7216 - val_item_classification_accuracy: 0.5753\n",
      "Epoch 67/100\n",
      "1063/1063 [==============================] - 34s 32ms/step - loss: 0.0524 - compatibility_loss: 0.0394 - item_classification_loss: 0.0130 - compatibility_auc: 0.9986 - item_classification_accuracy: 0.6259 - val_loss: 2.0421 - val_compatibility_loss: 1.4833 - val_item_classification_loss: 0.5588 - val_compatibility_auc: 0.7166 - val_item_classification_accuracy: 0.5724\n",
      "Epoch 68/100\n",
      "1063/1063 [==============================] - 33s 31ms/step - loss: 0.0647 - compatibility_loss: 0.0482 - item_classification_loss: 0.0165 - compatibility_auc: 0.9982 - item_classification_accuracy: 0.6251 - val_loss: 2.1065 - val_compatibility_loss: 1.5618 - val_item_classification_loss: 0.5447 - val_compatibility_auc: 0.7110 - val_item_classification_accuracy: 0.5740\n",
      "Epoch 69/100\n",
      "1063/1063 [==============================] - 34s 32ms/step - loss: 0.0544 - compatibility_loss: 0.0400 - item_classification_loss: 0.0144 - compatibility_auc: 0.9989 - item_classification_accuracy: 0.6256 - val_loss: 2.0462 - val_compatibility_loss: 1.4987 - val_item_classification_loss: 0.5475 - val_compatibility_auc: 0.7206 - val_item_classification_accuracy: 0.5740\n",
      "Epoch 70/100\n",
      "1063/1063 [==============================] - 33s 31ms/step - loss: 0.0557 - compatibility_loss: 0.0416 - item_classification_loss: 0.0141 - compatibility_auc: 0.9984 - item_classification_accuracy: 0.6255 - val_loss: 2.0328 - val_compatibility_loss: 1.4816 - val_item_classification_loss: 0.5512 - val_compatibility_auc: 0.7209 - val_item_classification_accuracy: 0.5742\n",
      "Epoch 71/100\n",
      "1063/1063 [==============================] - 34s 32ms/step - loss: 0.0481 - compatibility_loss: 0.0363 - item_classification_loss: 0.0118 - compatibility_auc: 0.9989 - item_classification_accuracy: 0.6261 - val_loss: 2.1092 - val_compatibility_loss: 1.5601 - val_item_classification_loss: 0.5491 - val_compatibility_auc: 0.7163 - val_item_classification_accuracy: 0.5744\n",
      "Epoch 72/100\n",
      "1063/1063 [==============================] - 34s 32ms/step - loss: 0.0494 - compatibility_loss: 0.0366 - item_classification_loss: 0.0128 - compatibility_auc: 0.9990 - item_classification_accuracy: 0.6258 - val_loss: 2.1284 - val_compatibility_loss: 1.5632 - val_item_classification_loss: 0.5651 - val_compatibility_auc: 0.7154 - val_item_classification_accuracy: 0.5743\n",
      "Epoch 73/100\n",
      "1063/1063 [==============================] - 34s 32ms/step - loss: 0.0499 - compatibility_loss: 0.0366 - item_classification_loss: 0.0134 - compatibility_auc: 0.9989 - item_classification_accuracy: 0.6258 - val_loss: 2.1221 - val_compatibility_loss: 1.5580 - val_item_classification_loss: 0.5641 - val_compatibility_auc: 0.7143 - val_item_classification_accuracy: 0.5731\n",
      "Epoch 74/100\n",
      "1063/1063 [==============================] - 34s 32ms/step - loss: 0.0480 - compatibility_loss: 0.0356 - item_classification_loss: 0.0124 - compatibility_auc: 0.9991 - item_classification_accuracy: 0.6260 - val_loss: 2.0940 - val_compatibility_loss: 1.5278 - val_item_classification_loss: 0.5662 - val_compatibility_auc: 0.7187 - val_item_classification_accuracy: 0.5739\n",
      "Epoch 75/100\n",
      "1063/1063 [==============================] - 33s 31ms/step - loss: 0.0458 - compatibility_loss: 0.0341 - item_classification_loss: 0.0117 - compatibility_auc: 0.9990 - item_classification_accuracy: 0.6262 - val_loss: 2.0874 - val_compatibility_loss: 1.5243 - val_item_classification_loss: 0.5631 - val_compatibility_auc: 0.7245 - val_item_classification_accuracy: 0.5732\n",
      "Epoch 76/100\n",
      "1063/1063 [==============================] - 35s 33ms/step - loss: 0.0451 - compatibility_loss: 0.0327 - item_classification_loss: 0.0124 - compatibility_auc: 0.9990 - item_classification_accuracy: 0.6259 - val_loss: 2.0815 - val_compatibility_loss: 1.5196 - val_item_classification_loss: 0.5619 - val_compatibility_auc: 0.7242 - val_item_classification_accuracy: 0.5744\n",
      "Epoch 77/100\n",
      "1063/1063 [==============================] - 34s 32ms/step - loss: 0.0561 - compatibility_loss: 0.0423 - item_classification_loss: 0.0139 - compatibility_auc: 0.9984 - item_classification_accuracy: 0.6256 - val_loss: 2.0088 - val_compatibility_loss: 1.4607 - val_item_classification_loss: 0.5481 - val_compatibility_auc: 0.7289 - val_item_classification_accuracy: 0.5748\n",
      "Epoch 78/100\n",
      "1063/1063 [==============================] - 34s 32ms/step - loss: 0.0466 - compatibility_loss: 0.0336 - item_classification_loss: 0.0130 - compatibility_auc: 0.9989 - item_classification_accuracy: 0.6259 - val_loss: 2.1564 - val_compatibility_loss: 1.5983 - val_item_classification_loss: 0.5580 - val_compatibility_auc: 0.7235 - val_item_classification_accuracy: 0.5751\n",
      "Epoch 79/100\n",
      "1063/1063 [==============================] - 33s 31ms/step - loss: 0.0372 - compatibility_loss: 0.0269 - item_classification_loss: 0.0103 - compatibility_auc: 0.9993 - item_classification_accuracy: 0.6263 - val_loss: 2.1257 - val_compatibility_loss: 1.5707 - val_item_classification_loss: 0.5550 - val_compatibility_auc: 0.7211 - val_item_classification_accuracy: 0.5749\n",
      "Epoch 80/100\n",
      "1063/1063 [==============================] - 34s 32ms/step - loss: 0.0432 - compatibility_loss: 0.0316 - item_classification_loss: 0.0116 - compatibility_auc: 0.9991 - item_classification_accuracy: 0.6261 - val_loss: 2.2115 - val_compatibility_loss: 1.6484 - val_item_classification_loss: 0.5631 - val_compatibility_auc: 0.7219 - val_item_classification_accuracy: 0.5755\n",
      "Epoch 81/100\n",
      "1063/1063 [==============================] - 34s 32ms/step - loss: 0.0504 - compatibility_loss: 0.0370 - item_classification_loss: 0.0133 - compatibility_auc: 0.9986 - item_classification_accuracy: 0.6256 - val_loss: 2.1398 - val_compatibility_loss: 1.5845 - val_item_classification_loss: 0.5553 - val_compatibility_auc: 0.7231 - val_item_classification_accuracy: 0.5750\n",
      "Epoch 82/100\n",
      "1063/1063 [==============================] - 34s 32ms/step - loss: 0.0372 - compatibility_loss: 0.0270 - item_classification_loss: 0.0103 - compatibility_auc: 0.9993 - item_classification_accuracy: 0.6263 - val_loss: 2.1922 - val_compatibility_loss: 1.6403 - val_item_classification_loss: 0.5519 - val_compatibility_auc: 0.7271 - val_item_classification_accuracy: 0.5752\n",
      "Epoch 83/100\n",
      "1063/1063 [==============================] - 34s 32ms/step - loss: 0.0498 - compatibility_loss: 0.0378 - item_classification_loss: 0.0121 - compatibility_auc: 0.9987 - item_classification_accuracy: 0.6260 - val_loss: 2.1137 - val_compatibility_loss: 1.5586 - val_item_classification_loss: 0.5551 - val_compatibility_auc: 0.7223 - val_item_classification_accuracy: 0.5752\n",
      "Epoch 84/100\n",
      "1063/1063 [==============================] - 34s 32ms/step - loss: 0.0584 - compatibility_loss: 0.0443 - item_classification_loss: 0.0141 - compatibility_auc: 0.9983 - item_classification_accuracy: 0.6255 - val_loss: 2.0923 - val_compatibility_loss: 1.5311 - val_item_classification_loss: 0.5612 - val_compatibility_auc: 0.7257 - val_item_classification_accuracy: 0.5751\n",
      "Epoch 85/100\n"
     ]
    },
    {
     "name": "stdout",
     "output_type": "stream",
     "text": [
      "1063/1063 [==============================] - 34s 32ms/step - loss: 0.0377 - compatibility_loss: 0.0280 - item_classification_loss: 0.0097 - compatibility_auc: 0.9991 - item_classification_accuracy: 0.6265 - val_loss: 2.1408 - val_compatibility_loss: 1.5668 - val_item_classification_loss: 0.5740 - val_compatibility_auc: 0.7209 - val_item_classification_accuracy: 0.5742\n",
      "Epoch 86/100\n",
      "1063/1063 [==============================] - 34s 32ms/step - loss: 0.0287 - compatibility_loss: 0.0201 - item_classification_loss: 0.0086 - compatibility_auc: 0.9996 - item_classification_accuracy: 0.6268 - val_loss: 2.2219 - val_compatibility_loss: 1.6490 - val_item_classification_loss: 0.5730 - val_compatibility_auc: 0.7184 - val_item_classification_accuracy: 0.5747\n",
      "Epoch 87/100\n",
      "1063/1063 [==============================] - 34s 32ms/step - loss: 0.0504 - compatibility_loss: 0.0376 - item_classification_loss: 0.0128 - compatibility_auc: 0.9988 - item_classification_accuracy: 0.6257 - val_loss: 2.1193 - val_compatibility_loss: 1.5556 - val_item_classification_loss: 0.5637 - val_compatibility_auc: 0.7241 - val_item_classification_accuracy: 0.5750\n",
      "Epoch 88/100\n",
      "1063/1063 [==============================] - 35s 33ms/step - loss: 0.0388 - compatibility_loss: 0.0283 - item_classification_loss: 0.0105 - compatibility_auc: 0.9991 - item_classification_accuracy: 0.6263 - val_loss: 2.1638 - val_compatibility_loss: 1.5864 - val_item_classification_loss: 0.5774 - val_compatibility_auc: 0.7248 - val_item_classification_accuracy: 0.5752\n",
      "Epoch 89/100\n",
      "1063/1063 [==============================] - 34s 32ms/step - loss: 0.0419 - compatibility_loss: 0.0310 - item_classification_loss: 0.0109 - compatibility_auc: 0.9992 - item_classification_accuracy: 0.6262 - val_loss: 2.1979 - val_compatibility_loss: 1.6278 - val_item_classification_loss: 0.5700 - val_compatibility_auc: 0.7130 - val_item_classification_accuracy: 0.5748\n",
      "Epoch 90/100\n",
      "1063/1063 [==============================] - 36s 34ms/step - loss: 0.0467 - compatibility_loss: 0.0340 - item_classification_loss: 0.0127 - compatibility_auc: 0.9989 - item_classification_accuracy: 0.6258 - val_loss: 2.1125 - val_compatibility_loss: 1.5284 - val_item_classification_loss: 0.5841 - val_compatibility_auc: 0.7240 - val_item_classification_accuracy: 0.5733\n",
      "Epoch 91/100\n",
      "1063/1063 [==============================] - 34s 32ms/step - loss: 0.0396 - compatibility_loss: 0.0292 - item_classification_loss: 0.0105 - compatibility_auc: 0.9991 - item_classification_accuracy: 0.6263 - val_loss: 2.2219 - val_compatibility_loss: 1.6487 - val_item_classification_loss: 0.5733 - val_compatibility_auc: 0.7168 - val_item_classification_accuracy: 0.5751\n",
      "Epoch 92/100\n",
      "1063/1063 [==============================] - 34s 32ms/step - loss: 0.0427 - compatibility_loss: 0.0320 - item_classification_loss: 0.0108 - compatibility_auc: 0.9990 - item_classification_accuracy: 0.6262 - val_loss: 2.1804 - val_compatibility_loss: 1.6076 - val_item_classification_loss: 0.5727 - val_compatibility_auc: 0.7233 - val_item_classification_accuracy: 0.5738\n",
      "Epoch 93/100\n",
      "1063/1063 [==============================] - 33s 31ms/step - loss: 0.0440 - compatibility_loss: 0.0325 - item_classification_loss: 0.0115 - compatibility_auc: 0.9991 - item_classification_accuracy: 0.6261 - val_loss: 2.1935 - val_compatibility_loss: 1.6149 - val_item_classification_loss: 0.5785 - val_compatibility_auc: 0.7233 - val_item_classification_accuracy: 0.5751\n",
      "Epoch 94/100\n",
      "1063/1063 [==============================] - 35s 33ms/step - loss: 0.0354 - compatibility_loss: 0.0263 - item_classification_loss: 0.0091 - compatibility_auc: 0.9993 - item_classification_accuracy: 0.6267 - val_loss: 2.1792 - val_compatibility_loss: 1.6028 - val_item_classification_loss: 0.5764 - val_compatibility_auc: 0.7266 - val_item_classification_accuracy: 0.5747\n",
      "Epoch 95/100\n",
      "1063/1063 [==============================] - 34s 32ms/step - loss: 0.0480 - compatibility_loss: 0.0364 - item_classification_loss: 0.0115 - compatibility_auc: 0.9988 - item_classification_accuracy: 0.6261 - val_loss: 2.1879 - val_compatibility_loss: 1.6216 - val_item_classification_loss: 0.5663 - val_compatibility_auc: 0.7153 - val_item_classification_accuracy: 0.5755\n",
      "Epoch 96/100\n",
      "1063/1063 [==============================] - 34s 32ms/step - loss: 0.0374 - compatibility_loss: 0.0276 - item_classification_loss: 0.0098 - compatibility_auc: 0.9992 - item_classification_accuracy: 0.6265 - val_loss: 2.1729 - val_compatibility_loss: 1.5930 - val_item_classification_loss: 0.5798 - val_compatibility_auc: 0.7216 - val_item_classification_accuracy: 0.5728\n",
      "Epoch 97/100\n",
      "1063/1063 [==============================] - 34s 32ms/step - loss: 0.0397 - compatibility_loss: 0.0299 - item_classification_loss: 0.0098 - compatibility_auc: 0.9993 - item_classification_accuracy: 0.6265 - val_loss: 2.1952 - val_compatibility_loss: 1.6099 - val_item_classification_loss: 0.5854 - val_compatibility_auc: 0.7161 - val_item_classification_accuracy: 0.5744\n",
      "Epoch 98/100\n",
      "1063/1063 [==============================] - 34s 32ms/step - loss: 0.0438 - compatibility_loss: 0.0326 - item_classification_loss: 0.0112 - compatibility_auc: 0.9991 - item_classification_accuracy: 0.6261 - val_loss: 2.2481 - val_compatibility_loss: 1.6664 - val_item_classification_loss: 0.5817 - val_compatibility_auc: 0.7132 - val_item_classification_accuracy: 0.5739\n",
      "Epoch 99/100\n",
      "1063/1063 [==============================] - 33s 31ms/step - loss: 0.0339 - compatibility_loss: 0.0248 - item_classification_loss: 0.0091 - compatibility_auc: 0.9996 - item_classification_accuracy: 0.6266 - val_loss: 2.2650 - val_compatibility_loss: 1.6705 - val_item_classification_loss: 0.5945 - val_compatibility_auc: 0.7191 - val_item_classification_accuracy: 0.5755\n",
      "Epoch 100/100\n",
      "1063/1063 [==============================] - 34s 32ms/step - loss: 0.0351 - compatibility_loss: 0.0259 - item_classification_loss: 0.0092 - compatibility_auc: 0.9993 - item_classification_accuracy: 0.6265 - val_loss: 2.2068 - val_compatibility_loss: 1.6144 - val_item_classification_loss: 0.5924 - val_compatibility_auc: 0.7267 - val_item_classification_accuracy: 0.5752\n"
     ]
    },
    {
     "data": {
      "text/plain": [
       "3464.419028520584"
      ]
     },
     "execution_count": 17,
     "metadata": {},
     "output_type": "execute_result"
    }
   ],
   "source": [
    "learning_rate = 1.0e-04\n",
    "epochs = 100\n",
    "patience = 5\n",
    "model_name1 = \"item_classification\"\n",
    "model_name2 = \"compatibility\"\n",
    "model_name3 = \"tf_op_layer_contrastive\"\n",
    "opt = keras.optimizers.Adam(learning_rate=learning_rate)\n",
    "loss_dict = {model_name2: tf.keras.losses.BinaryCrossentropy(from_logits=False, name='binary_crossentropy'), \n",
    "             model_name1: sparse_crossentropy_masked,\n",
    "#              model_name3: \"mse\",\n",
    "            }\n",
    "weight_dict = {model_name1: 1.0, \n",
    "               model_name2: 1.0, \n",
    "#                model_name3: 1.0\n",
    "              }\n",
    "metric_dict = {model_name1: 'accuracy', \n",
    "               model_name2: tf.keras.metrics.AUC(), \n",
    "#                model_name3: \"mse\"\n",
    "              }\n",
    "\n",
    "model.compile(loss=loss_dict,\n",
    "              loss_weights=weight_dict,\n",
    "              optimizer=opt,\n",
    "              metrics=metric_dict)\n",
    "\n",
    "callback = EarlyStopping(\n",
    "                        monitor=\"val_compatibility_auc\", # \"val_loss\", \"val_compatibility_loss\"\n",
    "                        min_delta=0,\n",
    "                        patience=patience,\n",
    "                        verbose=0,\n",
    "                        mode=\"auto\",\n",
    "                        baseline=None,\n",
    "                        restore_best_weights=True,\n",
    "                    )\n",
    "tic = time.time()\n",
    "if 'history' in locals():\n",
    "    history_prev = history\n",
    "history = model.fit(train_gen, \n",
    "                    epochs=epochs, \n",
    "                    batch_size=batch_size,\n",
    "                    validation_data=valid_gen,\n",
    "                    validation_batch_size=32,\n",
    "                    validation_freq=1,\n",
    "#                     callbacks=[callback],\n",
    "                    verbose=1)\n",
    "time.time() - tic"
   ]
  },
  {
   "cell_type": "code",
   "execution_count": 15,
   "metadata": {},
   "outputs": [
    {
     "data": {
      "text/plain": [
       "<matplotlib.legend.Legend at 0x7f91860dbe10>"
      ]
     },
     "execution_count": 15,
     "metadata": {},
     "output_type": "execute_result"
    },
    {
     "data": {
      "image/png": "[encoded data removed]",
      "text/plain": [
       "<Figure size 1080x432 with 4 Axes>"
      ]
     },
     "metadata": {
      "needs_background": "light"
     },
     "output_type": "display_data"
    }
   ],
   "source": [
    "f, axs = plt.subplots(2,2,figsize=(15,6))\n",
    "f.suptitle(f'Performance of a {model_type} model', fontsize=16)\n",
    "plt.subplot(221)\n",
    "plt.plot(history.history['compatibility_loss'], label='train-compatibility-loss')\n",
    "plt.plot(history.history['val_compatibility_loss'], label='validation-loss')\n",
    "plt.legend()\n",
    "\n",
    "plt.subplot(222)\n",
    "plt.plot(history.history['item_classification_loss'], label='train-classification-loss')\n",
    "plt.plot(history.history['val_item_classification_loss'], label='validation-loss')\n",
    "plt.legend()\n",
    "\n",
    "plt.subplot(223)\n",
    "plt.plot(history.history['compatibility_auc'], label='train-AUC')\n",
    "plt.plot(history.history['val_compatibility_auc'], label='validation-AUC')\n",
    "plt.legend()\n",
    "\n",
    "plt.subplot(224)\n",
    "plt.plot(history.history['item_classification_accuracy'], label='train-accuracy')\n",
    "plt.plot(history.history['val_item_classification_accuracy'], label='validation-accuracy')\n",
    "plt.legend()"
   ]
  },
  {
   "cell_type": "code",
   "execution_count": 16,
   "metadata": {},
   "outputs": [
    {
     "data": {
      "text/plain": [
       "<matplotlib.legend.Legend at 0x7ff35f5f2e50>"
      ]
     },
     "execution_count": 16,
     "metadata": {},
     "output_type": "execute_result"
    },
    {
     "data": {
      "image/png": "[encoded data removed]",
      "text/plain": [
       "<Figure size 1080x432 with 4 Axes>"
      ]
     },
     "metadata": {
      "needs_background": "light"
     },
     "output_type": "display_data"
    }
   ],
   "source": [
    "f, axs = plt.subplots(2,2,figsize=(15,6))\n",
    "f.suptitle(f'Performance of a {model_type} model', fontsize=16)\n",
    "plt.subplot(221)\n",
    "plt.plot(history.history['compatibility_loss'], label='train-compatibility-loss')\n",
    "plt.plot(history.history['val_compatibility_loss'], label='validation-loss')\n",
    "plt.legend()\n",
    "\n",
    "plt.subplot(222)\n",
    "plt.plot(history.history['item_classification_loss'], label='train-classification-loss')\n",
    "plt.plot(history.history['val_item_classification_loss'], label='validation-loss')\n",
    "plt.legend()\n",
    "\n",
    "plt.subplot(223)\n",
    "plt.plot(history.history['compatibility_auc'], label='train-AUC')\n",
    "plt.plot(history.history['val_compatibility_auc'], label='validation-AUC')\n",
    "plt.legend()\n",
    "\n",
    "plt.subplot(224)\n",
    "plt.plot(history.history['item_classification_accuracy'], label='train-accuracy')\n",
    "plt.plot(history.history['val_item_classification_accuracy'], label='validation-accuracy')\n",
    "plt.legend()"
   ]
  },
  {
   "cell_type": "code",
   "execution_count": 16,
   "metadata": {},
   "outputs": [],
   "source": [
    "import tensorflow as tf\n",
    "from tensorflow import keras\n",
    "from tensorflow.keras import layers\n",
    "import numpy as np\n",
    "import pandas as pd\n",
    "import os\n",
    "import warnings\n",
    "\n",
    "warnings.filterwarnings(\"ignore\")\n",
    "pd.set_option(\"display.max_columns\", 6)\n",
    "pd.set_option(\"display.max_rows\", 6)\n",
    "np.random.seed(2)"
   ]
  },
  {
   "cell_type": "code",
   "execution_count": 17,
   "metadata": {},
   "outputs": [
    {
     "name": "stdout",
     "output_type": "stream",
     "text": [
      "Downloading data from https://linqs-data.soe.ucsc.edu/public/lbc/cora.tgz\n",
      "172032/168052 [==============================] - 0s 1us/step\n",
      "      target  source\n",
      "0          0      21\n",
      "1          0     905\n",
      "2          0     906\n",
      "...      ...     ...\n",
      "5426    1874    2586\n",
      "5427    1876    1874\n",
      "5428    1897    2707\n",
      "\n",
      "[5429 rows x 2 columns]\n",
      "      paper_id  term_0  term_1  ...  term_1431  term_1432  subject\n",
      "0          462       0       0  ...          0          0        2\n",
      "1         1911       0       0  ...          0          0        5\n",
      "2         2002       0       0  ...          0          0        4\n",
      "...        ...     ...     ...  ...        ...        ...      ...\n",
      "2705      2372       0       0  ...          0          0        1\n",
      "2706       955       0       0  ...          0          0        0\n",
      "2707       376       0       0  ...          0          0        2\n",
      "\n",
      "[2708 rows x 1435 columns]\n"
     ]
    }
   ],
   "source": [
    "zip_file = keras.utils.get_file(\n",
    "    fname=\"cora.tgz\",\n",
    "    origin=\"https://linqs-data.soe.ucsc.edu/public/lbc/cora.tgz\",\n",
    "    extract=True,\n",
    ")\n",
    "\n",
    "data_dir = os.path.join(os.path.dirname(zip_file), \"cora\")\n",
    "\n",
    "citations = pd.read_csv(\n",
    "    os.path.join(data_dir, \"cora.cites\"),\n",
    "    sep=\"\\t\",\n",
    "    header=None,\n",
    "    names=[\"target\", \"source\"],\n",
    ")\n",
    "\n",
    "papers = pd.read_csv(\n",
    "    os.path.join(data_dir, \"cora.content\"),\n",
    "    sep=\"\\t\",\n",
    "    header=None,\n",
    "    names=[\"paper_id\"] + [f\"term_{idx}\" for idx in range(1433)] + [\"subject\"],\n",
    ")\n",
    "\n",
    "class_values = sorted(papers[\"subject\"].unique())\n",
    "class_idx = {name: id for id, name in enumerate(class_values)}\n",
    "paper_idx = {name: idx for idx, name in enumerate(sorted(papers[\"paper_id\"].unique()))}\n",
    "\n",
    "papers[\"paper_id\"] = papers[\"paper_id\"].apply(lambda name: paper_idx[name])\n",
    "citations[\"source\"] = citations[\"source\"].apply(lambda name: paper_idx[name])\n",
    "citations[\"target\"] = citations[\"target\"].apply(lambda name: paper_idx[name])\n",
    "papers[\"subject\"] = papers[\"subject\"].apply(lambda value: class_idx[value])\n",
    "\n",
    "print(citations)\n",
    "\n",
    "print(papers)"
   ]
  },
  {
   "cell_type": "code",
   "execution_count": 18,
   "metadata": {},
   "outputs": [],
   "source": [
    "# Obtain random indices\n",
    "random_indices = np.random.permutation(range(papers.shape[0]))\n",
    "\n",
    "# 50/50 split\n",
    "train_data = papers.iloc[random_indices[: len(random_indices) // 2]]\n",
    "test_data = papers.iloc[random_indices[len(random_indices) // 2 :]]"
   ]
  },
  {
   "cell_type": "code",
   "execution_count": 20,
   "metadata": {},
   "outputs": [
    {
     "name": "stdout",
     "output_type": "stream",
     "text": [
      "Edges shape:\t\t (5429, 2)\n",
      "Node features shape: (2708, 1433)\n"
     ]
    }
   ],
   "source": [
    "# Obtain paper indices which will be used to gather node states\n",
    "# from the graph later on when training the model\n",
    "train_indices = train_data[\"paper_id\"].to_numpy()\n",
    "test_indices = test_data[\"paper_id\"].to_numpy()\n",
    "\n",
    "# Obtain ground truth labels corresponding to each paper_id\n",
    "train_labels = train_data[\"subject\"].to_numpy()\n",
    "test_labels = test_data[\"subject\"].to_numpy()\n",
    "\n",
    "# Define graph, namely an edge tensor and a node feature tensor\n",
    "edges = tf.convert_to_tensor(citations[[\"target\", \"source\"]])\n",
    "node_states = tf.convert_to_tensor(papers.sort_values(\"paper_id\").iloc[:, 1:-1])\n",
    "\n",
    "# Print shapes of the graph\n",
    "print(\"Edges shape:\\t\\t\", edges.shape)\n",
    "print(\"Node features shape:\", node_states.shape)"
   ]
  },
  {
   "cell_type": "code",
   "execution_count": 21,
   "metadata": {},
   "outputs": [
    {
     "data": {
      "text/plain": [
       "((1354,), (1354,))"
      ]
     },
     "execution_count": 21,
     "metadata": {},
     "output_type": "execute_result"
    }
   ],
   "source": [
    "train_indices.shape, train_labels.shape"
   ]
  },
  {
   "cell_type": "code",
   "execution_count": 15,
   "metadata": {},
   "outputs": [],
   "source": [
    "items_by_category, item2cat = {}, {}\n",
    "for item, desc in pv_items.items():\n",
    "    cat = desc['category_id']\n",
    "    item2cat[item] = cat\n",
    "    if cat in items_by_category:\n",
    "        items_by_category[cat].append(item)\n",
    "    else:\n",
    "        items_by_category[cat] = [item]"
   ]
  },
  {
   "cell_type": "code",
   "execution_count": 31,
   "metadata": {},
   "outputs": [],
   "source": []
  },
  {
   "cell_type": "code",
   "execution_count": 52,
   "metadata": {},
   "outputs": [
    {
     "name": "stdout",
     "output_type": "stream",
     "text": [
      "WARNING:tensorflow:Layer lstm_6 will not use cuDNN kernel since it doesn't meet the cuDNN kernel criteria. It will use generic GPU kernel as fallback when running on GPU\n"
     ]
    }
   ],
   "source": [
    "from build_model import MultiTaskSetTransformer\n",
    "\n",
    "model = MultiTaskSetTransformer(\n",
    "                                 num_layers=1,\n",
    "                                 d_model=64,\n",
    "                                 num_heads=1,\n",
    "                                 dff=32,\n",
    "                                 rate=0.0,\n",
    "                                 include_text=include_text,\n",
    "                                 inp_dim2=768,\n",
    "                                 num_classes=2,\n",
    "                                 lstm_dim=32,\n",
    "                                 embedding_activation=\"linear\",\n",
    "                                 lstm_activation=\"linear\",\n",
    "                                 final_activation=\"sigmoid\"\n",
    "                                )\n"
   ]
  },
  {
   "cell_type": "code",
   "execution_count": 53,
   "metadata": {},
   "outputs": [
    {
     "ename": "NameError",
     "evalue": "name 'x' is not defined",
     "output_type": "error",
     "traceback": [
      "\u001b[0;31m---------------------------------------------------------------------------\u001b[0m",
      "\u001b[0;31mNameError\u001b[0m                                 Traceback (most recent call last)",
      "\u001b[0;32m<ipython-input-53-c8a436027959>\u001b[0m in \u001b[0;36m<module>\u001b[0;34m\u001b[0m\n\u001b[0;32m----> 1\u001b[0;31m \u001b[0mys\u001b[0m \u001b[0;34m=\u001b[0m \u001b[0mmodel\u001b[0m\u001b[0;34m(\u001b[0m\u001b[0mx\u001b[0m\u001b[0;34m)\u001b[0m\u001b[0;34m\u001b[0m\u001b[0;34m\u001b[0m\u001b[0m\n\u001b[0m\u001b[1;32m      2\u001b[0m \u001b[0mys\u001b[0m\u001b[0;34m[\u001b[0m\u001b[0;36m0\u001b[0m\u001b[0;34m]\u001b[0m\u001b[0;34m.\u001b[0m\u001b[0mshape\u001b[0m\u001b[0;34m,\u001b[0m \u001b[0mys\u001b[0m\u001b[0;34m[\u001b[0m\u001b[0;36m1\u001b[0m\u001b[0;34m]\u001b[0m\u001b[0;34m.\u001b[0m\u001b[0mshape\u001b[0m\u001b[0;34m,\u001b[0m \u001b[0mys\u001b[0m\u001b[0;34m[\u001b[0m\u001b[0;36m2\u001b[0m\u001b[0;34m]\u001b[0m\u001b[0;34m.\u001b[0m\u001b[0mshape\u001b[0m\u001b[0;34m\u001b[0m\u001b[0;34m\u001b[0m\u001b[0m\n",
      "\u001b[0;31mNameError\u001b[0m: name 'x' is not defined"
     ]
    }
   ],
   "source": [
    "ys = model(x)\n",
    "ys[0].shape, ys[1].shape, ys[2].shape"
   ]
  },
  {
   "cell_type": "code",
   "execution_count": 64,
   "metadata": {},
   "outputs": [
    {
     "name": "stdout",
     "output_type": "stream",
     "text": [
      "WARNING:tensorflow:Layer lstm_14 will not use cuDNN kernel since it doesn't meet the cuDNN kernel criteria. It will use generic GPU kernel as fallback when running on GPU\n",
      "WARNING:tensorflow:Layer multi_task_rnn_5 is casting an input tensor from dtype float64 to the layer's dtype of float32, which is new behavior in TensorFlow 2.  The layer has dtype float32 because it's dtype defaults to floatx.\n",
      "\n",
      "If you intended to run this layer in float32, you can safely ignore this warning. If in doubt, this warning is likely only an issue if you are porting a TensorFlow 1.X model to TensorFlow 2.\n",
      "\n",
      "To change all layers to have dtype float64 by default, call `tf.keras.backend.set_floatx('float64')`. To change just this layer, pass dtype='float64' to the layer constructor. If you are the author of this layer, you can disable autocasting by passing autocast=False to the base Layer constructor.\n",
      "\n"
     ]
    },
    {
     "data": {
      "text/plain": [
       "[TensorShape([32, 1]),\n",
       " TensorShape([32, 8, 153]),\n",
       " TensorShape([32, 8]),\n",
       " TensorShape([32, 8])]"
      ]
     },
     "execution_count": 64,
     "metadata": {},
     "output_type": "execute_result"
    }
   ],
   "source": [
    "from rnn import MultiTaskRNN\n",
    "\n",
    "model = MultiTaskRNN()\n",
    "yhat = model(inps)\n",
    "[yh.shape for yh in yhat]"
   ]
  },
  {
   "cell_type": "code",
   "execution_count": 72,
   "metadata": {},
   "outputs": [
    {
     "data": {
      "text/plain": [
       "array([[0., 0., 0., 0., 1., 1., 1., 1.],\n",
       "       [0., 0., 1., 1., 1., 1., 1., 1.],\n",
       "       [0., 0., 1., 1., 1., 1., 1., 1.],\n",
       "       [0., 0., 0., 1., 1., 1., 1., 1.],\n",
       "       [0., 0., 1., 1., 1., 1., 1., 1.],\n",
       "       [0., 0., 1., 1., 1., 1., 1., 1.],\n",
       "       [0., 0., 1., 1., 1., 1., 1., 1.],\n",
       "       [0., 0., 0., 1., 1., 1., 1., 1.],\n",
       "       [0., 0., 0., 0., 1., 1., 1., 1.],\n",
       "       [0., 0., 0., 0., 1., 1., 1., 1.],\n",
       "       [0., 0., 0., 0., 1., 1., 1., 1.],\n",
       "       [0., 0., 1., 1., 1., 1., 1., 1.],\n",
       "       [0., 0., 0., 1., 1., 1., 1., 1.],\n",
       "       [0., 0., 0., 0., 0., 1., 1., 1.],\n",
       "       [0., 0., 0., 1., 1., 1., 1., 1.],\n",
       "       [0., 1., 1., 1., 1., 1., 1., 1.],\n",
       "       [0., 0., 1., 1., 1., 1., 1., 1.],\n",
       "       [0., 0., 1., 1., 1., 1., 1., 1.],\n",
       "       [0., 0., 0., 0., 1., 1., 1., 1.],\n",
       "       [0., 0., 0., 0., 1., 1., 1., 1.],\n",
       "       [1., 1., 1., 1., 1., 1., 1., 1.],\n",
       "       [0., 0., 0., 0., 1., 1., 1., 1.],\n",
       "       [0., 0., 0., 0., 1., 1., 1., 1.],\n",
       "       [0., 0., 0., 1., 1., 1., 1., 1.],\n",
       "       [0., 0., 0., 1., 1., 1., 1., 1.],\n",
       "       [0., 0., 0., 0., 1., 1., 1., 1.],\n",
       "       [0., 0., 0., 1., 1., 1., 1., 1.],\n",
       "       [0., 0., 0., 0., 0., 1., 1., 1.],\n",
       "       [0., 0., 0., 1., 1., 1., 1., 1.],\n",
       "       [0., 0., 0., 0., 1., 1., 1., 1.],\n",
       "       [1., 1., 1., 1., 1., 1., 1., 1.],\n",
       "       [0., 0., 0., 0., 1., 1., 1., 1.]])"
      ]
     },
     "execution_count": 72,
     "metadata": {},
     "output_type": "execute_result"
    }
   ],
   "source": [
    "msk = targs[1] != -1\n",
    "msk = msk.astype('float64')\n",
    "msk"
   ]
  },
  {
   "cell_type": "code",
   "execution_count": 65,
   "metadata": {},
   "outputs": [
    {
     "data": {
      "text/plain": [
       "<tf.Tensor: shape=(32, 8), dtype=float32, numpy=\n",
       "array([[0., 0., 0., 0., 1., 1., 1., 1.],\n",
       "       [0., 0., 1., 1., 1., 1., 1., 0.],\n",
       "       [0., 0., 1., 1., 1., 1., 1., 1.],\n",
       "       [0., 0., 0., 1., 1., 1., 1., 1.],\n",
       "       [0., 0., 1., 1., 1., 1., 1., 1.],\n",
       "       [0., 0., 1., 1., 1., 1., 1., 1.],\n",
       "       [0., 0., 1., 1., 1., 1., 1., 1.],\n",
       "       [0., 0., 0., 1., 1., 1., 1., 1.],\n",
       "       [0., 0., 0., 0., 1., 1., 1., 1.],\n",
       "       [0., 0., 0., 0., 1., 0., 1., 1.],\n",
       "       [0., 0., 0., 0., 1., 1., 1., 1.],\n",
       "       [0., 0., 1., 1., 1., 1., 1., 0.],\n",
       "       [0., 0., 0., 1., 1., 1., 1., 0.],\n",
       "       [0., 0., 0., 0., 0., 1., 1., 1.],\n",
       "       [0., 0., 0., 1., 1., 1., 1., 1.],\n",
       "       [0., 1., 1., 1., 1., 1., 0., 1.],\n",
       "       [0., 0., 1., 1., 1., 1., 1., 1.],\n",
       "       [0., 0., 1., 1., 1., 1., 1., 1.],\n",
       "       [0., 0., 0., 0., 1., 0., 1., 1.],\n",
       "       [0., 0., 0., 0., 1., 1., 1., 1.],\n",
       "       [1., 1., 1., 1., 1., 1., 0., 1.],\n",
       "       [0., 0., 0., 0., 1., 1., 1., 1.],\n",
       "       [0., 0., 0., 0., 1., 1., 1., 1.],\n",
       "       [0., 0., 0., 1., 1., 1., 1., 1.],\n",
       "       [0., 0., 0., 1., 1., 1., 1., 1.],\n",
       "       [0., 0., 0., 0., 1., 1., 1., 1.],\n",
       "       [0., 0., 0., 1., 1., 1., 1., 1.],\n",
       "       [0., 0., 0., 0., 0., 1., 1., 1.],\n",
       "       [0., 0., 0., 1., 1., 1., 1., 1.],\n",
       "       [0., 0., 0., 0., 1., 1., 1., 1.],\n",
       "       [1., 1., 1., 1., 0., 1., 1., 1.],\n",
       "       [0., 0., 0., 0., 1., 1., 0., 1.]], dtype=float32)>"
      ]
     },
     "execution_count": 65,
     "metadata": {},
     "output_type": "execute_result"
    }
   ],
   "source": [
    "yhat[3]"
   ]
  },
  {
   "cell_type": "code",
   "execution_count": 58,
   "metadata": {},
   "outputs": [],
   "source": [
    "def loss_function(outputs, labels):\n",
    "    compatibility_output, class_probs, contrastive_loss, istarget = outputs\n",
    "    compatibility_label, item_categories, contrastive_labels = labels\n",
    "    loss_1 = tf.keras.losses.BinaryCrossentropy(\n",
    "        from_logits=False, name=\"binary_crossentropy\"\n",
    "    )(compatibility_label, compatibility_output)\n",
    "\n",
    "    loss_2 = sparse_crossentropy_masked(item_categories, class_probs)\n",
    "    loss_3 = tf.reduce_sum(contrastive_loss * istarget) / tf.reduce_sum(istarget)\n",
    "\n",
    "    loss = loss_1 + loss_2 + loss_3\n",
    "#     reg_loss = tf.compat.v1.losses.get_regularization_loss()\n",
    "    # reg_losses = tf.compat.v1.get_collection(tf.compat.v1.GraphKeys.REGULARIZATION_LOSSES)\n",
    "    # loss += sum(reg_losses)\n",
    "#     loss += reg_loss\n",
    "    return loss"
   ]
  },
  {
   "cell_type": "code",
   "execution_count": 59,
   "metadata": {},
   "outputs": [
    {
     "data": {
      "text/plain": [
       "<tf.Tensor: shape=(), dtype=float32, numpy=nan>"
      ]
     },
     "execution_count": 59,
     "metadata": {},
     "output_type": "execute_result"
    }
   ],
   "source": [
    "loss_function(yhat, targs)"
   ]
  },
  {
   "cell_type": "code",
   "execution_count": 44,
   "metadata": {},
   "outputs": [
    {
     "data": {
      "text/plain": [
       "<tf.Tensor: shape=(), dtype=float32, numpy=0.68840075>"
      ]
     },
     "execution_count": 44,
     "metadata": {},
     "output_type": "execute_result"
    }
   ],
   "source": [
    "tf.keras.losses.BinaryCrossentropy(\n",
    "        from_logits=False, name=\"binary_crossentropy\"\n",
    "    )(targs[0], yhat[0])"
   ]
  },
  {
   "cell_type": "code",
   "execution_count": 45,
   "metadata": {},
   "outputs": [
    {
     "data": {
      "text/plain": [
       "<tf.Tensor: shape=(), dtype=float32, numpy=5.0698247>"
      ]
     },
     "execution_count": 45,
     "metadata": {},
     "output_type": "execute_result"
    }
   ],
   "source": [
    "sparse_crossentropy_masked(targs[1], yhat[1])"
   ]
  },
  {
   "cell_type": "code",
   "execution_count": 48,
   "metadata": {},
   "outputs": [
    {
     "data": {
      "text/plain": [
       "<tf.Tensor: shape=(), dtype=float32, numpy=nan>"
      ]
     },
     "execution_count": 48,
     "metadata": {},
     "output_type": "execute_result"
    }
   ],
   "source": [
    "tf.reduce_sum(yhat[2] * yhat[3])# / tf.reduce_sum(yhat[3])"
   ]
  },
  {
   "cell_type": "markdown",
   "metadata": {},
   "source": [
    "## Python is crazy!!"
   ]
  },
  {
   "cell_type": "code",
   "execution_count": 20,
   "metadata": {},
   "outputs": [
    {
     "data": {
      "text/plain": [
       "{'x1': [1, 2, 3], 'x2': [4, 5, 6]}"
      ]
     },
     "execution_count": 20,
     "metadata": {},
     "output_type": "execute_result"
    }
   ],
   "source": [
    "a = {'x1': [1, 2, 3], 'x2': [4, 5, 6]}\n",
    "a"
   ]
  },
  {
   "cell_type": "code",
   "execution_count": 21,
   "metadata": {},
   "outputs": [
    {
     "data": {
      "text/plain": [
       "{'x1': [1, 2, 3], 'x2': [4, 5, 6]}"
      ]
     },
     "execution_count": 21,
     "metadata": {},
     "output_type": "execute_result"
    }
   ],
   "source": [
    "b = a['x1'].copy()\n",
    "b.remove(2)\n",
    "a"
   ]
  }
 ],
 "metadata": {
  "kernelspec": {
   "display_name": "Python 3",
   "language": "python",
   "name": "python3"
  },
  "language_info": {
   "codemirror_mode": {
    "name": "ipython",
    "version": 3
   },
   "file_extension": ".py",
   "mimetype": "text/x-python",
   "name": "python",
   "nbconvert_exporter": "python",
   "pygments_lexer": "ipython3",
   "version": "3.7.7"
  }
 },
 "nbformat": 4,
 "nbformat_minor": 4
}
