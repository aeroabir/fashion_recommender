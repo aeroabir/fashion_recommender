{
 "cells": [
  {
   "cell_type": "markdown",
   "metadata": {},
   "source": [
    "# Outfit Compatibility Prediction\n",
    "\n",
    "Multi-task approach"
   ]
  },
  {
   "cell_type": "code",
   "execution_count": 1,
   "metadata": {},
   "outputs": [],
   "source": [
    "%load_ext autoreload\n",
    "%autoreload 2"
   ]
  },
  {
   "cell_type": "code",
   "execution_count": 18,
   "metadata": {},
   "outputs": [
    {
     "name": "stdout",
     "output_type": "stream",
     "text": [
      "Populating the interactive namespace from numpy and matplotlib\n"
     ]
    }
   ],
   "source": [
    "import os\n",
    "import json\n",
    "from collections import Counter\n",
    "from PIL import Image\n",
    "import pandas as pd\n",
    "import tensorflow as tf\n",
    "from tensorflow import keras\n",
    "from tensorflow.keras import backend as K\n",
    "from tensorflow.keras.callbacks import EarlyStopping, ReduceLROnPlateau\n",
    "\n",
    "from tqdm import tqdm\n",
    "import pickle\n",
    "\n",
    "import sys\n",
    "# sys.path.insert(0, \"/recsys_data/RecSys/fashion/automl/efficientnetv2\")\n",
    "# import effnetv2_model\n",
    "\n",
    "%pylab inline\n",
    "import matplotlib.pyplot as plt"
   ]
  },
  {
   "cell_type": "code",
   "execution_count": 3,
   "metadata": {},
   "outputs": [],
   "source": [
    "base_dir = \"/recsys_data/RecSys/fashion/polyvore-dataset/polyvore_outfits\"\n",
    "data_type = \"nondisjoint\" # \"nondisjoint\", \"disjoint\"\n",
    "train_dir = os.path.join(base_dir, data_type)\n",
    "image_dir = os.path.join(base_dir, \"images\")\n",
    "embed_dir = \"/recsys_data/RecSys/fashion/polyvore-dataset/precomputed\"\n",
    "\n",
    "train_json = \"train.json\"\n",
    "valid_json = \"valid.json\"\n",
    "test_json = \"test.json\"\n",
    "train_file = \"compatibility_train.txt\"\n",
    "valid_file = \"compatibility_valid.txt\"\n",
    "test_file = \"compatibility_test.txt\"\n",
    "item_file = \"polyvore_item_metadata.json\"\n",
    "outfit_file = \"polyvore_outfit_titles.json\"\n",
    "\n",
    "model_type = \"rnn\" #\"set-transformer\"\n",
    "include_text = True"
   ]
  },
  {
   "cell_type": "code",
   "execution_count": 4,
   "metadata": {},
   "outputs": [
    {
     "name": "stdout",
     "output_type": "stream",
     "text": [
      "Total 53306, 5000, 10000 outfits in train, validation and test split, respectively\n"
     ]
    }
   ],
   "source": [
    "with open(os.path.join(train_dir, train_json), 'r') as fr:\n",
    "    train_pos = json.load(fr)\n",
    "    \n",
    "with open(os.path.join(train_dir, valid_json), 'r') as fr:\n",
    "    valid_pos = json.load(fr)\n",
    "    \n",
    "with open(os.path.join(train_dir, test_json), 'r') as fr:\n",
    "    test_pos = json.load(fr)\n",
    "    \n",
    "with open(os.path.join(base_dir, item_file), 'r') as fr:\n",
    "    pv_items = json.load(fr)\n",
    "    \n",
    "with open(os.path.join(base_dir, outfit_file), 'r') as fr:\n",
    "    pv_outfits = json.load(fr)\n",
    "\n",
    "print(f\"Total {len(train_pos)}, {len(valid_pos)}, {len(test_pos)} outfits in train, validation and test split, respectively\")"
   ]
  },
  {
   "cell_type": "code",
   "execution_count": 5,
   "metadata": {},
   "outputs": [
    {
     "name": "stdout",
     "output_type": "stream",
     "text": [
      "Total 106612, 10000, 20000 examples in train, validation and test split, respectively\n"
     ]
    }
   ],
   "source": [
    "with open(os.path.join(train_dir, train_file), 'r') as fr:\n",
    "    train_X, train_y = [], []\n",
    "    for line in fr:\n",
    "        elems = line.strip().split()\n",
    "        train_y.append(elems[0])\n",
    "        train_X.append(elems[1:])\n",
    "\n",
    "with open(os.path.join(train_dir, valid_file), 'r') as fr:\n",
    "    valid_X, valid_y = [], []\n",
    "    for line in fr:\n",
    "        elems = line.strip().split()\n",
    "        valid_y.append(elems[0])\n",
    "        valid_X.append(elems[1:])\n",
    "\n",
    "with open(os.path.join(train_dir, test_file), 'r') as fr:\n",
    "    test_X, test_y = [], []\n",
    "    for line in fr:\n",
    "        elems = line.strip().split()\n",
    "        test_y.append(elems[0])\n",
    "        test_X.append(elems[1:])\n",
    "\n",
    "print(f\"Total {len(train_X)}, {len(valid_X)}, {len(test_X)} examples in train, validation and test split, respectively\")"
   ]
  },
  {
   "cell_type": "code",
   "execution_count": 6,
   "metadata": {},
   "outputs": [
    {
     "name": "stdout",
     "output_type": "stream",
     "text": [
      "284767\n",
      "311548\n",
      "365054\n"
     ]
    }
   ],
   "source": [
    "item_dict = {}\n",
    "for ii, outfit in enumerate(train_pos):\n",
    "    items = outfit['items']\n",
    "    mapped = train_X[ii]\n",
    "    item_dict.update({jj:kk['item_id'] for jj, kk in zip(mapped, items)})\n",
    "print(len(item_dict))\n",
    "\n",
    "for ii, outfit in enumerate(valid_pos):\n",
    "    items = outfit['items']\n",
    "    mapped = valid_X[ii]\n",
    "    item_dict.update({jj:kk['item_id'] for jj, kk in zip(mapped, items)})\n",
    "print(len(item_dict))\n",
    "\n",
    "for ii, outfit in enumerate(test_pos):\n",
    "    items = outfit['items']\n",
    "    mapped = test_X[ii]\n",
    "    item_dict.update({jj:kk['item_id'] for jj, kk in zip(mapped, items)})\n",
    "print(len(item_dict))"
   ]
  },
  {
   "cell_type": "code",
   "execution_count": 7,
   "metadata": {},
   "outputs": [
    {
     "data": {
      "text/plain": [
       "'2.2.0'"
      ]
     },
     "execution_count": 7,
     "metadata": {},
     "output_type": "execute_result"
    }
   ],
   "source": [
    "tf.__version__"
   ]
  },
  {
   "cell_type": "code",
   "execution_count": 8,
   "metadata": {},
   "outputs": [],
   "source": [
    "from rnn import build_multitask_rnn, build_multitask_rnn2\n",
    "from graph import build_multitask_gat\n",
    "from build_model import build_multitask_set_transformer"
   ]
  },
  {
   "cell_type": "code",
   "execution_count": 9,
   "metadata": {},
   "outputs": [],
   "source": [
    "model_type = \"rnn\" # \"set-transformer\", \"rnn\"\n",
    "include_text = True\n",
    "contrastive_loss = False\n",
    "use_graphsage = False\n",
    "batch_size = 32\n",
    "max_seq_len = 8\n",
    "if use_graphsage:\n",
    "    image_embedding_dim = 50\n",
    "    image_embedding_file = os.path.join(embed_dir, \"graphsage_dict2_polyvore.pkl\")\n",
    "else:\n",
    "    image_embedding_dim = 1280\n",
    "    image_embedding_file = os.path.join(embed_dir, \"effnet_tuned_polyvore.pkl\")\n",
    "text_embedding_file = os.path.join(embed_dir, \"bert_polyvore.pkl\")\n",
    "batch_cardinality = 140  # maximum number of items to be considered in a batch"
   ]
  },
  {
   "cell_type": "code",
   "execution_count": 10,
   "metadata": {},
   "outputs": [
    {
     "name": "stdout",
     "output_type": "stream",
     "text": [
      "Model: \"rnn\"\n",
      "__________________________________________________________________________________________________\n",
      "Layer (type)                    Output Shape         Param #     Connected to                     \n",
      "==================================================================================================\n",
      "input_7 (InputLayer)            [(None, 8, 1280)]    0                                            \n",
      "__________________________________________________________________________________________________\n",
      "input_8 (InputLayer)            [(None, 8, 768)]     0                                            \n",
      "__________________________________________________________________________________________________\n",
      "tf_op_layer_Sum (TensorFlowOpLa [(None, 8)]          0           input_7[0][0]                    \n",
      "__________________________________________________________________________________________________\n",
      "tf_op_layer_Sum_1 (TensorFlowOp [(None, 8)]          0           input_8[0][0]                    \n",
      "__________________________________________________________________________________________________\n",
      "tf_op_layer_NotEqual (TensorFlo [(None, 8)]          0           tf_op_layer_Sum[0][0]            \n",
      "__________________________________________________________________________________________________\n",
      "tf_op_layer_NotEqual_1 (TensorF [(None, 8)]          0           tf_op_layer_Sum_1[0][0]          \n",
      "__________________________________________________________________________________________________\n",
      "bidirectional (Bidirectional)   (None, 8, 1024)      7344128     input_7[0][0]                    \n",
      "__________________________________________________________________________________________________\n",
      "bidirectional_1 (Bidirectional) (None, 8, 1024)      5246976     input_8[0][0]                    \n",
      "__________________________________________________________________________________________________\n",
      "lstm_1 (LSTM)                   (None, 8, 512)       3147776     bidirectional[0][0]              \n",
      "__________________________________________________________________________________________________\n",
      "lstm_3 (LSTM)                   (None, 8, 512)       3147776     bidirectional_1[0][0]            \n",
      "__________________________________________________________________________________________________\n",
      "concatenate_4 (Concatenate)     (None, 8, 1024)      0           lstm_1[0][0]                     \n",
      "                                                                 lstm_3[0][0]                     \n",
      "__________________________________________________________________________________________________\n",
      "permute (Permute)               (None, 1024, 8)      0           concatenate_4[0][0]              \n",
      "__________________________________________________________________________________________________\n",
      "dense_1 (Dense)                 (None, 1024, 1)      9           permute[0][0]                    \n",
      "__________________________________________________________________________________________________\n",
      "tf_op_layer_Squeeze (TensorFlow [(None, 1024)]       0           dense_1[0][0]                    \n",
      "__________________________________________________________________________________________________\n",
      "compatibility (Dense)           (None, 1)            1025        tf_op_layer_Squeeze[0][0]        \n",
      "__________________________________________________________________________________________________\n",
      "item_classification (TimeDistri (None, 8, 140)       143500      concatenate_4[0][0]              \n",
      "==================================================================================================\n",
      "Total params: 19,031,190\n",
      "Trainable params: 19,031,190\n",
      "Non-trainable params: 0\n",
      "__________________________________________________________________________________________________\n"
     ]
    }
   ],
   "source": [
    "if model_type == \"rnn\":\n",
    "    model = build_multitask_rnn(max_seq_len, \n",
    "                                image_embedding_dim,\n",
    "                                num_classes=2,\n",
    "                                num_layers=2,\n",
    "                                d_model=512,\n",
    "                                rnn=\"bilstm\",\n",
    "                                final_activation=\"sigmoid\",\n",
    "                                merge_activation=\"tanh\", \n",
    "                                include_text=include_text,\n",
    "                                num_classes2=batch_cardinality,\n",
    "                                )\n",
    "elif model_type == \"rnn2\":\n",
    "    model = build_multitask_rnn2(max_seq_len, \n",
    "                                 image_embedding_dim,\n",
    "                                 num_classes=2,\n",
    "                                 num_layers=1,\n",
    "                                 d_model=512,\n",
    "                                 rnn=\"bilstm\",\n",
    "                                 final_activation=\"sigmoid\",\n",
    "                                 merge_activation=\"tanh\",\n",
    "                                 use_contrastive_loss=contrastive_loss,\n",
    "                                )\n",
    "\n",
    "elif model_type == \"transformer\":\n",
    "    model = build_multitask_transformer(max_seq_len, \n",
    "                                         image_embedding_dim,\n",
    "                                         num_layers=1,\n",
    "                                         d_model=64,\n",
    "                                         num_heads=1,\n",
    "                                         dff=32,\n",
    "                                         rate=0.0,\n",
    "                                         include_text=include_text,\n",
    "                                         inp_dim2=768,\n",
    "                                         num_classes=2,\n",
    "                                         lstm_dim=32,\n",
    "                                         embedding_activation=\"linear\",\n",
    "                                         lstm_activation=\"linear\",\n",
    "                                         final_activation=\"sigmoid\"\n",
    "                                        )\n",
    "elif model_type == \"set-transformer\":\n",
    "    model = build_multitask_set_transformer(max_seq_len, \n",
    "                                            image_embedding_dim, \n",
    "                                            num_layers=3,\n",
    "                                            d_model=256,\n",
    "                                            num_heads=1,\n",
    "                                            dff=32,\n",
    "                                            num_classes=2,\n",
    "                                            lstm_dim=32,\n",
    "                                            include_text=include_text,\n",
    "                                            inp_dim2=768,\n",
    "                                            first_activation=\"tanh\",\n",
    "                                            embedding_activation=\"tanh\",\n",
    "                                            lstm_activation=\"tanh\",\n",
    "                                            final_activation=\"sigmoid\",\n",
    "                                            add_contrastive_loss=contrastive_loss,\n",
    "                                           )\n",
    "elif model_type == \"gat\":\n",
    "    model = build_multitask_gat(max_seq_len, \n",
    "                                image_embedding_dim,\n",
    "                                num_classes=2,\n",
    "                                num_layers=1,\n",
    "                                num_heads=8,\n",
    "                                hidden_units=100,\n",
    "                                final_activation=\"sigmoid\",\n",
    "                                merge_activation=\"tanh\", \n",
    "                                include_text=include_text)\n",
    "    \n",
    "model.summary()"
   ]
  },
  {
   "cell_type": "code",
   "execution_count": 11,
   "metadata": {},
   "outputs": [
    {
     "data": {
      "text/plain": [
       "153"
      ]
     },
     "execution_count": 11,
     "metadata": {},
     "output_type": "execute_result"
    }
   ],
   "source": [
    "all_item_categories = set([pv_items[item]['category_id'] for item in pv_items])\n",
    "len(all_item_categories)"
   ]
  },
  {
   "cell_type": "code",
   "execution_count": 12,
   "metadata": {},
   "outputs": [],
   "source": [
    "label_renum_dict = {}\n",
    "for ii, k in enumerate(all_item_categories):\n",
    "    label_renum_dict[k] = ii"
   ]
  },
  {
   "cell_type": "code",
   "execution_count": 13,
   "metadata": {},
   "outputs": [],
   "source": [
    "# keras.utils.plot_model(model)\n",
    "from data_process import CustomDataGen\n",
    "train_gen = CustomDataGen(train_X, train_y, \n",
    "                          item_dict, \n",
    "                          pv_items, \n",
    "                          image_dir, \n",
    "                          batch_size=batch_size,\n",
    "                          max_len=max_seq_len,\n",
    "                          only_image=not include_text,\n",
    "                          image_embedding=True,\n",
    "                          image_embedding_dim=image_embedding_dim,\n",
    "                          image_embedding_file=image_embedding_file,\n",
    "                          text_embedding_file=text_embedding_file,\n",
    "                          return_item_categories=True,\n",
    "                          return_negative_samples=contrastive_loss,\n",
    "                          number_negative_samples=8,\n",
    "                          label_dict=label_renum_dict,\n",
    "                          number_items_in_batch=batch_cardinality-2,\n",
    "                         )\n",
    "\n",
    "valid_gen = CustomDataGen(valid_X, valid_y, \n",
    "                          item_dict, \n",
    "                          pv_items, \n",
    "                          image_dir, \n",
    "                          batch_size=batch_size,\n",
    "                          max_len=max_seq_len,\n",
    "                          only_image=not include_text,\n",
    "                          image_embedding=True,\n",
    "                          image_embedding_dim=image_embedding_dim,\n",
    "                          image_embedding_file=image_embedding_file,\n",
    "                          text_embedding_file=text_embedding_file,\n",
    "                          return_item_categories=True,\n",
    "                          return_negative_samples=contrastive_loss,\n",
    "                          number_negative_samples=8,\n",
    "                          label_dict=label_renum_dict,\n",
    "                          number_items_in_batch=batch_cardinality-2,\n",
    "                         )"
   ]
  },
  {
   "cell_type": "code",
   "execution_count": 14,
   "metadata": {},
   "outputs": [
    {
     "name": "stdout",
     "output_type": "stream",
     "text": [
      "[(32, 8, 1280), (32, 8, 768)] [(32,), (32, 8)]\n",
      "[(32, 8, 1280), (32, 8, 768)] [(32,), (32, 8)]\n",
      "[(32, 8, 1280), (32, 8, 768)] [(32,), (32, 8)]\n",
      "[(32, 8, 1280), (32, 8, 768)] [(32,), (32, 8)]\n",
      "[(32, 8, 1280), (32, 8, 768)] [(32,), (32, 8)]\n",
      "[(32, 8, 1280), (32, 8, 768)] [(32,), (32, 8)]\n",
      "[(32, 8, 1280), (32, 8, 768)] [(32,), (32, 8)]\n",
      "[(32, 8, 1280), (32, 8, 768)] [(32,), (32, 8)]\n",
      "[(32, 8, 1280), (32, 8, 768)] [(32,), (32, 8)]\n",
      "[(32, 8, 1280), (32, 8, 768)] [(32,), (32, 8)]\n"
     ]
    }
   ],
   "source": [
    "for ii in range(10):\n",
    "    inps, targs = train_gen[ii]\n",
    "    print([x.shape for x in inps], [y.shape for y in targs])"
   ]
  },
  {
   "cell_type": "code",
   "execution_count": 15,
   "metadata": {},
   "outputs": [
    {
     "data": {
      "text/plain": [
       "array([[ -1,  -1,  -1,  37, 105,  14,  64, 139],\n",
       "       [ -1,  -1,  -1,  -1, 102,  70, 134, 139],\n",
       "       [ -1,  -1,  68, 138, 138,  30,  95, 139],\n",
       "       [ -1,  -1,  -1,  -1, 138,  57, 138, 139],\n",
       "       [ -1,  -1,  62,  73, 138, 112, 108, 139],\n",
       "       [ -1,  90, 117, 111,  93,  59, 118, 139],\n",
       "       [ -1,  54,  99,  35, 104,  47,  49, 139],\n",
       "       [ -1,  -1,  11,  50,  74,   4,  41, 139],\n",
       "       [ -1,  -1,  65,  22, 138, 138,  43, 139],\n",
       "       [ -1, 115, 123,  71,  94,  19, 138, 139],\n",
       "       [ -1,  -1,  -1,  -1,  -1,  55, 137, 139],\n",
       "       [ -1,  -1,  -1, 100,  92,   1,  31, 139],\n",
       "       [ -1,  -1,  17,  48,  21, 132,  83, 139],\n",
       "       [ -1,  -1,  69,  96,   7,  63,  27, 139],\n",
       "       [ -1,  -1,  -1,  -1,  18,  23,   0, 139],\n",
       "       [ 81, 106, 138,  89, 138, 138,   5, 139],\n",
       "       [ -1,  -1,  -1,  13,  33, 138,   6, 139],\n",
       "       [ -1,  -1,   9, 138, 131, 138, 133, 139],\n",
       "       [ -1,  -1, 138,  20,  75,  87, 138, 139],\n",
       "       [ -1,  -1,  -1, 128, 138, 129, 119, 139],\n",
       "       [ -1,  -1,  -1,  58, 138, 101, 107, 139],\n",
       "       [ -1,  -1,  -1,  -1,  29,  67,  98, 139],\n",
       "       [ -1,  -1, 127,  39,  60, 136, 138, 139],\n",
       "       [ -1,  -1,  -1,  10, 114, 138,  52, 139],\n",
       "       [ -1,  -1,  -1,  -1, 138, 138,  24, 139],\n",
       "       [ -1,  -1,   2, 138,  88, 121,   3, 139],\n",
       "       [ -1,  -1,  -1, 113, 109,  15,  66, 139],\n",
       "       [ -1,  -1,  -1,  51, 138,  42,  16, 139],\n",
       "       [ -1,  -1,  -1, 138, 138, 138, 116, 139],\n",
       "       [ 12,  44,  82, 138,  91, 120,  84, 139],\n",
       "       [ -1,  -1,  -1,  -1, 103,  28,   8, 139],\n",
       "       [ -1,  -1, 124, 125,  61,  40,  26, 139]])"
      ]
     },
     "execution_count": 15,
     "metadata": {},
     "output_type": "execute_result"
    }
   ],
   "source": [
    "targs[1]"
   ]
  },
  {
   "cell_type": "code",
   "execution_count": 16,
   "metadata": {},
   "outputs": [],
   "source": [
    "def sparse_crossentropy_masked(y_true, y_pred):\n",
    "    y_true_masked = tf.boolean_mask(y_true, tf.not_equal(y_true, -1))\n",
    "    y_pred_masked = tf.boolean_mask(y_pred, tf.not_equal(y_true, -1))\n",
    "    return K.mean(K.sparse_categorical_crossentropy(y_true_masked, y_pred_masked))\n",
    "\n",
    "\n",
    "def contrastive_masked(y_true, y_pred):\n",
    "    loss_mask = tf.not_equal(y_true, -1)\n",
    "    y_pred_masked = tf.boolean_mask(y_pred, loss_mask, name='contrastive')\n",
    "    return K.mean(y_pred_masked)\n"
   ]
  },
  {
   "cell_type": "code",
   "execution_count": 17,
   "metadata": {},
   "outputs": [],
   "source": [
    "# yhat = model(inps)\n",
    "# print([y.shape for y in yhat])\n",
    "# print([y.shape for y in targs])\n",
    "# scce = tf.keras.losses.SparseCategoricalCrossentropy()\n",
    "# scce(y[1], yh2).numpy()\n",
    "# sparse_crossentropy_masked(y[1], yh2).numpy()\n",
    "# contrastive_masked(targs[2], yhat[2])"
   ]
  },
  {
   "cell_type": "code",
   "execution_count": 19,
   "metadata": {},
   "outputs": [
    {
     "name": "stdout",
     "output_type": "stream",
     "text": [
      "Epoch 1/100\n",
      "3332/3332 [==============================] - 367s 110ms/step - loss: 3.1511 - compatibility_loss: 0.6950 - item_classification_loss: 2.4561 - compatibility_auc_1: 0.4995 - item_classification_accuracy: 0.2175 - val_loss: 3.1175 - val_compatibility_loss: 0.6929 - val_item_classification_loss: 2.4245 - val_compatibility_auc_1: 0.5207 - val_item_classification_accuracy: 0.2237\n",
      "Epoch 2/100\n",
      "3332/3332 [==============================] - 358s 107ms/step - loss: 3.1070 - compatibility_loss: 0.6935 - item_classification_loss: 2.4136 - compatibility_auc_1: 0.5085 - item_classification_accuracy: 0.2235 - val_loss: 3.1145 - val_compatibility_loss: 0.6912 - val_item_classification_loss: 2.4233 - val_compatibility_auc_1: 0.5462 - val_item_classification_accuracy: 0.2233\n",
      "Epoch 3/100\n",
      "3332/3332 [==============================] - 357s 107ms/step - loss: 3.0942 - compatibility_loss: 0.6816 - item_classification_loss: 2.4127 - compatibility_auc_1: 0.5792 - item_classification_accuracy: 0.2235 - val_loss: 3.0909 - val_compatibility_loss: 0.6671 - val_item_classification_loss: 2.4238 - val_compatibility_auc_1: 0.6281 - val_item_classification_accuracy: 0.2232\n",
      "Epoch 4/100\n",
      "3332/3332 [==============================] - 357s 107ms/step - loss: 3.0687 - compatibility_loss: 0.6562 - item_classification_loss: 2.4125 - compatibility_auc_1: 0.6506 - item_classification_accuracy: 0.2235 - val_loss: 3.0737 - val_compatibility_loss: 0.6508 - val_item_classification_loss: 2.4229 - val_compatibility_auc_1: 0.6656 - val_item_classification_accuracy: 0.2234\n",
      "Epoch 5/100\n",
      "3332/3332 [==============================] - 357s 107ms/step - loss: 3.0515 - compatibility_loss: 0.6382 - item_classification_loss: 2.4134 - compatibility_auc_1: 0.6839 - item_classification_accuracy: 0.2234 - val_loss: 3.0633 - val_compatibility_loss: 0.6405 - val_item_classification_loss: 2.4228 - val_compatibility_auc_1: 0.6877 - val_item_classification_accuracy: 0.2235\n",
      "Epoch 6/100\n",
      "3332/3332 [==============================] - 357s 107ms/step - loss: 3.0363 - compatibility_loss: 0.6231 - item_classification_loss: 2.4132 - compatibility_auc_1: 0.7059 - item_classification_accuracy: 0.2234 - val_loss: 3.0570 - val_compatibility_loss: 0.6335 - val_item_classification_loss: 2.4235 - val_compatibility_auc_1: 0.6906 - val_item_classification_accuracy: 0.2234\n",
      "Epoch 7/100\n",
      "3332/3332 [==============================] - 357s 107ms/step - loss: 3.0210 - compatibility_loss: 0.6086 - item_classification_loss: 2.4124 - compatibility_auc_1: 0.7251 - item_classification_accuracy: 0.2235 - val_loss: 3.0428 - val_compatibility_loss: 0.6199 - val_item_classification_loss: 2.4229 - val_compatibility_auc_1: 0.7136 - val_item_classification_accuracy: 0.2235\n",
      "Epoch 8/100\n",
      "3332/3332 [==============================] - 358s 107ms/step - loss: 3.0066 - compatibility_loss: 0.5945 - item_classification_loss: 2.4122 - compatibility_auc_1: 0.7424 - item_classification_accuracy: 0.2235 - val_loss: 3.0346 - val_compatibility_loss: 0.6115 - val_item_classification_loss: 2.4231 - val_compatibility_auc_1: 0.7293 - val_item_classification_accuracy: 0.2234\n",
      "Epoch 9/100\n",
      "3332/3332 [==============================] - 357s 107ms/step - loss: 2.9932 - compatibility_loss: 0.5803 - item_classification_loss: 2.4129 - compatibility_auc_1: 0.7581 - item_classification_accuracy: 0.2234 - val_loss: 3.0334 - val_compatibility_loss: 0.6095 - val_item_classification_loss: 2.4239 - val_compatibility_auc_1: 0.7363 - val_item_classification_accuracy: 0.2232\n",
      "Epoch 10/100\n",
      "3332/3332 [==============================] - 358s 107ms/step - loss: 2.9785 - compatibility_loss: 0.5664 - item_classification_loss: 2.4121 - compatibility_auc_1: 0.7734 - item_classification_accuracy: 0.2235 - val_loss: 3.0140 - val_compatibility_loss: 0.5912 - val_item_classification_loss: 2.4227 - val_compatibility_auc_1: 0.7493 - val_item_classification_accuracy: 0.2235\n",
      "Epoch 11/100\n",
      "3332/3332 [==============================] - 357s 107ms/step - loss: 2.9656 - compatibility_loss: 0.5536 - item_classification_loss: 2.4120 - compatibility_auc_1: 0.7860 - item_classification_accuracy: 0.2235 - val_loss: 3.0070 - val_compatibility_loss: 0.5843 - val_item_classification_loss: 2.4227 - val_compatibility_auc_1: 0.7589 - val_item_classification_accuracy: 0.2235\n",
      "Epoch 12/100\n",
      "3332/3332 [==============================] - 357s 107ms/step - loss: 2.9527 - compatibility_loss: 0.5408 - item_classification_loss: 2.4119 - compatibility_auc_1: 0.7981 - item_classification_accuracy: 0.2236 - val_loss: 3.0022 - val_compatibility_loss: 0.5801 - val_item_classification_loss: 2.4221 - val_compatibility_auc_1: 0.7674 - val_item_classification_accuracy: 0.2238\n",
      "Epoch 13/100\n",
      "3332/3332 [==============================] - 358s 107ms/step - loss: 2.9418 - compatibility_loss: 0.5297 - item_classification_loss: 2.4121 - compatibility_auc_1: 0.8079 - item_classification_accuracy: 0.2235 - val_loss: 2.9989 - val_compatibility_loss: 0.5744 - val_item_classification_loss: 2.4246 - val_compatibility_auc_1: 0.7749 - val_item_classification_accuracy: 0.2229\n",
      "Epoch 14/100\n",
      "3332/3332 [==============================] - 356s 107ms/step - loss: 2.9305 - compatibility_loss: 0.5187 - item_classification_loss: 2.4118 - compatibility_auc_1: 0.8177 - item_classification_accuracy: 0.2236 - val_loss: 2.9943 - val_compatibility_loss: 0.5714 - val_item_classification_loss: 2.4230 - val_compatibility_auc_1: 0.7780 - val_item_classification_accuracy: 0.2236\n",
      "Epoch 15/100\n",
      "3332/3332 [==============================] - 357s 107ms/step - loss: 2.9190 - compatibility_loss: 0.5070 - item_classification_loss: 2.4120 - compatibility_auc_1: 0.8271 - item_classification_accuracy: 0.2235 - val_loss: 2.9907 - val_compatibility_loss: 0.5653 - val_item_classification_loss: 2.4253 - val_compatibility_auc_1: 0.7847 - val_item_classification_accuracy: 0.2229\n",
      "Epoch 16/100\n",
      "3332/3332 [==============================] - 357s 107ms/step - loss: 2.9093 - compatibility_loss: 0.4973 - item_classification_loss: 2.4120 - compatibility_auc_1: 0.8344 - item_classification_accuracy: 0.2236 - val_loss: 2.9966 - val_compatibility_loss: 0.5737 - val_item_classification_loss: 2.4230 - val_compatibility_auc_1: 0.7832 - val_item_classification_accuracy: 0.2234\n",
      "Epoch 17/100\n",
      "3332/3332 [==============================] - 357s 107ms/step - loss: 2.8992 - compatibility_loss: 0.4876 - item_classification_loss: 2.4115 - compatibility_auc_1: 0.8418 - item_classification_accuracy: 0.2237 - val_loss: 2.9870 - val_compatibility_loss: 0.5643 - val_item_classification_loss: 2.4227 - val_compatibility_auc_1: 0.7912 - val_item_classification_accuracy: 0.2235\n",
      "Epoch 18/100\n",
      "3332/3332 [==============================] - 358s 107ms/step - loss: 2.8903 - compatibility_loss: 0.4778 - item_classification_loss: 2.4125 - compatibility_auc_1: 0.8489 - item_classification_accuracy: 0.2234 - val_loss: 2.9897 - val_compatibility_loss: 0.5618 - val_item_classification_loss: 2.4279 - val_compatibility_auc_1: 0.7929 - val_item_classification_accuracy: 0.2231\n",
      "Epoch 19/100\n",
      "3332/3332 [==============================] - 357s 107ms/step - loss: 2.8801 - compatibility_loss: 0.4683 - item_classification_loss: 2.4117 - compatibility_auc_1: 0.8559 - item_classification_accuracy: 0.2235 - val_loss: 2.9867 - val_compatibility_loss: 0.5643 - val_item_classification_loss: 2.4225 - val_compatibility_auc_1: 0.7968 - val_item_classification_accuracy: 0.2236\n",
      "Epoch 20/100\n",
      "3332/3332 [==============================] - 358s 108ms/step - loss: 2.8707 - compatibility_loss: 0.4583 - item_classification_loss: 2.4125 - compatibility_auc_1: 0.8626 - item_classification_accuracy: 0.2235 - val_loss: 2.9912 - val_compatibility_loss: 0.5680 - val_item_classification_loss: 2.4232 - val_compatibility_auc_1: 0.7975 - val_item_classification_accuracy: 0.2233\n",
      "Epoch 21/100\n",
      "3332/3332 [==============================] - 357s 107ms/step - loss: 2.8607 - compatibility_loss: 0.4485 - item_classification_loss: 2.4122 - compatibility_auc_1: 0.8690 - item_classification_accuracy: 0.2234 - val_loss: 2.9861 - val_compatibility_loss: 0.5641 - val_item_classification_loss: 2.4220 - val_compatibility_auc_1: 0.8018 - val_item_classification_accuracy: 0.2238\n",
      "Epoch 22/100\n"
     ]
    },
    {
     "name": "stdout",
     "output_type": "stream",
     "text": [
      "3332/3332 [==============================] - 358s 107ms/step - loss: 2.8507 - compatibility_loss: 0.4387 - item_classification_loss: 2.4120 - compatibility_auc_1: 0.8754 - item_classification_accuracy: 0.2234 - val_loss: 2.9895 - val_compatibility_loss: 0.5669 - val_item_classification_loss: 2.4226 - val_compatibility_auc_1: 0.8031 - val_item_classification_accuracy: 0.2236\n",
      "Epoch 23/100\n",
      "3332/3332 [==============================] - 357s 107ms/step - loss: 2.8425 - compatibility_loss: 0.4299 - item_classification_loss: 2.4126 - compatibility_auc_1: 0.8806 - item_classification_accuracy: 0.2235 - val_loss: 2.9960 - val_compatibility_loss: 0.5733 - val_item_classification_loss: 2.4227 - val_compatibility_auc_1: 0.8030 - val_item_classification_accuracy: 0.2236\n",
      "Epoch 24/100\n",
      "3332/3332 [==============================] - 358s 107ms/step - loss: 2.8316 - compatibility_loss: 0.4194 - item_classification_loss: 2.4122 - compatibility_auc_1: 0.8870 - item_classification_accuracy: 0.2235 - val_loss: 3.0069 - val_compatibility_loss: 0.5840 - val_item_classification_loss: 2.4230 - val_compatibility_auc_1: 0.8035 - val_item_classification_accuracy: 0.2234\n",
      "Epoch 25/100\n",
      "3332/3332 [==============================] - 358s 107ms/step - loss: 2.8244 - compatibility_loss: 0.4125 - item_classification_loss: 2.4118 - compatibility_auc_1: 0.8908 - item_classification_accuracy: 0.2235 - val_loss: 3.0132 - val_compatibility_loss: 0.5903 - val_item_classification_loss: 2.4229 - val_compatibility_auc_1: 0.8035 - val_item_classification_accuracy: 0.2235\n",
      "Epoch 26/100\n",
      "3332/3332 [==============================] - 358s 107ms/step - loss: 2.8137 - compatibility_loss: 0.4024 - item_classification_loss: 2.4113 - compatibility_auc_1: 0.8964 - item_classification_accuracy: 0.2236 - val_loss: 3.0167 - val_compatibility_loss: 0.5941 - val_item_classification_loss: 2.4227 - val_compatibility_auc_1: 0.8026 - val_item_classification_accuracy: 0.2235\n",
      "Epoch 27/100\n",
      "3332/3332 [==============================] - 358s 107ms/step - loss: 2.8052 - compatibility_loss: 0.3932 - item_classification_loss: 2.4120 - compatibility_auc_1: 0.9016 - item_classification_accuracy: 0.2234 - val_loss: 3.0268 - val_compatibility_loss: 0.6034 - val_item_classification_loss: 2.4234 - val_compatibility_auc_1: 0.8046 - val_item_classification_accuracy: 0.2234\n",
      "Epoch 28/100\n",
      "3332/3332 [==============================] - 357s 107ms/step - loss: 2.7953 - compatibility_loss: 0.3834 - item_classification_loss: 2.4119 - compatibility_auc_1: 0.9067 - item_classification_accuracy: 0.2234 - val_loss: 3.0274 - val_compatibility_loss: 0.6044 - val_item_classification_loss: 2.4230 - val_compatibility_auc_1: 0.8068 - val_item_classification_accuracy: 0.2236\n"
     ]
    },
    {
     "data": {
      "text/plain": [
       "10044.929625034332"
      ]
     },
     "execution_count": 19,
     "metadata": {},
     "output_type": "execute_result"
    }
   ],
   "source": [
    "learning_rate = 1.0e-05\n",
    "epochs = 100\n",
    "patience = 10\n",
    "model_name1 = \"item_classification\"\n",
    "model_name2 = \"compatibility\"\n",
    "model_name3 = \"tf_op_layer_contrastive\"\n",
    "opt = keras.optimizers.Adam(learning_rate=learning_rate)\n",
    "if contrastive_loss:\n",
    "    loss_dict = {model_name2: tf.keras.losses.BinaryCrossentropy(from_logits=False, name='binary_crossentropy'), \n",
    "                 model_name1: sparse_crossentropy_masked,\n",
    "                 model_name3: \"mse\", #\"mse\", contrastive_masked\n",
    "                }\n",
    "    weight_dict = {model_name1: 1.0, \n",
    "                   model_name2: 1.0, \n",
    "                   model_name3: 1.0e-02\n",
    "                  }\n",
    "    metric_dict = {model_name1: 'accuracy', \n",
    "                   model_name2: tf.keras.metrics.AUC(), \n",
    "                   model_name3: \"mse\"\n",
    "                  }\n",
    "else:\n",
    "    loss_dict = {model_name2: tf.keras.losses.BinaryCrossentropy(from_logits=False, name='binary_crossentropy'), \n",
    "                 model_name1: sparse_crossentropy_masked,\n",
    "                }\n",
    "    weight_dict = {model_name1: 1.0, \n",
    "                   model_name2: 1.0, \n",
    "                  }\n",
    "    metric_dict = {model_name1: 'accuracy', \n",
    "                   model_name2: tf.keras.metrics.AUC(), \n",
    "                  }\n",
    "    \n",
    "model.compile(loss=loss_dict,\n",
    "              loss_weights=weight_dict,\n",
    "              optimizer=opt,\n",
    "              metrics=metric_dict)\n",
    "\n",
    "callback = EarlyStopping(\n",
    "                        monitor=\"val_compatibility_loss\", # \"val_loss\", \"val_compatibility_loss\"\n",
    "                        min_delta=0,\n",
    "                        patience=patience,\n",
    "                        verbose=0,\n",
    "                        mode=\"auto\",\n",
    "                        baseline=None,\n",
    "                        restore_best_weights=True,\n",
    "                    )\n",
    "reduce_lr = ReduceLROnPlateau(monitor='val_loss', factor=0.5,\n",
    "                              patience=3, min_lr=1e-06)\n",
    "\n",
    "tic = time.time()\n",
    "if 'history' in locals():\n",
    "    history_prev = history\n",
    "history = model.fit(train_gen, \n",
    "                    epochs=epochs, \n",
    "                    batch_size=batch_size,\n",
    "                    validation_data=valid_gen,\n",
    "                    validation_batch_size=32,\n",
    "                    validation_freq=1,\n",
    "                    callbacks=[callback],\n",
    "                    verbose=1)\n",
    "time.time() - tic"
   ]
  },
  {
   "cell_type": "code",
   "execution_count": 23,
   "metadata": {},
   "outputs": [
    {
     "name": "stdout",
     "output_type": "stream",
     "text": [
      "DOne\n"
     ]
    }
   ],
   "source": [
    "print(\"DOne\")"
   ]
  },
  {
   "cell_type": "code",
   "execution_count": 21,
   "metadata": {},
   "outputs": [],
   "source": [
    "def plot_results(history, auc_str = 'auc'):\n",
    "    f, axs = plt.subplots(2,2,figsize=(15,6))\n",
    "    max_val_auc = max(history.history[f'val_compatibility_{auc_str}'])\n",
    "    f.suptitle(f'Performance of a {model_type} model (Max. AUC = {max_val_auc:.4})', fontsize=16)\n",
    "    plt.subplot(221)\n",
    "    plt.plot(history.history['compatibility_loss'], label='train-compatibility-loss')\n",
    "    plt.plot(history.history['val_compatibility_loss'], label='validation-loss')\n",
    "    plt.legend()\n",
    "\n",
    "    plt.subplot(222)\n",
    "    plt.plot(history.history['item_classification_loss'], label='train-classification-loss')\n",
    "    plt.plot(history.history['val_item_classification_loss'], label='validation-loss')\n",
    "    plt.legend()\n",
    "\n",
    "    plt.subplot(223)\n",
    "    plt.plot(history.history[f'compatibility_{auc_str}'], label='train-AUC')\n",
    "    plt.plot(history.history[f'val_compatibility_{auc_str}'], label='validation-AUC')\n",
    "    plt.legend()\n",
    "\n",
    "    plt.subplot(224)\n",
    "    plt.plot(history.history['item_classification_accuracy'], label='train-accuracy')\n",
    "    plt.plot(history.history['val_item_classification_accuracy'], label='validation-accuracy')\n",
    "    plt.legend()    "
   ]
  },
  {
   "cell_type": "code",
   "execution_count": 22,
   "metadata": {},
   "outputs": [
    {
     "data": {
      "image/png": "[encoded data removed]",
      "text/plain": [
       "<Figure size 1080x432 with 4 Axes>"
      ]
     },
     "metadata": {
      "needs_background": "light"
     },
     "output_type": "display_data"
    }
   ],
   "source": [
    "plot_results(history, auc_str = 'auc_1')"
   ]
  },
  {
   "cell_type": "code",
   "execution_count": null,
   "metadata": {},
   "outputs": [],
   "source": [
    "plot_results(history, auc_str = 'auc')"
   ]
  },
  {
   "cell_type": "code",
   "execution_count": null,
   "metadata": {},
   "outputs": [],
   "source": [
    "f, axs = plt.subplots(2,2,figsize=(15,6))\n",
    "max_val_auc = max(history.history['val_compatibility_auc'])\n",
    "f.suptitle(f'Performance of a {model_type} model (Max. AUC = {max_val_auc})', fontsize=16)\n",
    "plt.subplot(221)\n",
    "plt.plot(history.history['compatibility_loss'], label='train-compatibility-loss')\n",
    "plt.plot(history.history['val_compatibility_loss'], label='validation-loss')\n",
    "plt.legend()\n",
    "\n",
    "plt.subplot(222)\n",
    "plt.plot(history.history['item_classification_loss'], label='train-classification-loss')\n",
    "plt.plot(history.history['val_item_classification_loss'], label='validation-loss')\n",
    "plt.legend()\n",
    "\n",
    "plt.subplot(223)\n",
    "plt.plot(history.history['compatibility_auc'], label='train-AUC')\n",
    "plt.plot(history.history['val_compatibility_auc'], label='validation-AUC')\n",
    "plt.legend()\n",
    "\n",
    "plt.subplot(224)\n",
    "plt.plot(history.history['item_classification_accuracy'], label='train-accuracy')\n",
    "plt.plot(history.history['val_item_classification_accuracy'], label='validation-accuracy')\n",
    "plt.legend()"
   ]
  },
  {
   "cell_type": "code",
   "execution_count": null,
   "metadata": {},
   "outputs": [],
   "source": [
    "f, axs = plt.subplots(2,2,figsize=(15,6))\n",
    "f.suptitle(f'Performance of a {model_type} model', fontsize=16)\n",
    "plt.subplot(221)\n",
    "plt.plot(history.history['compatibility_loss'], label='train-compatibility-loss')\n",
    "plt.plot(history.history['val_compatibility_loss'], label='validation-loss')\n",
    "plt.legend()\n",
    "\n",
    "plt.subplot(222)\n",
    "plt.plot(history.history['item_classification_loss'], label='train-classification-loss')\n",
    "plt.plot(history.history['val_item_classification_loss'], label='validation-loss')\n",
    "plt.legend()\n",
    "\n",
    "plt.subplot(223)\n",
    "plt.plot(history.history['compatibility_auc'], label='train-AUC')\n",
    "plt.plot(history.history['val_compatibility_auc'], label='validation-AUC')\n",
    "plt.legend()\n",
    "\n",
    "plt.subplot(224)\n",
    "plt.plot(history.history['item_classification_accuracy'], label='train-accuracy')\n",
    "plt.plot(history.history['val_item_classification_accuracy'], label='validation-accuracy')\n",
    "plt.legend()"
   ]
  },
  {
   "cell_type": "code",
   "execution_count": 23,
   "metadata": {},
   "outputs": [],
   "source": [
    "test_gen = CustomDataGen(test_X, test_y, \n",
    "                          item_dict, \n",
    "                          pv_items, \n",
    "                          image_dir, \n",
    "                          batch_size=batch_size,\n",
    "                          max_len=max_seq_len,\n",
    "                          only_image=not include_text,\n",
    "                          image_embedding=True,\n",
    "                          image_embedding_dim=image_embedding_dim,\n",
    "                          image_embedding_file=image_embedding_file,\n",
    "                          text_embedding_file=text_embedding_file,\n",
    "                          return_item_categories=True,\n",
    "                          return_negative_samples=contrastive_loss,\n",
    "                          number_negative_samples=8,\n",
    "                          label_dict=label_renum_dict,\n",
    "                          number_items_in_batch=batch_cardinality-2,\n",
    "                         )"
   ]
  },
  {
   "cell_type": "code",
   "execution_count": 29,
   "metadata": {},
   "outputs": [],
   "source": [
    "def get_accuracy_auc(data_gen):\n",
    "    m = tf.keras.metrics.BinaryAccuracy()\n",
    "    m2 = tf.keras.metrics.AUC()\n",
    "    acc_list = []\n",
    "    pbar = tqdm(range(len(data_gen)))\n",
    "    ys, yhats = [], []\n",
    "    for ii in pbar:\n",
    "        x, y = data_gen[ii]  # batch size\n",
    "        yhat = model(x)\n",
    "        m.update_state(y[0], yhat[0])\n",
    "        batch_acc = m.result().numpy()\n",
    "        acc_list.append(batch_acc)\n",
    "        pbar.set_description(\"Batch accuracy %g\" % batch_acc)\n",
    "        ys.append(y[0])\n",
    "        yhats.append(yhat[0])\n",
    "    print(f\"Average Accuracy: {np.mean(acc_list):.4}\")\n",
    "    big_y = np.concatenate(ys, axis=0)\n",
    "    big_yh = np.concatenate(yhats, axis=0)\n",
    "    m2.update_state(big_y, big_yh)\n",
    "    auc = m2.result().numpy()\n",
    "    print(f\"AUC: {auc:.4}\")\n"
   ]
  },
  {
   "cell_type": "code",
   "execution_count": 30,
   "metadata": {},
   "outputs": [
    {
     "name": "stderr",
     "output_type": "stream",
     "text": [
      "Batch accuracy 0.72495: 100%|██████████| 625/625 [01:18<00:00,  7.98it/s] \n"
     ]
    },
    {
     "name": "stdout",
     "output_type": "stream",
     "text": [
      "Average Accuracy: 0.727\n",
      "AUC: 0.7978\n"
     ]
    }
   ],
   "source": [
    "get_accuracy_auc(test_gen)"
   ]
  },
  {
   "cell_type": "code",
   "execution_count": 16,
   "metadata": {},
   "outputs": [],
   "source": [
    "import tensorflow as tf\n",
    "from tensorflow import keras\n",
    "from tensorflow.keras import layers\n",
    "import numpy as np\n",
    "import pandas as pd\n",
    "import os\n",
    "import warnings\n",
    "\n",
    "warnings.filterwarnings(\"ignore\")\n",
    "pd.set_option(\"display.max_columns\", 6)\n",
    "pd.set_option(\"display.max_rows\", 6)\n",
    "np.random.seed(2)"
   ]
  },
  {
   "cell_type": "code",
   "execution_count": 17,
   "metadata": {},
   "outputs": [
    {
     "name": "stdout",
     "output_type": "stream",
     "text": [
      "Downloading data from https://linqs-data.soe.ucsc.edu/public/lbc/cora.tgz\n",
      "172032/168052 [==============================] - 0s 1us/step\n",
      "      target  source\n",
      "0          0      21\n",
      "1          0     905\n",
      "2          0     906\n",
      "...      ...     ...\n",
      "5426    1874    2586\n",
      "5427    1876    1874\n",
      "5428    1897    2707\n",
      "\n",
      "[5429 rows x 2 columns]\n",
      "      paper_id  term_0  term_1  ...  term_1431  term_1432  subject\n",
      "0          462       0       0  ...          0          0        2\n",
      "1         1911       0       0  ...          0          0        5\n",
      "2         2002       0       0  ...          0          0        4\n",
      "...        ...     ...     ...  ...        ...        ...      ...\n",
      "2705      2372       0       0  ...          0          0        1\n",
      "2706       955       0       0  ...          0          0        0\n",
      "2707       376       0       0  ...          0          0        2\n",
      "\n",
      "[2708 rows x 1435 columns]\n"
     ]
    }
   ],
   "source": [
    "zip_file = keras.utils.get_file(\n",
    "    fname=\"cora.tgz\",\n",
    "    origin=\"https://linqs-data.soe.ucsc.edu/public/lbc/cora.tgz\",\n",
    "    extract=True,\n",
    ")\n",
    "\n",
    "data_dir = os.path.join(os.path.dirname(zip_file), \"cora\")\n",
    "\n",
    "citations = pd.read_csv(\n",
    "    os.path.join(data_dir, \"cora.cites\"),\n",
    "    sep=\"\\t\",\n",
    "    header=None,\n",
    "    names=[\"target\", \"source\"],\n",
    ")\n",
    "\n",
    "papers = pd.read_csv(\n",
    "    os.path.join(data_dir, \"cora.content\"),\n",
    "    sep=\"\\t\",\n",
    "    header=None,\n",
    "    names=[\"paper_id\"] + [f\"term_{idx}\" for idx in range(1433)] + [\"subject\"],\n",
    ")\n",
    "\n",
    "class_values = sorted(papers[\"subject\"].unique())\n",
    "class_idx = {name: id for id, name in enumerate(class_values)}\n",
    "paper_idx = {name: idx for idx, name in enumerate(sorted(papers[\"paper_id\"].unique()))}\n",
    "\n",
    "papers[\"paper_id\"] = papers[\"paper_id\"].apply(lambda name: paper_idx[name])\n",
    "citations[\"source\"] = citations[\"source\"].apply(lambda name: paper_idx[name])\n",
    "citations[\"target\"] = citations[\"target\"].apply(lambda name: paper_idx[name])\n",
    "papers[\"subject\"] = papers[\"subject\"].apply(lambda value: class_idx[value])\n",
    "\n",
    "print(citations)\n",
    "\n",
    "print(papers)"
   ]
  },
  {
   "cell_type": "code",
   "execution_count": 18,
   "metadata": {},
   "outputs": [],
   "source": [
    "# Obtain random indices\n",
    "random_indices = np.random.permutation(range(papers.shape[0]))\n",
    "\n",
    "# 50/50 split\n",
    "train_data = papers.iloc[random_indices[: len(random_indices) // 2]]\n",
    "test_data = papers.iloc[random_indices[len(random_indices) // 2 :]]"
   ]
  },
  {
   "cell_type": "code",
   "execution_count": 20,
   "metadata": {},
   "outputs": [
    {
     "name": "stdout",
     "output_type": "stream",
     "text": [
      "Edges shape:\t\t (5429, 2)\n",
      "Node features shape: (2708, 1433)\n"
     ]
    }
   ],
   "source": [
    "# Obtain paper indices which will be used to gather node states\n",
    "# from the graph later on when training the model\n",
    "train_indices = train_data[\"paper_id\"].to_numpy()\n",
    "test_indices = test_data[\"paper_id\"].to_numpy()\n",
    "\n",
    "# Obtain ground truth labels corresponding to each paper_id\n",
    "train_labels = train_data[\"subject\"].to_numpy()\n",
    "test_labels = test_data[\"subject\"].to_numpy()\n",
    "\n",
    "# Define graph, namely an edge tensor and a node feature tensor\n",
    "edges = tf.convert_to_tensor(citations[[\"target\", \"source\"]])\n",
    "node_states = tf.convert_to_tensor(papers.sort_values(\"paper_id\").iloc[:, 1:-1])\n",
    "\n",
    "# Print shapes of the graph\n",
    "print(\"Edges shape:\\t\\t\", edges.shape)\n",
    "print(\"Node features shape:\", node_states.shape)"
   ]
  },
  {
   "cell_type": "code",
   "execution_count": 21,
   "metadata": {},
   "outputs": [
    {
     "data": {
      "text/plain": [
       "((1354,), (1354,))"
      ]
     },
     "execution_count": 21,
     "metadata": {},
     "output_type": "execute_result"
    }
   ],
   "source": [
    "train_indices.shape, train_labels.shape"
   ]
  },
  {
   "cell_type": "code",
   "execution_count": 15,
   "metadata": {},
   "outputs": [],
   "source": [
    "items_by_category, item2cat = {}, {}\n",
    "for item, desc in pv_items.items():\n",
    "    cat = desc['category_id']\n",
    "    item2cat[item] = cat\n",
    "    if cat in items_by_category:\n",
    "        items_by_category[cat].append(item)\n",
    "    else:\n",
    "        items_by_category[cat] = [item]"
   ]
  },
  {
   "cell_type": "code",
   "execution_count": 10,
   "metadata": {},
   "outputs": [],
   "source": []
  },
  {
   "cell_type": "code",
   "execution_count": 19,
   "metadata": {},
   "outputs": [
    {
     "name": "stdout",
     "output_type": "stream",
     "text": [
      "(None, 8)\n",
      "Model: \"rnn\"\n",
      "__________________________________________________________________________________________________\n",
      "Layer (type)                    Output Shape         Param #     Connected to                     \n",
      "==================================================================================================\n",
      "input_5 (InputLayer)            [(None, 8, 1280)]    0                                            \n",
      "__________________________________________________________________________________________________\n",
      "input_6 (InputLayer)            [(None, 8, 768)]     0                                            \n",
      "__________________________________________________________________________________________________\n",
      "input_8 (InputLayer)            [(None, 8, 8, 768)]  0                                            \n",
      "__________________________________________________________________________________________________\n",
      "input_7 (InputLayer)            [(None, 8, 8, 1280)] 0                                            \n",
      "__________________________________________________________________________________________________\n",
      "dense_4 (Dense)                 multiple             655872      input_5[0][0]                    \n",
      "                                                                 input_7[0][0]                    \n",
      "__________________________________________________________________________________________________\n",
      "dense_5 (Dense)                 multiple             393728      input_6[0][0]                    \n",
      "                                                                 input_8[0][0]                    \n",
      "__________________________________________________________________________________________________\n",
      "tf_op_layer_Sub_5 (TensorFlowOp [(None, 8, 8, 512)]  0           dense_5[1][0]                    \n",
      "                                                                 dense_4[0][0]                    \n",
      "__________________________________________________________________________________________________\n",
      "tf_op_layer_Sub_6 (TensorFlowOp [(None, 8, 8, 512)]  0           dense_4[1][0]                    \n",
      "                                                                 dense_5[0][0]                    \n",
      "__________________________________________________________________________________________________\n",
      "tf_op_layer_EuclideanNorm_4 (Te [(None, 8, 8)]       0           tf_op_layer_Sub_5[0][0]          \n",
      "__________________________________________________________________________________________________\n",
      "tf_op_layer_EuclideanNorm_5 (Te [(None, 8, 8)]       0           tf_op_layer_Sub_6[0][0]          \n",
      "__________________________________________________________________________________________________\n",
      "sequential_3 (Sequential)       (None, 8, 1024)      4198400     dense_4[0][0]                    \n",
      "__________________________________________________________________________________________________\n",
      "sequential_4 (Sequential)       (None, 8, 1024)      4198400     dense_5[0][0]                    \n",
      "__________________________________________________________________________________________________\n",
      "tf_op_layer_AddV2_2 (TensorFlow [(None, 8, 8)]       0           tf_op_layer_EuclideanNorm_4[0][0]\n",
      "                                                                 tf_op_layer_EuclideanNorm_5[0][0]\n",
      "__________________________________________________________________________________________________\n",
      "concatenate_1 (Concatenate)     (None, 8, 2048)      0           sequential_3[0][0]               \n",
      "                                                                 sequential_4[0][0]               \n",
      "__________________________________________________________________________________________________\n",
      "tf_op_layer_Sub_4 (TensorFlowOp [(None, 8, 512)]     0           dense_4[0][0]                    \n",
      "                                                                 dense_5[0][0]                    \n",
      "__________________________________________________________________________________________________\n",
      "tf_op_layer_Sub_7 (TensorFlowOp [(None, 8, 8)]       0           tf_op_layer_AddV2_2[0][0]        \n",
      "__________________________________________________________________________________________________\n",
      "permute_1 (Permute)             (None, 2048, 8)      0           concatenate_1[0][0]              \n",
      "__________________________________________________________________________________________________\n",
      "tf_op_layer_EuclideanNorm_3 (Te [(None, 8)]          0           tf_op_layer_Sub_4[0][0]          \n",
      "__________________________________________________________________________________________________\n",
      "tf_op_layer_Maximum_1 (TensorFl [(None, 8, 8)]       0           tf_op_layer_Sub_7[0][0]          \n",
      "__________________________________________________________________________________________________\n",
      "dense_7 (Dense)                 (None, 2048, 1)      9           permute_1[0][0]                  \n",
      "__________________________________________________________________________________________________\n",
      "tf_op_layer_Square_2 (TensorFlo [(None, 8)]          0           tf_op_layer_EuclideanNorm_3[0][0]\n",
      "__________________________________________________________________________________________________\n",
      "tf_op_layer_Square_3 (TensorFlo [(None, 8, 8)]       0           tf_op_layer_Maximum_1[0][0]      \n",
      "__________________________________________________________________________________________________\n",
      "tf_op_layer_Squeeze_2 (TensorFl [(None, 2048)]       0           dense_7[0][0]                    \n",
      "__________________________________________________________________________________________________\n",
      "tf_op_layer_AddV2_3 (TensorFlow [(None, 8, 8)]       0           tf_op_layer_Square_2[0][0]       \n",
      "                                                                 tf_op_layer_Square_3[0][0]       \n",
      "__________________________________________________________________________________________________\n",
      "compatibility (Dense)           (None, 1)            2049        tf_op_layer_Squeeze_2[0][0]      \n",
      "__________________________________________________________________________________________________\n",
      "item_classification (TimeDistri (None, 8, 153)       313497      concatenate_1[0][0]              \n",
      "__________________________________________________________________________________________________\n",
      "tf_op_layer_Mean_1 (TensorFlowO [(None, 8)]          0           tf_op_layer_AddV2_3[0][0]        \n",
      "==================================================================================================\n",
      "Total params: 5,563,555\n",
      "Trainable params: 5,563,555\n",
      "Non-trainable params: 0\n",
      "__________________________________________________________________________________________________\n"
     ]
    }
   ],
   "source": [
    "from rnn import build_multitask_rnn2\n",
    "model = build_multitask_rnn2(max_seq_len, \n",
    "                            image_embedding_dim,\n",
    "                            num_classes=2,\n",
    "                            num_layers=1,\n",
    "                            d_model=512,\n",
    "                            rnn=\"bilstm\",\n",
    "                            final_activation=\"sigmoid\",\n",
    "                            merge_activation=\"tanh\", \n",
    "                            )\n",
    "model.summary()"
   ]
  },
  {
   "cell_type": "code",
   "execution_count": 52,
   "metadata": {},
   "outputs": [
    {
     "name": "stdout",
     "output_type": "stream",
     "text": [
      "WARNING:tensorflow:Layer lstm_6 will not use cuDNN kernel since it doesn't meet the cuDNN kernel criteria. It will use generic GPU kernel as fallback when running on GPU\n"
     ]
    }
   ],
   "source": [
    "from build_model import MultiTaskSetTransformer\n",
    "\n",
    "model = MultiTaskSetTransformer(\n",
    "                                 num_layers=1,\n",
    "                                 d_model=64,\n",
    "                                 num_heads=1,\n",
    "                                 dff=32,\n",
    "                                 rate=0.0,\n",
    "                                 include_text=include_text,\n",
    "                                 inp_dim2=768,\n",
    "                                 num_classes=2,\n",
    "                                 lstm_dim=32,\n",
    "                                 embedding_activation=\"linear\",\n",
    "                                 lstm_activation=\"linear\",\n",
    "                                 final_activation=\"sigmoid\"\n",
    "                                )\n"
   ]
  },
  {
   "cell_type": "code",
   "execution_count": 53,
   "metadata": {},
   "outputs": [
    {
     "ename": "NameError",
     "evalue": "name 'x' is not defined",
     "output_type": "error",
     "traceback": [
      "\u001b[0;31m---------------------------------------------------------------------------\u001b[0m",
      "\u001b[0;31mNameError\u001b[0m                                 Traceback (most recent call last)",
      "\u001b[0;32m<ipython-input-53-c8a436027959>\u001b[0m in \u001b[0;36m<module>\u001b[0;34m\u001b[0m\n\u001b[0;32m----> 1\u001b[0;31m \u001b[0mys\u001b[0m \u001b[0;34m=\u001b[0m \u001b[0mmodel\u001b[0m\u001b[0;34m(\u001b[0m\u001b[0mx\u001b[0m\u001b[0;34m)\u001b[0m\u001b[0;34m\u001b[0m\u001b[0;34m\u001b[0m\u001b[0m\n\u001b[0m\u001b[1;32m      2\u001b[0m \u001b[0mys\u001b[0m\u001b[0;34m[\u001b[0m\u001b[0;36m0\u001b[0m\u001b[0;34m]\u001b[0m\u001b[0;34m.\u001b[0m\u001b[0mshape\u001b[0m\u001b[0;34m,\u001b[0m \u001b[0mys\u001b[0m\u001b[0;34m[\u001b[0m\u001b[0;36m1\u001b[0m\u001b[0;34m]\u001b[0m\u001b[0;34m.\u001b[0m\u001b[0mshape\u001b[0m\u001b[0;34m,\u001b[0m \u001b[0mys\u001b[0m\u001b[0;34m[\u001b[0m\u001b[0;36m2\u001b[0m\u001b[0;34m]\u001b[0m\u001b[0;34m.\u001b[0m\u001b[0mshape\u001b[0m\u001b[0;34m\u001b[0m\u001b[0;34m\u001b[0m\u001b[0m\n",
      "\u001b[0;31mNameError\u001b[0m: name 'x' is not defined"
     ]
    }
   ],
   "source": [
    "ys = model(x)\n",
    "ys[0].shape, ys[1].shape, ys[2].shape"
   ]
  },
  {
   "cell_type": "code",
   "execution_count": 64,
   "metadata": {},
   "outputs": [
    {
     "name": "stdout",
     "output_type": "stream",
     "text": [
      "WARNING:tensorflow:Layer lstm_14 will not use cuDNN kernel since it doesn't meet the cuDNN kernel criteria. It will use generic GPU kernel as fallback when running on GPU\n",
      "WARNING:tensorflow:Layer multi_task_rnn_5 is casting an input tensor from dtype float64 to the layer's dtype of float32, which is new behavior in TensorFlow 2.  The layer has dtype float32 because it's dtype defaults to floatx.\n",
      "\n",
      "If you intended to run this layer in float32, you can safely ignore this warning. If in doubt, this warning is likely only an issue if you are porting a TensorFlow 1.X model to TensorFlow 2.\n",
      "\n",
      "To change all layers to have dtype float64 by default, call `tf.keras.backend.set_floatx('float64')`. To change just this layer, pass dtype='float64' to the layer constructor. If you are the author of this layer, you can disable autocasting by passing autocast=False to the base Layer constructor.\n",
      "\n"
     ]
    },
    {
     "data": {
      "text/plain": [
       "[TensorShape([32, 1]),\n",
       " TensorShape([32, 8, 153]),\n",
       " TensorShape([32, 8]),\n",
       " TensorShape([32, 8])]"
      ]
     },
     "execution_count": 64,
     "metadata": {},
     "output_type": "execute_result"
    }
   ],
   "source": [
    "from rnn import MultiTaskRNN\n",
    "\n",
    "model = MultiTaskRNN()\n",
    "yhat = model(inps)\n",
    "[yh.shape for yh in yhat]"
   ]
  },
  {
   "cell_type": "code",
   "execution_count": 72,
   "metadata": {},
   "outputs": [
    {
     "data": {
      "text/plain": [
       "array([[0., 0., 0., 0., 1., 1., 1., 1.],\n",
       "       [0., 0., 1., 1., 1., 1., 1., 1.],\n",
       "       [0., 0., 1., 1., 1., 1., 1., 1.],\n",
       "       [0., 0., 0., 1., 1., 1., 1., 1.],\n",
       "       [0., 0., 1., 1., 1., 1., 1., 1.],\n",
       "       [0., 0., 1., 1., 1., 1., 1., 1.],\n",
       "       [0., 0., 1., 1., 1., 1., 1., 1.],\n",
       "       [0., 0., 0., 1., 1., 1., 1., 1.],\n",
       "       [0., 0., 0., 0., 1., 1., 1., 1.],\n",
       "       [0., 0., 0., 0., 1., 1., 1., 1.],\n",
       "       [0., 0., 0., 0., 1., 1., 1., 1.],\n",
       "       [0., 0., 1., 1., 1., 1., 1., 1.],\n",
       "       [0., 0., 0., 1., 1., 1., 1., 1.],\n",
       "       [0., 0., 0., 0., 0., 1., 1., 1.],\n",
       "       [0., 0., 0., 1., 1., 1., 1., 1.],\n",
       "       [0., 1., 1., 1., 1., 1., 1., 1.],\n",
       "       [0., 0., 1., 1., 1., 1., 1., 1.],\n",
       "       [0., 0., 1., 1., 1., 1., 1., 1.],\n",
       "       [0., 0., 0., 0., 1., 1., 1., 1.],\n",
       "       [0., 0., 0., 0., 1., 1., 1., 1.],\n",
       "       [1., 1., 1., 1., 1., 1., 1., 1.],\n",
       "       [0., 0., 0., 0., 1., 1., 1., 1.],\n",
       "       [0., 0., 0., 0., 1., 1., 1., 1.],\n",
       "       [0., 0., 0., 1., 1., 1., 1., 1.],\n",
       "       [0., 0., 0., 1., 1., 1., 1., 1.],\n",
       "       [0., 0., 0., 0., 1., 1., 1., 1.],\n",
       "       [0., 0., 0., 1., 1., 1., 1., 1.],\n",
       "       [0., 0., 0., 0., 0., 1., 1., 1.],\n",
       "       [0., 0., 0., 1., 1., 1., 1., 1.],\n",
       "       [0., 0., 0., 0., 1., 1., 1., 1.],\n",
       "       [1., 1., 1., 1., 1., 1., 1., 1.],\n",
       "       [0., 0., 0., 0., 1., 1., 1., 1.]])"
      ]
     },
     "execution_count": 72,
     "metadata": {},
     "output_type": "execute_result"
    }
   ],
   "source": [
    "msk = targs[1] != -1\n",
    "msk = msk.astype('float64')\n",
    "msk"
   ]
  },
  {
   "cell_type": "code",
   "execution_count": 65,
   "metadata": {},
   "outputs": [
    {
     "data": {
      "text/plain": [
       "<tf.Tensor: shape=(32, 8), dtype=float32, numpy=\n",
       "array([[0., 0., 0., 0., 1., 1., 1., 1.],\n",
       "       [0., 0., 1., 1., 1., 1., 1., 0.],\n",
       "       [0., 0., 1., 1., 1., 1., 1., 1.],\n",
       "       [0., 0., 0., 1., 1., 1., 1., 1.],\n",
       "       [0., 0., 1., 1., 1., 1., 1., 1.],\n",
       "       [0., 0., 1., 1., 1., 1., 1., 1.],\n",
       "       [0., 0., 1., 1., 1., 1., 1., 1.],\n",
       "       [0., 0., 0., 1., 1., 1., 1., 1.],\n",
       "       [0., 0., 0., 0., 1., 1., 1., 1.],\n",
       "       [0., 0., 0., 0., 1., 0., 1., 1.],\n",
       "       [0., 0., 0., 0., 1., 1., 1., 1.],\n",
       "       [0., 0., 1., 1., 1., 1., 1., 0.],\n",
       "       [0., 0., 0., 1., 1., 1., 1., 0.],\n",
       "       [0., 0., 0., 0., 0., 1., 1., 1.],\n",
       "       [0., 0., 0., 1., 1., 1., 1., 1.],\n",
       "       [0., 1., 1., 1., 1., 1., 0., 1.],\n",
       "       [0., 0., 1., 1., 1., 1., 1., 1.],\n",
       "       [0., 0., 1., 1., 1., 1., 1., 1.],\n",
       "       [0., 0., 0., 0., 1., 0., 1., 1.],\n",
       "       [0., 0., 0., 0., 1., 1., 1., 1.],\n",
       "       [1., 1., 1., 1., 1., 1., 0., 1.],\n",
       "       [0., 0., 0., 0., 1., 1., 1., 1.],\n",
       "       [0., 0., 0., 0., 1., 1., 1., 1.],\n",
       "       [0., 0., 0., 1., 1., 1., 1., 1.],\n",
       "       [0., 0., 0., 1., 1., 1., 1., 1.],\n",
       "       [0., 0., 0., 0., 1., 1., 1., 1.],\n",
       "       [0., 0., 0., 1., 1., 1., 1., 1.],\n",
       "       [0., 0., 0., 0., 0., 1., 1., 1.],\n",
       "       [0., 0., 0., 1., 1., 1., 1., 1.],\n",
       "       [0., 0., 0., 0., 1., 1., 1., 1.],\n",
       "       [1., 1., 1., 1., 0., 1., 1., 1.],\n",
       "       [0., 0., 0., 0., 1., 1., 0., 1.]], dtype=float32)>"
      ]
     },
     "execution_count": 65,
     "metadata": {},
     "output_type": "execute_result"
    }
   ],
   "source": [
    "yhat[3]"
   ]
  },
  {
   "cell_type": "code",
   "execution_count": 58,
   "metadata": {},
   "outputs": [],
   "source": [
    "def loss_function(outputs, labels):\n",
    "    compatibility_output, class_probs, contrastive_loss, istarget = outputs\n",
    "    compatibility_label, item_categories, contrastive_labels = labels\n",
    "    loss_1 = tf.keras.losses.BinaryCrossentropy(\n",
    "        from_logits=False, name=\"binary_crossentropy\"\n",
    "    )(compatibility_label, compatibility_output)\n",
    "\n",
    "    loss_2 = sparse_crossentropy_masked(item_categories, class_probs)\n",
    "    loss_3 = tf.reduce_sum(contrastive_loss * istarget) / tf.reduce_sum(istarget)\n",
    "\n",
    "    loss = loss_1 + loss_2 + loss_3\n",
    "#     reg_loss = tf.compat.v1.losses.get_regularization_loss()\n",
    "    # reg_losses = tf.compat.v1.get_collection(tf.compat.v1.GraphKeys.REGULARIZATION_LOSSES)\n",
    "    # loss += sum(reg_losses)\n",
    "#     loss += reg_loss\n",
    "    return loss"
   ]
  },
  {
   "cell_type": "code",
   "execution_count": 59,
   "metadata": {},
   "outputs": [
    {
     "data": {
      "text/plain": [
       "<tf.Tensor: shape=(), dtype=float32, numpy=nan>"
      ]
     },
     "execution_count": 59,
     "metadata": {},
     "output_type": "execute_result"
    }
   ],
   "source": [
    "loss_function(yhat, targs)"
   ]
  },
  {
   "cell_type": "code",
   "execution_count": 44,
   "metadata": {},
   "outputs": [
    {
     "data": {
      "text/plain": [
       "<tf.Tensor: shape=(), dtype=float32, numpy=0.68840075>"
      ]
     },
     "execution_count": 44,
     "metadata": {},
     "output_type": "execute_result"
    }
   ],
   "source": [
    "tf.keras.losses.BinaryCrossentropy(\n",
    "        from_logits=False, name=\"binary_crossentropy\"\n",
    "    )(targs[0], yhat[0])"
   ]
  },
  {
   "cell_type": "code",
   "execution_count": 45,
   "metadata": {},
   "outputs": [
    {
     "data": {
      "text/plain": [
       "<tf.Tensor: shape=(), dtype=float32, numpy=5.0698247>"
      ]
     },
     "execution_count": 45,
     "metadata": {},
     "output_type": "execute_result"
    }
   ],
   "source": [
    "sparse_crossentropy_masked(targs[1], yhat[1])"
   ]
  },
  {
   "cell_type": "code",
   "execution_count": 48,
   "metadata": {},
   "outputs": [
    {
     "data": {
      "text/plain": [
       "<tf.Tensor: shape=(), dtype=float32, numpy=nan>"
      ]
     },
     "execution_count": 48,
     "metadata": {},
     "output_type": "execute_result"
    }
   ],
   "source": [
    "tf.reduce_sum(yhat[2] * yhat[3])# / tf.reduce_sum(yhat[3])"
   ]
  },
  {
   "cell_type": "markdown",
   "metadata": {},
   "source": [
    "## Python is crazy!!"
   ]
  },
  {
   "cell_type": "code",
   "execution_count": 20,
   "metadata": {},
   "outputs": [
    {
     "data": {
      "text/plain": [
       "{'x1': [1, 2, 3], 'x2': [4, 5, 6]}"
      ]
     },
     "execution_count": 20,
     "metadata": {},
     "output_type": "execute_result"
    }
   ],
   "source": [
    "a = {'x1': [1, 2, 3], 'x2': [4, 5, 6]}\n",
    "a"
   ]
  },
  {
   "cell_type": "code",
   "execution_count": 21,
   "metadata": {},
   "outputs": [
    {
     "data": {
      "text/plain": [
       "{'x1': [1, 2, 3], 'x2': [4, 5, 6]}"
      ]
     },
     "execution_count": 21,
     "metadata": {},
     "output_type": "execute_result"
    }
   ],
   "source": [
    "b = a['x1'].copy()\n",
    "b.remove(2)\n",
    "a"
   ]
  }
 ],
 "metadata": {
  "kernelspec": {
   "display_name": "Python 3",
   "language": "python",
   "name": "python3"
  },
  "language_info": {
   "codemirror_mode": {
    "name": "ipython",
    "version": 3
   },
   "file_extension": ".py",
   "mimetype": "text/x-python",
   "name": "python",
   "nbconvert_exporter": "python",
   "pygments_lexer": "ipython3",
   "version": "3.7.7"
  }
 },
 "nbformat": 4,
 "nbformat_minor": 4
}
