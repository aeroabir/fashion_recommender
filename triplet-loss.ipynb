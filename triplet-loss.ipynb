{
 "cells": [
  {
   "cell_type": "markdown",
   "metadata": {},
   "source": [
    "# Triplet Loss\n",
    "\n",
    "- model for minimizing triplet loss where one anchor image is compared with a positive image (image in the same outfit) and a negative image (image of same category of the positive image but not from the outfit)\n",
    "- samples are created by taking items from all the outfits sequentially, i.e., if there are N items in an outfit then N-1 samples are created as (i1, i2), (i2, i3), ..., (iN-1, iN)\n",
    "- each sample has three items (images and texts)\n",
    "- images can be processed using CNN based encoders but model size becomes huge (~25 M) and training takes lot of time\n",
    "- after getting embeddings of all the three items, $x_{o}$, $x_{+}$ and $x_{-}$, distances are calculated between the anchor and the positive item, $d_{o+} = ||x_o - x_+||$ and the negative item as, $d_{o-} = ||x_o - x_-||$\n",
    "- then the loss is defined as $\\mathcal{L} = max(d_{o+} - d_{o-} + margin, 0)$\n",
    "\n",
    "Reference: Mariya I. Vasileva, Bryan A. Plummer, Krishna Dusad, Shreya Rajpal, Ranjitha Kumar, and David Forsyth. \n",
    "Learning type-aware embeddings for fashion copatibility. In ECCV, 2018."
   ]
  },
  {
   "cell_type": "code",
   "execution_count": 1,
   "metadata": {},
   "outputs": [],
   "source": [
    "%load_ext autoreload\n",
    "%autoreload 2"
   ]
  },
  {
   "cell_type": "code",
   "execution_count": 2,
   "metadata": {},
   "outputs": [
    {
     "name": "stdout",
     "output_type": "stream",
     "text": [
      "Populating the interactive namespace from numpy and matplotlib\n"
     ]
    }
   ],
   "source": [
    "import os\n",
    "import json\n",
    "from collections import Counter\n",
    "from PIL import Image\n",
    "import pandas as pd\n",
    "import tensorflow as tf\n",
    "from tensorflow import keras\n",
    "from tensorflow.keras.callbacks import EarlyStopping, ReduceLROnPlateau\n",
    "\n",
    "from tqdm import tqdm\n",
    "import pickle\n",
    "\n",
    "import sys\n",
    "# sys.path.insert(0, \"/recsys_data/RecSys/fashion/automl/efficientnetv2\")\n",
    "# import effnetv2_model\n",
    "\n",
    "%pylab inline\n",
    "import matplotlib.pyplot as plt"
   ]
  },
  {
   "cell_type": "code",
   "execution_count": 3,
   "metadata": {},
   "outputs": [],
   "source": [
    "base_dir = \"/recsys_data/RecSys/fashion/polyvore-dataset/polyvore_outfits\"\n",
    "data_type = \"nondisjoint\" # \"nondisjoint\", \"disjoint\"\n",
    "train_dir = os.path.join(base_dir, data_type)\n",
    "image_dir = os.path.join(base_dir, \"images\")\n",
    "embed_dir = \"/recsys_data/RecSys/fashion/polyvore-dataset/precomputed\"\n",
    "train_json = \"train.json\"\n",
    "valid_json = \"valid.json\"\n",
    "test_json = \"test.json\"\n",
    "\n",
    "train_file = \"compatibility_train.txt\"\n",
    "valid_file = \"compatibility_valid.txt\"\n",
    "test_file = \"compatibility_test.txt\"\n",
    "item_file = \"polyvore_item_metadata.json\"\n",
    "outfit_file = \"polyvore_outfit_titles.json\""
   ]
  },
  {
   "cell_type": "code",
   "execution_count": 4,
   "metadata": {},
   "outputs": [
    {
     "name": "stdout",
     "output_type": "stream",
     "text": [
      "Total 53306, 5000, 10000 outfits in train, validation and test split, respectively\n"
     ]
    }
   ],
   "source": [
    "with open(os.path.join(train_dir, train_json), 'r') as fr:\n",
    "    train_pos = json.load(fr)\n",
    "    \n",
    "with open(os.path.join(train_dir, valid_json), 'r') as fr:\n",
    "    valid_pos = json.load(fr)\n",
    "    \n",
    "with open(os.path.join(train_dir, test_json), 'r') as fr:\n",
    "    test_pos = json.load(fr)\n",
    "    \n",
    "with open(os.path.join(base_dir, item_file), 'r') as fr:\n",
    "    pv_items = json.load(fr)\n",
    "    \n",
    "print(f\"Total {len(train_pos)}, {len(valid_pos)}, {len(test_pos)} outfits in train, validation and test split, respectively\")"
   ]
  },
  {
   "cell_type": "code",
   "execution_count": 5,
   "metadata": {},
   "outputs": [
    {
     "name": "stdout",
     "output_type": "stream",
     "text": [
      "Total 231461 examples\n"
     ]
    }
   ],
   "source": [
    "from data_process import TripletGen\n",
    "\n",
    "image_embedding_file = os.path.join(embed_dir, \"effnet_tuned_polyvore.pkl\")\n",
    "text_embedding_file = os.path.join(embed_dir, \"bert_polyvore.pkl\")\n",
    "train_gen = TripletGen(train_pos, pv_items, \n",
    "                       batch_size=32, \n",
    "                       image_embedding_file=image_embedding_file,\n",
    "                       text_embedding_file=text_embedding_file,\n",
    "                       max_example=None\n",
    "                      )"
   ]
  },
  {
   "cell_type": "code",
   "execution_count": 6,
   "metadata": {},
   "outputs": [
    {
     "name": "stdout",
     "output_type": "stream",
     "text": [
      "Total 21781 examples\n"
     ]
    }
   ],
   "source": [
    "valid_gen = TripletGen(valid_pos, pv_items, \n",
    "                       batch_size=32, \n",
    "                       image_embedding_file=image_embedding_file,\n",
    "                       text_embedding_file=text_embedding_file,\n",
    "                       max_example=None\n",
    "                      )"
   ]
  },
  {
   "cell_type": "code",
   "execution_count": 7,
   "metadata": {},
   "outputs": [
    {
     "name": "stdout",
     "output_type": "stream",
     "text": [
      "[(32, 3, 1280), (32, 3, 768)] (32,)\n",
      "[(32, 3, 1280), (32, 3, 768)] (32,)\n",
      "[(32, 3, 1280), (32, 3, 768)] (32,)\n",
      "[(32, 3, 1280), (32, 3, 768)] (32,)\n",
      "[(32, 3, 1280), (32, 3, 768)] (32,)\n"
     ]
    }
   ],
   "source": [
    "for ii in range(5):\n",
    "    inps, targs = train_gen[ii]\n",
    "    print([x.shape for x in inps], targs.shape)"
   ]
  },
  {
   "cell_type": "code",
   "execution_count": 8,
   "metadata": {},
   "outputs": [],
   "source": [
    "from rnn import build_triplet_loss_model"
   ]
  },
  {
   "cell_type": "code",
   "execution_count": 18,
   "metadata": {},
   "outputs": [
    {
     "name": "stdout",
     "output_type": "stream",
     "text": [
      "Model: \"fc\"\n",
      "__________________________________________________________________________________________________\n",
      "Layer (type)                    Output Shape         Param #     Connected to                     \n",
      "==================================================================================================\n",
      "input_19 (InputLayer)           [(None, 3, 1280)]    0                                            \n",
      "__________________________________________________________________________________________________\n",
      "input_20 (InputLayer)           [(None, 3, 768)]     0                                            \n",
      "__________________________________________________________________________________________________\n",
      "time_distributed_18 (TimeDistri (None, 3, 256)       327936      input_19[0][0]                   \n",
      "__________________________________________________________________________________________________\n",
      "time_distributed_19 (TimeDistri (None, 3, 256)       196864      input_20[0][0]                   \n",
      "__________________________________________________________________________________________________\n",
      "batch_normalization_18 (BatchNo (None, 3, 256)       1024        time_distributed_18[0][0]        \n",
      "__________________________________________________________________________________________________\n",
      "batch_normalization_19 (BatchNo (None, 3, 256)       1024        time_distributed_19[0][0]        \n",
      "__________________________________________________________________________________________________\n",
      "concatenate_8 (Concatenate)     (None, 3, 512)       0           batch_normalization_18[0][0]     \n",
      "                                                                 batch_normalization_19[0][0]     \n",
      "__________________________________________________________________________________________________\n",
      "tf_op_layer_strided_slice_20 (T [(None, 512)]        0           concatenate_8[0][0]              \n",
      "__________________________________________________________________________________________________\n",
      "tf_op_layer_strided_slice_21 (T [(None, 512)]        0           concatenate_8[0][0]              \n",
      "__________________________________________________________________________________________________\n",
      "tf_op_layer_strided_slice_22 (T [(None, 512)]        0           concatenate_8[0][0]              \n",
      "__________________________________________________________________________________________________\n",
      "tf_op_layer_strided_slice_23 (T [(None, 512)]        0           concatenate_8[0][0]              \n",
      "__________________________________________________________________________________________________\n",
      "tf_op_layer_Sub_12 (TensorFlowO [(None, 512)]        0           tf_op_layer_strided_slice_20[0][0\n",
      "                                                                 tf_op_layer_strided_slice_21[0][0\n",
      "__________________________________________________________________________________________________\n",
      "tf_op_layer_Sub_13 (TensorFlowO [(None, 512)]        0           tf_op_layer_strided_slice_22[0][0\n",
      "                                                                 tf_op_layer_strided_slice_23[0][0\n",
      "__________________________________________________________________________________________________\n",
      "tf_op_layer_Square_8 (TensorFlo [(None, 512)]        0           tf_op_layer_Sub_12[0][0]         \n",
      "__________________________________________________________________________________________________\n",
      "tf_op_layer_Square_9 (TensorFlo [(None, 512)]        0           tf_op_layer_Sub_13[0][0]         \n",
      "__________________________________________________________________________________________________\n",
      "tf_op_layer_Sum_8 (TensorFlowOp [(None, 1)]          0           tf_op_layer_Square_8[0][0]       \n",
      "__________________________________________________________________________________________________\n",
      "tf_op_layer_Sum_9 (TensorFlowOp [(None, 1)]          0           tf_op_layer_Square_9[0][0]       \n",
      "__________________________________________________________________________________________________\n",
      "tf_op_layer_Maximum_4 (TensorFl [(None, 1)]          0           tf_op_layer_Sum_8[0][0]          \n",
      "__________________________________________________________________________________________________\n",
      "tf_op_layer_Maximum_5 (TensorFl [(None, 1)]          0           tf_op_layer_Sum_9[0][0]          \n",
      "__________________________________________________________________________________________________\n",
      "tf_op_layer_Sqrt_4 (TensorFlowO [(None, 1)]          0           tf_op_layer_Maximum_4[0][0]      \n",
      "__________________________________________________________________________________________________\n",
      "tf_op_layer_Sqrt_5 (TensorFlowO [(None, 1)]          0           tf_op_layer_Maximum_5[0][0]      \n",
      "__________________________________________________________________________________________________\n",
      "tf_op_layer_Sub_14 (TensorFlowO [(None, 1)]          0           tf_op_layer_Sqrt_4[0][0]         \n",
      "                                                                 tf_op_layer_Sqrt_5[0][0]         \n",
      "__________________________________________________________________________________________________\n",
      "tf_op_layer_AddV2 (TensorFlowOp [(None, 1)]          0           tf_op_layer_Sub_14[0][0]         \n",
      "__________________________________________________________________________________________________\n",
      "tf_op_layer_Maximum_6 (TensorFl [(None, 1)]          0           tf_op_layer_AddV2[0][0]          \n",
      "==================================================================================================\n",
      "Total params: 526,848\n",
      "Trainable params: 525,824\n",
      "Non-trainable params: 1,024\n",
      "__________________________________________________________________________________________________\n"
     ]
    }
   ],
   "source": [
    "model = build_triplet_loss_model(\n",
    "                              1280, 768, \n",
    "                              num_layers=3,\n",
    "                              d_model=256,\n",
    "                              num_heads=2,\n",
    "                              dff=256,\n",
    "                              num_classes=2,\n",
    "                              lstm_dim=256,\n",
    "                              inp_dim2=768,\n",
    "                              embedding_activation=\"relu\",\n",
    "                              lstm_activation=\"relu\",\n",
    "                              final_activation=\"sigmoid\"\n",
    "                             )\n",
    "\n",
    "model.summary()"
   ]
  },
  {
   "cell_type": "code",
   "execution_count": 21,
   "metadata": {},
   "outputs": [
    {
     "name": "stdout",
     "output_type": "stream",
     "text": [
      "Epoch 1/100\n",
      "7234/7234 [==============================] - 33s 5ms/step - loss: 1.3201 - mse: 1.3201 - mae: 0.6099 - val_loss: 0.7789 - val_mse: 0.7789 - val_mae: 0.4943 - lr: 1.0000e-04\n",
      "Epoch 2/100\n",
      "7234/7234 [==============================] - 31s 4ms/step - loss: 0.5367 - mse: 0.5367 - mae: 0.4078 - val_loss: 0.5686 - val_mse: 0.5686 - val_mae: 0.4246 - lr: 1.0000e-04\n",
      "Epoch 3/100\n",
      "7234/7234 [==============================] - 31s 4ms/step - loss: 0.3368 - mse: 0.3368 - mae: 0.3249 - val_loss: 0.4524 - val_mse: 0.4524 - val_mae: 0.3804 - lr: 1.0000e-04\n",
      "Epoch 4/100\n",
      "7234/7234 [==============================] - 31s 4ms/step - loss: 0.2319 - mse: 0.2319 - mae: 0.2709 - val_loss: 0.3694 - val_mse: 0.3694 - val_mae: 0.3479 - lr: 1.0000e-04\n",
      "Epoch 5/100\n",
      "7234/7234 [==============================] - 31s 4ms/step - loss: 0.1658 - mse: 0.1658 - mae: 0.2308 - val_loss: 0.3076 - val_mse: 0.3076 - val_mae: 0.3211 - lr: 1.0000e-04\n",
      "Epoch 6/100\n",
      "7234/7234 [==============================] - 31s 4ms/step - loss: 0.1248 - mse: 0.1248 - mae: 0.2017 - val_loss: 0.2630 - val_mse: 0.2630 - val_mae: 0.2987 - lr: 1.0000e-04\n",
      "Epoch 7/100\n",
      "7234/7234 [==============================] - 31s 4ms/step - loss: 0.0960 - mse: 0.0960 - mae: 0.1785 - val_loss: 0.2223 - val_mse: 0.2223 - val_mae: 0.2800 - lr: 1.0000e-04\n",
      "Epoch 8/100\n",
      "7234/7234 [==============================] - 32s 4ms/step - loss: 0.0759 - mse: 0.0759 - mae: 0.1602 - val_loss: 0.1928 - val_mse: 0.1928 - val_mae: 0.2637 - lr: 1.0000e-04\n",
      "Epoch 9/100\n",
      "7234/7234 [==============================] - 31s 4ms/step - loss: 0.0612 - mse: 0.0612 - mae: 0.1459 - val_loss: 0.1677 - val_mse: 0.1677 - val_mae: 0.2506 - lr: 1.0000e-04\n",
      "Epoch 10/100\n",
      "7234/7234 [==============================] - 32s 4ms/step - loss: 0.0509 - mse: 0.0509 - mae: 0.1346 - val_loss: 0.1480 - val_mse: 0.1480 - val_mae: 0.2379 - lr: 1.0000e-04\n",
      "Epoch 11/100\n",
      "7234/7234 [==============================] - 31s 4ms/step - loss: 0.0432 - mse: 0.0432 - mae: 0.1261 - val_loss: 0.1327 - val_mse: 0.1327 - val_mae: 0.2281 - lr: 1.0000e-04\n",
      "Epoch 12/100\n",
      "7234/7234 [==============================] - 31s 4ms/step - loss: 0.0373 - mse: 0.0373 - mae: 0.1186 - val_loss: 0.1180 - val_mse: 0.1180 - val_mae: 0.2193 - lr: 1.0000e-04\n",
      "Epoch 13/100\n",
      "7234/7234 [==============================] - 31s 4ms/step - loss: 0.0329 - mse: 0.0329 - mae: 0.1130 - val_loss: 0.1083 - val_mse: 0.1083 - val_mae: 0.2133 - lr: 1.0000e-04\n",
      "Epoch 14/100\n",
      "7234/7234 [==============================] - 31s 4ms/step - loss: 0.0296 - mse: 0.0296 - mae: 0.1089 - val_loss: 0.1007 - val_mse: 0.1007 - val_mae: 0.2079 - lr: 1.0000e-04\n",
      "Epoch 15/100\n",
      "7234/7234 [==============================] - 31s 4ms/step - loss: 0.0269 - mse: 0.0269 - mae: 0.1049 - val_loss: 0.0937 - val_mse: 0.0937 - val_mae: 0.2020 - lr: 1.0000e-04\n",
      "Epoch 16/100\n",
      "7234/7234 [==============================] - 31s 4ms/step - loss: 0.0249 - mse: 0.0249 - mae: 0.1020 - val_loss: 0.0897 - val_mse: 0.0897 - val_mae: 0.2003 - lr: 1.0000e-04\n",
      "Epoch 17/100\n",
      "7234/7234 [==============================] - 31s 4ms/step - loss: 0.0233 - mse: 0.0233 - mae: 0.0996 - val_loss: 0.0846 - val_mse: 0.0846 - val_mae: 0.1960 - lr: 1.0000e-04\n",
      "Epoch 18/100\n",
      "7234/7234 [==============================] - 32s 4ms/step - loss: 0.0219 - mse: 0.0219 - mae: 0.0971 - val_loss: 0.0823 - val_mse: 0.0823 - val_mae: 0.1944 - lr: 1.0000e-04\n",
      "Epoch 19/100\n",
      "7234/7234 [==============================] - 31s 4ms/step - loss: 0.0208 - mse: 0.0208 - mae: 0.0950 - val_loss: 0.0810 - val_mse: 0.0810 - val_mae: 0.1949 - lr: 1.0000e-04\n",
      "Epoch 20/100\n",
      "7234/7234 [==============================] - 32s 4ms/step - loss: 0.0198 - mse: 0.0198 - mae: 0.0926 - val_loss: 0.0794 - val_mse: 0.0794 - val_mae: 0.1923 - lr: 1.0000e-04\n",
      "Epoch 21/100\n",
      "7234/7234 [==============================] - 31s 4ms/step - loss: 0.0190 - mse: 0.0190 - mae: 0.0906 - val_loss: 0.0780 - val_mse: 0.0780 - val_mae: 0.1912 - lr: 1.0000e-04\n",
      "Epoch 22/100\n",
      "7234/7234 [==============================] - 32s 4ms/step - loss: 0.0181 - mse: 0.0181 - mae: 0.0883 - val_loss: 0.0787 - val_mse: 0.0787 - val_mae: 0.1905 - lr: 1.0000e-04\n",
      "Epoch 23/100\n",
      "7234/7234 [==============================] - 32s 4ms/step - loss: 0.0175 - mse: 0.0175 - mae: 0.0863 - val_loss: 0.0793 - val_mse: 0.0793 - val_mae: 0.1918 - lr: 1.0000e-04\n",
      "Epoch 24/100\n",
      "7234/7234 [==============================] - 32s 4ms/step - loss: 0.0168 - mse: 0.0168 - mae: 0.0840 - val_loss: 0.0800 - val_mse: 0.0800 - val_mae: 0.1918 - lr: 1.0000e-04\n",
      "Epoch 25/100\n",
      "7234/7234 [==============================] - 32s 4ms/step - loss: 0.0122 - mse: 0.0122 - mae: 0.0708 - val_loss: 0.0797 - val_mse: 0.0797 - val_mae: 0.1918 - lr: 2.0000e-05\n",
      "Epoch 26/100\n",
      "7234/7234 [==============================] - 31s 4ms/step - loss: 0.0113 - mse: 0.0113 - mae: 0.0681 - val_loss: 0.0810 - val_mse: 0.0810 - val_mae: 0.1920 - lr: 2.0000e-05\n",
      "Epoch 27/100\n",
      "7234/7234 [==============================] - 32s 4ms/step - loss: 0.0109 - mse: 0.0109 - mae: 0.0666 - val_loss: 0.0822 - val_mse: 0.0822 - val_mae: 0.1934 - lr: 2.0000e-05\n"
     ]
    },
    {
     "data": {
      "text/plain": [
       "851.4280414581299"
      ]
     },
     "execution_count": 21,
     "metadata": {},
     "output_type": "execute_result"
    }
   ],
   "source": [
    "learning_rate = 1.0e-04\n",
    "epochs = 100\n",
    "patience = 6\n",
    "batch_size = 32\n",
    "checkpoint_filepath = base_dir + '/checkpoint'\n",
    "\n",
    "opt = keras.optimizers.Adam(learning_rate=learning_rate)\n",
    "model.compile(loss=\"mse\", optimizer=opt, metrics=[\"mse\", \"mae\"])  # \n",
    "callback = EarlyStopping(\n",
    "                        monitor=\"val_loss\",\n",
    "                        min_delta=0,\n",
    "                        patience=patience,\n",
    "                        verbose=0,\n",
    "                        mode=\"auto\",\n",
    "                        baseline=None,\n",
    "                        restore_best_weights=True,\n",
    "                    )\n",
    "\n",
    "# wandb_callback = WandbCallback(\n",
    "#                         monitor=\"val_loss\",\n",
    "#                         verbose=0,\n",
    "#                         save_model=(False), \n",
    "#                         mode=\"auto\")\n",
    "\n",
    "model_checkpoint_callback = tf.keras.callbacks.ModelCheckpoint(\n",
    "    filepath=checkpoint_filepath,\n",
    "    save_weights_only=True,\n",
    "    monitor='val_loss',\n",
    "    mode='min',\n",
    "    save_best_only=True)\n",
    "\n",
    "reduce_lr = ReduceLROnPlateau(monitor='val_loss', factor=0.2,\n",
    "                              patience=3, min_lr=1e-06)\n",
    "\n",
    "tic = time.time()\n",
    "# run = wandb.init(reinit=True)\n",
    "if 'history' in locals():\n",
    "    history_prev = history\n",
    "history = model.fit(train_gen, \n",
    "                    epochs=epochs, \n",
    "                    batch_size=batch_size,\n",
    "                    validation_data=valid_gen,\n",
    "                    validation_batch_size=32,\n",
    "                    validation_freq=1,\n",
    "                    callbacks=[callback, reduce_lr],\n",
    "                    verbose=1)\n",
    "# run.finish()\n",
    "time.time() - tic"
   ]
  },
  {
   "cell_type": "code",
   "execution_count": 22,
   "metadata": {},
   "outputs": [
    {
     "data": {
      "text/plain": [
       "<matplotlib.legend.Legend at 0x7fbd4802d110>"
      ]
     },
     "execution_count": 22,
     "metadata": {},
     "output_type": "execute_result"
    },
    {
     "data": {
      "image/png": "[encoded data removed]",
      "text/plain": [
       "<Figure size 1080x432 with 2 Axes>"
      ]
     },
     "metadata": {
      "needs_background": "light"
     },
     "output_type": "display_data"
    }
   ],
   "source": [
    "f, axs = plt.subplots(1,2,figsize=(15,6))\n",
    "plt.subplot(121)\n",
    "plt.plot(history.history['loss'], label='train-loss')\n",
    "plt.plot(history.history['val_loss'], label='validation-loss')\n",
    "plt.legend()\n",
    "\n",
    "plt.subplot(122)\n",
    "plt.plot(history.history['mae'], label='train-MAE')\n",
    "plt.plot(history.history['val_mae'], label='validation-MAE')\n",
    "plt.legend()"
   ]
  },
  {
   "cell_type": "code",
   "execution_count": 23,
   "metadata": {},
   "outputs": [
    {
     "name": "stdout",
     "output_type": "stream",
     "text": [
      "WARNING:tensorflow:From /anaconda/envs/py37_tensorflow/lib/python3.7/site-packages/tensorflow/python/ops/resource_variable_ops.py:1817: calling BaseResourceVariable.__init__ (from tensorflow.python.ops.resource_variable_ops) with constraint is deprecated and will be removed in a future version.\n",
      "Instructions for updating:\n",
      "If using Keras pass *_constraint arguments to layers.\n",
      "INFO:tensorflow:Assets written to: triplet_loss_nondisjoint/assets\n"
     ]
    }
   ],
   "source": [
    "model.save(f\"triplet_loss_{data_type}\")"
   ]
  },
  {
   "cell_type": "code",
   "execution_count": 24,
   "metadata": {},
   "outputs": [
    {
     "name": "stdout",
     "output_type": "stream",
     "text": [
      "Loaded 261057 image embeddings\n"
     ]
    }
   ],
   "source": [
    "with open(image_embedding_file, \"rb\") as fr:\n",
    "    image_embedding_dict = pickle.load(fr)\n",
    "print(f\"Loaded {len(image_embedding_dict)} image embeddings\")"
   ]
  },
  {
   "cell_type": "code",
   "execution_count": 54,
   "metadata": {},
   "outputs": [
    {
     "name": "stdout",
     "output_type": "stream",
     "text": [
      "Model: \"model_10\"\n",
      "__________________________________________________________________________________________________\n",
      "Layer (type)                    Output Shape         Param #     Connected to                     \n",
      "==================================================================================================\n",
      "input_46 (InputLayer)           [(None, 1280)]       0                                            \n",
      "__________________________________________________________________________________________________\n",
      "tf_op_layer_stack_17 (TensorFlo [(None, 3, 1280)]    0           input_46[0][0]                   \n",
      "                                                                 input_46[0][0]                   \n",
      "                                                                 input_46[0][0]                   \n",
      "__________________________________________________________________________________________________\n",
      "time_distributed_18 (TimeDistri multiple             327936      tf_op_layer_stack_17[0][0]       \n",
      "__________________________________________________________________________________________________\n",
      "tf_op_layer_strided_slice_26 (T [(None, 256)]        0           time_distributed_18[14][0]       \n",
      "==================================================================================================\n",
      "Total params: 327,936\n",
      "Trainable params: 327,936\n",
      "Non-trainable params: 0\n",
      "__________________________________________________________________________________________________\n"
     ]
    }
   ],
   "source": [
    "inp = tf.keras.layers.Input(shape=[1280])\n",
    "inp2 = tf.stack([inp, inp, inp], axis=1)\n",
    "out = model.layers[2](inp2)\n",
    "out2 = out[:,0,:]\n",
    "image_model = tf.keras.models.Model(inputs=inp, outputs=out2)\n",
    "image_model.summary()"
   ]
  },
  {
   "cell_type": "code",
   "execution_count": 59,
   "metadata": {},
   "outputs": [
    {
     "name": "stderr",
     "output_type": "stream",
     "text": [
      "100%|██████████| 261057/261057 [11:08<00:00, 390.65it/s]\n"
     ]
    }
   ],
   "source": [
    "triplet_image_dict = {}\n",
    "for item, x in tqdm(image_embedding_dict.items()):\n",
    "    y = tf.squeeze(image_model(tf.expand_dims(x, axis=0)))\n",
    "    triplet_image_dict[item] = y"
   ]
  },
  {
   "cell_type": "code",
   "execution_count": 60,
   "metadata": {},
   "outputs": [],
   "source": [
    "with open(os.path.join(embed_dir, \"triplet_polyvore_image.pkl\"), \"wb\") as output_file:\n",
    "    pickle.dump(triplet_image_dict, output_file)"
   ]
  },
  {
   "cell_type": "markdown",
   "metadata": {},
   "source": [
    "### Write new text embeddings"
   ]
  },
  {
   "cell_type": "code",
   "execution_count": 61,
   "metadata": {},
   "outputs": [
    {
     "name": "stdout",
     "output_type": "stream",
     "text": [
      "Model: \"model_11\"\n",
      "__________________________________________________________________________________________________\n",
      "Layer (type)                    Output Shape         Param #     Connected to                     \n",
      "==================================================================================================\n",
      "input_47 (InputLayer)           [(None, 768)]        0                                            \n",
      "__________________________________________________________________________________________________\n",
      "tf_op_layer_stack_18 (TensorFlo [(None, 3, 768)]     0           input_47[0][0]                   \n",
      "                                                                 input_47[0][0]                   \n",
      "                                                                 input_47[0][0]                   \n",
      "__________________________________________________________________________________________________\n",
      "time_distributed_19 (TimeDistri (None, 3, 256)       196864      tf_op_layer_stack_18[0][0]       \n",
      "__________________________________________________________________________________________________\n",
      "tf_op_layer_strided_slice_27 (T [(None, 256)]        0           time_distributed_19[1][0]        \n",
      "==================================================================================================\n",
      "Total params: 196,864\n",
      "Trainable params: 196,864\n",
      "Non-trainable params: 0\n",
      "__________________________________________________________________________________________________\n"
     ]
    }
   ],
   "source": [
    "inp = tf.keras.layers.Input(shape=[768])\n",
    "inp2 = tf.stack([inp, inp, inp], axis=1)\n",
    "out = model.layers[3](inp2)\n",
    "out2 = out[:,0,:]\n",
    "text_model = tf.keras.models.Model(inputs=inp, outputs=out2)\n",
    "text_model.summary()"
   ]
  },
  {
   "cell_type": "code",
   "execution_count": 25,
   "metadata": {},
   "outputs": [
    {
     "name": "stdout",
     "output_type": "stream",
     "text": [
      "Loaded 251008 text embeddings\n"
     ]
    }
   ],
   "source": [
    "text_embedding_file = os.path.join(embed_dir, \"bert_polyvore.pkl\")\n",
    "with open(text_embedding_file, \"rb\") as fr:\n",
    "    text_embedding_dict = pickle.load(fr)\n",
    "print(f\"Loaded {len(text_embedding_dict)} text embeddings\")"
   ]
  },
  {
   "cell_type": "code",
   "execution_count": 62,
   "metadata": {},
   "outputs": [
    {
     "name": "stderr",
     "output_type": "stream",
     "text": [
      "100%|██████████| 251008/251008 [11:01<00:00, 379.31it/s]\n"
     ]
    }
   ],
   "source": [
    "triplet_text_dict = {}\n",
    "for item, x in tqdm(text_embedding_dict.items()):\n",
    "    y = tf.squeeze(text_model(tf.expand_dims(x, axis=0)))\n",
    "    triplet_text_dict[item] = y"
   ]
  },
  {
   "cell_type": "code",
   "execution_count": 63,
   "metadata": {},
   "outputs": [],
   "source": [
    "with open(os.path.join(embed_dir, \"triplet_polyvore_text.pkl\"), \"wb\") as output_file:\n",
    "    pickle.dump(triplet_text_dict, output_file)"
   ]
  },
  {
   "cell_type": "code",
   "execution_count": 27,
   "metadata": {},
   "outputs": [
    {
     "data": {
      "text/plain": [
       "[<tensorflow.python.keras.engine.input_layer.InputLayer at 0x7fbd901867d0>,\n",
       " <tensorflow.python.keras.engine.input_layer.InputLayer at 0x7fbd90192ad0>,\n",
       " <tensorflow.python.keras.layers.wrappers.TimeDistributed at 0x7fbd90186090>,\n",
       " <tensorflow.python.keras.layers.wrappers.TimeDistributed at 0x7fbd90166450>,\n",
       " <tensorflow.python.keras.layers.normalization_v2.BatchNormalization at 0x7fbd901e42d0>,\n",
       " <tensorflow.python.keras.layers.normalization_v2.BatchNormalization at 0x7fbd90168a90>,\n",
       " <tensorflow.python.keras.layers.merge.Concatenate at 0x7fbd90171190>,\n",
       " <tensorflow.python.keras.engine.base_layer.TensorFlowOpLayer at 0x7fbd900bfd90>,\n",
       " <tensorflow.python.keras.engine.base_layer.TensorFlowOpLayer at 0x7fbd900ade10>,\n",
       " <tensorflow.python.keras.engine.base_layer.TensorFlowOpLayer at 0x7fbd9005a810>,\n",
       " <tensorflow.python.keras.engine.base_layer.TensorFlowOpLayer at 0x7fbd9004dad0>,\n",
       " <tensorflow.python.keras.engine.base_layer.TensorFlowOpLayer at 0x7fbd900ad210>,\n",
       " <tensorflow.python.keras.engine.base_layer.TensorFlowOpLayer at 0x7fbd900bae50>,\n",
       " <tensorflow.python.keras.engine.base_layer.TensorFlowOpLayer at 0x7fbd9005a410>,\n",
       " <tensorflow.python.keras.engine.base_layer.TensorFlowOpLayer at 0x7fbd900bad10>,\n",
       " <tensorflow.python.keras.engine.base_layer.TensorFlowOpLayer at 0x7fbd90166c90>,\n",
       " <tensorflow.python.keras.engine.base_layer.TensorFlowOpLayer at 0x7fbd9005dd90>,\n",
       " <tensorflow.python.keras.engine.base_layer.TensorFlowOpLayer at 0x7fbd900898d0>,\n",
       " <tensorflow.python.keras.engine.base_layer.TensorFlowOpLayer at 0x7fbd90051e50>,\n",
       " <tensorflow.python.keras.engine.base_layer.TensorFlowOpLayer at 0x7fbd900ac110>,\n",
       " <tensorflow.python.keras.engine.base_layer.TensorFlowOpLayer at 0x7fbd900ad0d0>,\n",
       " <tensorflow.python.keras.engine.base_layer.TensorFlowOpLayer at 0x7fbd9009b590>,\n",
       " <tensorflow.python.keras.engine.base_layer.TensorFlowOpLayer at 0x7fbd90060490>,\n",
       " <tensorflow.python.keras.engine.base_layer.TensorFlowOpLayer at 0x7fbd900e62d0>]"
      ]
     },
     "execution_count": 27,
     "metadata": {},
     "output_type": "execute_result"
    }
   ],
   "source": [
    "model.layers"
   ]
  },
  {
   "cell_type": "code",
   "execution_count": null,
   "metadata": {},
   "outputs": [],
   "source": []
  }
 ],
 "metadata": {
  "kernelspec": {
   "display_name": "Python 3",
   "language": "python",
   "name": "python3"
  },
  "language_info": {
   "codemirror_mode": {
    "name": "ipython",
    "version": 3
   },
   "file_extension": ".py",
   "mimetype": "text/x-python",
   "name": "python",
   "nbconvert_exporter": "python",
   "pygments_lexer": "ipython3",
   "version": "3.7.7"
  }
 },
 "nbformat": 4,
 "nbformat_minor": 4
}
