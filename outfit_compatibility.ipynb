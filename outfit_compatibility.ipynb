{
 "cells": [
  {
   "cell_type": "markdown",
   "metadata": {},
   "source": [
    "# Outfit Compatibility Prediction"
   ]
  },
  {
   "cell_type": "code",
   "execution_count": 1,
   "metadata": {},
   "outputs": [],
   "source": [
    "%load_ext autoreload\n",
    "%autoreload 2"
   ]
  },
  {
   "cell_type": "code",
   "execution_count": 2,
   "metadata": {},
   "outputs": [
    {
     "name": "stdout",
     "output_type": "stream",
     "text": [
      "Populating the interactive namespace from numpy and matplotlib\n"
     ]
    }
   ],
   "source": [
    "import os\n",
    "import json\n",
    "from collections import Counter\n",
    "from PIL import Image\n",
    "import pandas as pd\n",
    "import tensorflow as tf\n",
    "from tensorflow import keras\n",
    "from tensorflow.keras.callbacks import EarlyStopping, ReduceLROnPlateau\n",
    "\n",
    "from tqdm import tqdm\n",
    "import pickle\n",
    "\n",
    "import sys\n",
    "sys.path.insert(0, \"/recsys_data/RecSys/fashion/automl/efficientnetv2\")\n",
    "import effnetv2_model\n",
    "\n",
    "%pylab inline\n",
    "import matplotlib.pyplot as plt"
   ]
  },
  {
   "cell_type": "code",
   "execution_count": 3,
   "metadata": {},
   "outputs": [],
   "source": [
    "# import wandb\n",
    "# from wandb.keras import WandbCallback\n",
    "\n",
    "# wandb.init(project=\"compatibility\")"
   ]
  },
  {
   "cell_type": "code",
   "execution_count": 5,
   "metadata": {},
   "outputs": [],
   "source": [
    "base_dir = \"/recsys_data/RecSys/fashion/polyvore-dataset/polyvore_outfits\"\n",
    "data_type = \"nondisjoint\" # \"nondisjoint\", \"disjoint\"\n",
    "train_dir = os.path.join(base_dir, data_type)\n",
    "image_dir = os.path.join(base_dir, \"images\")\n",
    "embed_dir = \"/recsys_data/RecSys/fashion/polyvore-dataset/precomputed\"\n",
    "train_json = \"train.json\"\n",
    "valid_json = \"valid.json\"\n",
    "test_json = \"test.json\"\n",
    "\n",
    "train_file = \"compatibility_train.txt\"\n",
    "valid_file = \"compatibility_valid.txt\"\n",
    "test_file = \"compatibility_test.txt\"\n",
    "item_file = \"polyvore_item_metadata.json\"\n",
    "outfit_file = \"polyvore_outfit_titles.json\"\n",
    "\n",
    "model_type = \"rnn\" #\"set-transformer\"\n",
    "include_text = True"
   ]
  },
  {
   "cell_type": "code",
   "execution_count": 6,
   "metadata": {},
   "outputs": [
    {
     "name": "stdout",
     "output_type": "stream",
     "text": [
      "Total 53306, 5000, 10000 outfits in train, validation and test split, respectively\n"
     ]
    }
   ],
   "source": [
    "with open(os.path.join(train_dir, train_json), 'r') as fr:\n",
    "    train_pos = json.load(fr)\n",
    "    \n",
    "with open(os.path.join(train_dir, valid_json), 'r') as fr:\n",
    "    valid_pos = json.load(fr)\n",
    "    \n",
    "with open(os.path.join(train_dir, test_json), 'r') as fr:\n",
    "    test_pos = json.load(fr)\n",
    "    \n",
    "with open(os.path.join(base_dir, item_file), 'r') as fr:\n",
    "    pv_items = json.load(fr)\n",
    "    \n",
    "with open(os.path.join(base_dir, outfit_file), 'r') as fr:\n",
    "    pv_outfits = json.load(fr)\n",
    "print(f\"Total {len(train_pos)}, {len(valid_pos)}, {len(test_pos)} outfits in train, validation and test split, respectively\")"
   ]
  },
  {
   "cell_type": "code",
   "execution_count": 7,
   "metadata": {},
   "outputs": [
    {
     "data": {
      "text/plain": [
       "(2, 2, 2)"
      ]
     },
     "execution_count": 7,
     "metadata": {},
     "output_type": "execute_result"
    }
   ],
   "source": [
    "min([len(o['items']) for o in train_pos]), min([len(o['items']) for o in valid_pos]), min([len(o['items']) for o in test_pos])"
   ]
  },
  {
   "cell_type": "code",
   "execution_count": 8,
   "metadata": {},
   "outputs": [
    {
     "name": "stdout",
     "output_type": "stream",
     "text": [
      "Total 106612, 10000, 20000 examples in train, validation and test split, respectively\n"
     ]
    }
   ],
   "source": [
    "with open(os.path.join(train_dir, train_file), 'r') as fr:\n",
    "    train_X, train_y = [], []\n",
    "    for line in fr:\n",
    "        elems = line.strip().split()\n",
    "        train_y.append(elems[0])\n",
    "        train_X.append(elems[1:])\n",
    "\n",
    "with open(os.path.join(train_dir, valid_file), 'r') as fr:\n",
    "    valid_X, valid_y = [], []\n",
    "    for line in fr:\n",
    "        elems = line.strip().split()\n",
    "        valid_y.append(elems[0])\n",
    "        valid_X.append(elems[1:])\n",
    "\n",
    "with open(os.path.join(train_dir, test_file), 'r') as fr:\n",
    "    test_X, test_y = [], []\n",
    "    for line in fr:\n",
    "        elems = line.strip().split()\n",
    "        test_y.append(elems[0])\n",
    "        test_X.append(elems[1:])\n",
    "\n",
    "print(f\"Total {len(train_X)}, {len(valid_X)}, {len(test_X)} examples in train, validation and test split, respectively\")"
   ]
  },
  {
   "cell_type": "code",
   "execution_count": 9,
   "metadata": {},
   "outputs": [
    {
     "name": "stdout",
     "output_type": "stream",
     "text": [
      "284767\n",
      "311548\n",
      "365054\n"
     ]
    }
   ],
   "source": [
    "item_dict = {}\n",
    "for ii, outfit in enumerate(train_pos):\n",
    "    items = outfit['items']\n",
    "    mapped = train_X[ii]\n",
    "    item_dict.update({jj:kk['item_id'] for jj, kk in zip(mapped, items)})\n",
    "print(len(item_dict))\n",
    "\n",
    "for ii, outfit in enumerate(valid_pos):\n",
    "    items = outfit['items']\n",
    "    mapped = valid_X[ii]\n",
    "    item_dict.update({jj:kk['item_id'] for jj, kk in zip(mapped, items)})\n",
    "print(len(item_dict))\n",
    "\n",
    "for ii, outfit in enumerate(test_pos):\n",
    "    items = outfit['items']\n",
    "    mapped = test_X[ii]\n",
    "    item_dict.update({jj:kk['item_id'] for jj, kk in zip(mapped, items)})\n",
    "print(len(item_dict))"
   ]
  },
  {
   "cell_type": "code",
   "execution_count": 10,
   "metadata": {},
   "outputs": [],
   "source": [
    "from build_model import build_multilevel_transformer\n",
    "from build_model import build_set_transformer\n",
    "from rnn import build_multilevel_rnn_unequal, build_fc_model"
   ]
  },
  {
   "cell_type": "code",
   "execution_count": 18,
   "metadata": {},
   "outputs": [],
   "source": [
    "model_type = \"rnn\" # \"set-transformer\", \"rnn\"\n",
    "include_text = True\n",
    "use_image_embedding = True # False # True\n",
    "use_graphsage = False\n",
    "batch_size = 32\n",
    "max_seq_len = 8\n",
    "if use_image_embedding:\n",
    "    if use_graphsage:\n",
    "        image_embedding_dim = 50\n",
    "        image_embedding_file = os.path.join(embed_dir, \"graphsage_dict2_polyvore.pkl\")\n",
    "    else:\n",
    "        image_embedding_dim = 256 # 1280\n",
    "#         image_embedding_file = os.path.join(embed_dir, \"effnet_tuned_polyvore.pkl\")\n",
    "        image_embedding_file = os.path.join(embed_dir, \"triplet_polyvore_image.pkl\")\n",
    "else:\n",
    "    image_embedding_dim = (224, 224, 3)\n",
    "    image_embedding_file = os.path.join(embed_dir, \"effnet_tuned_polyvore.pkl\") # not used\n",
    "# text_embedding_file = os.path.join(embed_dir, \"bert_polyvore.pkl\")\n",
    "text_embedding_file = os.path.join(embed_dir, \"triplet_polyvore_text.pkl\")\n",
    "text_embedding_dim = 256 # 768"
   ]
  },
  {
   "cell_type": "code",
   "execution_count": 14,
   "metadata": {},
   "outputs": [
    {
     "name": "stdout",
     "output_type": "stream",
     "text": [
      "Model: \"rnn\"\n",
      "__________________________________________________________________________________________________\n",
      "Layer (type)                    Output Shape         Param #     Connected to                     \n",
      "==================================================================================================\n",
      "input_3 (InputLayer)            [(None, 8, 256)]     0                                            \n",
      "__________________________________________________________________________________________________\n",
      "input_4 (InputLayer)            [(None, 8, 256)]     0                                            \n",
      "__________________________________________________________________________________________________\n",
      "tf_op_layer_Sum_2 (TensorFlowOp [(None, 8)]          0           input_3[0][0]                    \n",
      "__________________________________________________________________________________________________\n",
      "tf_op_layer_Sum_3 (TensorFlowOp [(None, 8)]          0           input_4[0][0]                    \n",
      "__________________________________________________________________________________________________\n",
      "tf_op_layer_NotEqual_2 (TensorF [(None, 8)]          0           tf_op_layer_Sum_2[0][0]          \n",
      "__________________________________________________________________________________________________\n",
      "tf_op_layer_NotEqual_3 (TensorF [(None, 8)]          0           tf_op_layer_Sum_3[0][0]          \n",
      "__________________________________________________________________________________________________\n",
      "bidirectional_2 (Bidirectional) (None, 8, 1024)      3149824     input_3[0][0]                    \n",
      "__________________________________________________________________________________________________\n",
      "bidirectional_3 (Bidirectional) (None, 8, 1024)      3149824     input_4[0][0]                    \n",
      "__________________________________________________________________________________________________\n",
      "lstm_5 (LSTM)                   (None, 8, 512)       3147776     bidirectional_2[0][0]            \n",
      "__________________________________________________________________________________________________\n",
      "lstm_7 (LSTM)                   (None, 8, 512)       3147776     bidirectional_3[0][0]            \n",
      "__________________________________________________________________________________________________\n",
      "concatenate_1 (Concatenate)     (None, 8, 1024)      0           lstm_5[0][0]                     \n",
      "                                                                 lstm_7[0][0]                     \n",
      "__________________________________________________________________________________________________\n",
      "batch_normalization_1 (BatchNor (None, 8, 1024)      4096        concatenate_1[0][0]              \n",
      "__________________________________________________________________________________________________\n",
      "permute_1 (Permute)             (None, 1024, 8)      0           batch_normalization_1[0][0]      \n",
      "__________________________________________________________________________________________________\n",
      "dense_2 (Dense)                 (None, 1024, 1)      9           permute_1[0][0]                  \n",
      "__________________________________________________________________________________________________\n",
      "tf_op_layer_Squeeze_1 (TensorFl [(None, 1024)]       0           dense_2[0][0]                    \n",
      "__________________________________________________________________________________________________\n",
      "dropout_1 (Dropout)             (None, 1024)         0           tf_op_layer_Squeeze_1[0][0]      \n",
      "__________________________________________________________________________________________________\n",
      "dense_3 (Dense)                 (None, 1)            1025        dropout_1[0][0]                  \n",
      "==================================================================================================\n",
      "Total params: 12,600,330\n",
      "Trainable params: 12,598,282\n",
      "Non-trainable params: 2,048\n",
      "__________________________________________________________________________________________________\n"
     ]
    }
   ],
   "source": [
    "# from rnn import build_multilevel_rnn_unequal\n",
    "if model_type == \"fc\":\n",
    "    model = build_fc_model(max_seq_len, \n",
    "                           image_embedding_dim,\n",
    "                         num_classes=2,\n",
    "                         num_layers=2,\n",
    "                         d_model=512,\n",
    "                         rnn=\"bilstm\",\n",
    "                         final_activation=\"sigmoid\",\n",
    "                         include_text=include_text\n",
    "                        )\n",
    "elif model_type == \"rnn\":\n",
    "    model = build_multilevel_rnn_unequal(max_seq_len, \n",
    "                                         image_embedding_dim,\n",
    "                                         num_classes=2,\n",
    "                                         num_layers=2,\n",
    "                                         d_model=512,\n",
    "                                         rnn=\"bilstm\",\n",
    "                                         final_activation=\"sigmoid\",\n",
    "                                         include_text=include_text,\n",
    "                                         text_feature_dim=text_embedding_dim,\n",
    "                                        )\n",
    "elif model_type == \"transformer\":\n",
    "    model = build_multilevel_transformer(max_seq_len, \n",
    "                                         image_embedding_dim,\n",
    "                                         num_layers=1,\n",
    "                                         d_model=64,\n",
    "                                         num_heads=1,\n",
    "                                         dff=32,\n",
    "                                         rate=0.0,\n",
    "                                         include_text=include_text,\n",
    "                                         inp_dim2=768,\n",
    "                                         num_classes=2,\n",
    "                                         lstm_dim=32,\n",
    "                                         embedding_activation=\"linear\",\n",
    "                                         lstm_activation=\"linear\",\n",
    "                                         final_activation=\"sigmoid\"\n",
    "                                        )\n",
    "elif model_type == \"set-transformer\":\n",
    "    model = build_set_transformer(max_seq_len, \n",
    "                                  image_embedding_dim, \n",
    "                                  num_layers=3,\n",
    "                                  d_model=256,\n",
    "                                  num_heads=2,\n",
    "                                  dff=256,\n",
    "                                  num_classes=2,\n",
    "                                  lstm_dim=256,\n",
    "                                  include_text=include_text,\n",
    "                                  inp_dim2=768,\n",
    "                                  embedding_activation=\"relu\",\n",
    "                                  lstm_activation=\"relu\",\n",
    "                                  final_activation=\"sigmoid\"\n",
    "                                 )\n",
    "    \n",
    "model.summary()"
   ]
  },
  {
   "cell_type": "code",
   "execution_count": 20,
   "metadata": {},
   "outputs": [
    {
     "name": "stdout",
     "output_type": "stream",
     "text": [
      "33990 3684 6000 632\n"
     ]
    }
   ],
   "source": [
    "filtered_train_X = [x for x in train_X if len(x) == max_seq_len]\n",
    "filtered_valid_X = [x for x in valid_X if len(x) == max_seq_len]\n",
    "print(len(train_X), len(filtered_train_X), len(valid_X), len(filtered_valid_X))"
   ]
  },
  {
   "cell_type": "code",
   "execution_count": 18,
   "metadata": {},
   "outputs": [
    {
     "data": {
      "text/html": [
       "<div>\n",
       "<style scoped>\n",
       "    .dataframe tbody tr th:only-of-type {\n",
       "        vertical-align: middle;\n",
       "    }\n",
       "\n",
       "    .dataframe tbody tr th {\n",
       "        vertical-align: top;\n",
       "    }\n",
       "\n",
       "    .dataframe thead th {\n",
       "        text-align: right;\n",
       "    }\n",
       "</style>\n",
       "<table border=\"1\" class=\"dataframe\">\n",
       "  <thead>\n",
       "    <tr style=\"text-align: right;\">\n",
       "      <th></th>\n",
       "      <th>X</th>\n",
       "      <th>y</th>\n",
       "      <th>seq_len</th>\n",
       "    </tr>\n",
       "  </thead>\n",
       "  <tbody>\n",
       "    <tr>\n",
       "      <th>0</th>\n",
       "      <td>[199244701_1, 199244701_2, 199244701_3, 199244...</td>\n",
       "      <td>1</td>\n",
       "      <td>6</td>\n",
       "    </tr>\n",
       "    <tr>\n",
       "      <th>1</th>\n",
       "      <td>[200742384_1, 200742384_2, 200742384_3, 200742...</td>\n",
       "      <td>1</td>\n",
       "      <td>5</td>\n",
       "    </tr>\n",
       "    <tr>\n",
       "      <th>2</th>\n",
       "      <td>[206955877_1, 206955877_2, 206955877_3, 206955...</td>\n",
       "      <td>1</td>\n",
       "      <td>6</td>\n",
       "    </tr>\n",
       "    <tr>\n",
       "      <th>3</th>\n",
       "      <td>[220340816_1, 220340816_2, 220340816_3, 220340...</td>\n",
       "      <td>1</td>\n",
       "      <td>5</td>\n",
       "    </tr>\n",
       "    <tr>\n",
       "      <th>4</th>\n",
       "      <td>[219393187_1, 219393187_2, 219393187_3, 219393...</td>\n",
       "      <td>1</td>\n",
       "      <td>5</td>\n",
       "    </tr>\n",
       "    <tr>\n",
       "      <th>...</th>\n",
       "      <td>...</td>\n",
       "      <td>...</td>\n",
       "      <td>...</td>\n",
       "    </tr>\n",
       "    <tr>\n",
       "      <th>33984</th>\n",
       "      <td>[173244929_1, 208172613_2, 223925134_2, 222516...</td>\n",
       "      <td>0</td>\n",
       "      <td>4</td>\n",
       "    </tr>\n",
       "    <tr>\n",
       "      <th>33985</th>\n",
       "      <td>[218506324_1, 221405016_1, 206461374_3, 218864...</td>\n",
       "      <td>0</td>\n",
       "      <td>4</td>\n",
       "    </tr>\n",
       "    <tr>\n",
       "      <th>33986</th>\n",
       "      <td>[105184990_1, 211494606_3, 204086912_4, 220595...</td>\n",
       "      <td>0</td>\n",
       "      <td>4</td>\n",
       "    </tr>\n",
       "    <tr>\n",
       "      <th>33987</th>\n",
       "      <td>[66630383_1, 132553628_1, 224927539_2, 2234803...</td>\n",
       "      <td>0</td>\n",
       "      <td>8</td>\n",
       "    </tr>\n",
       "    <tr>\n",
       "      <th>33988</th>\n",
       "      <td>[149252664_1, 224932578_2, 205854787_3, 206523...</td>\n",
       "      <td>0</td>\n",
       "      <td>6</td>\n",
       "    </tr>\n",
       "  </tbody>\n",
       "</table>\n",
       "<p>33298 rows × 3 columns</p>\n",
       "</div>"
      ],
      "text/plain": [
       "                                                       X  y  seq_len\n",
       "0      [199244701_1, 199244701_2, 199244701_3, 199244...  1        6\n",
       "1      [200742384_1, 200742384_2, 200742384_3, 200742...  1        5\n",
       "2      [206955877_1, 206955877_2, 206955877_3, 206955...  1        6\n",
       "3      [220340816_1, 220340816_2, 220340816_3, 220340...  1        5\n",
       "4      [219393187_1, 219393187_2, 219393187_3, 219393...  1        5\n",
       "...                                                  ... ..      ...\n",
       "33984  [173244929_1, 208172613_2, 223925134_2, 222516...  0        4\n",
       "33985  [218506324_1, 221405016_1, 206461374_3, 218864...  0        4\n",
       "33986  [105184990_1, 211494606_3, 204086912_4, 220595...  0        4\n",
       "33987  [66630383_1, 132553628_1, 224927539_2, 2234803...  0        8\n",
       "33988  [149252664_1, 224932578_2, 205854787_3, 206523...  0        6\n",
       "\n",
       "[33298 rows x 3 columns]"
      ]
     },
     "execution_count": 18,
     "metadata": {},
     "output_type": "execute_result"
    }
   ],
   "source": [
    "df_ = pd.DataFrame({\"X\": train_X, \"y\": train_y})\n",
    "df_[\"seq_len\"] = df_[\"X\"].apply(lambda x: len(x))\n",
    "df_ = df_[df_[\"seq_len\"] >= 3]\n",
    "df_"
   ]
  },
  {
   "cell_type": "code",
   "execution_count": 19,
   "metadata": {},
   "outputs": [
    {
     "name": "stdout",
     "output_type": "stream",
     "text": [
      "3332 313\n"
     ]
    }
   ],
   "source": [
    "from data_process import CustomDataGen\n",
    "\n",
    "train_gen = CustomDataGen(train_X, train_y, \n",
    "                          item_dict, \n",
    "                          pv_items, \n",
    "                          image_dir, \n",
    "                          batch_size=batch_size,\n",
    "                          max_len=max_seq_len,\n",
    "                          only_image=not include_text,\n",
    "                          image_embedding=use_image_embedding,\n",
    "                          image_embedding_dim=image_embedding_dim,\n",
    "                          image_embedding_file=image_embedding_file,\n",
    "                          text_embedding_file=text_embedding_file,\n",
    "                          number_items_in_batch=150,\n",
    "                          variable_length_input=True,\n",
    "                          text_embedding_dim=text_embedding_dim,\n",
    "                         )\n",
    "valid_gen = CustomDataGen(valid_X, valid_y, \n",
    "                          item_dict, \n",
    "                          pv_items, \n",
    "                          image_dir, \n",
    "                          batch_size=batch_size,\n",
    "                          max_len=max_seq_len,\n",
    "                          only_image=not include_text,\n",
    "                          image_embedding=use_image_embedding,\n",
    "                          image_embedding_dim=image_embedding_dim,\n",
    "                          image_embedding_file=image_embedding_file,\n",
    "                          text_embedding_file=text_embedding_file,\n",
    "                          number_items_in_batch=150,\n",
    "                          variable_length_input=True,\n",
    "                          text_embedding_dim=text_embedding_dim,\n",
    "                         )\n",
    "print(len(train_gen), len(valid_gen))"
   ]
  },
  {
   "cell_type": "code",
   "execution_count": 17,
   "metadata": {},
   "outputs": [
    {
     "data": {
      "text/plain": [
       "(256, 256)"
      ]
     },
     "execution_count": 17,
     "metadata": {},
     "output_type": "execute_result"
    }
   ],
   "source": [
    "image_embedding_dim, text_embedding_dim"
   ]
  },
  {
   "cell_type": "code",
   "execution_count": 20,
   "metadata": {},
   "outputs": [
    {
     "name": "stdout",
     "output_type": "stream",
     "text": [
      "[(32, 8, 256), (32, 8, 256)] (32,)\n",
      "[(32, 8, 256), (32, 8, 256)] (32,)\n",
      "[(32, 8, 256), (32, 8, 256)] (32,)\n",
      "[(32, 8, 256), (32, 8, 256)] (32,)\n",
      "[(32, 8, 256), (32, 8, 256)] (32,)\n",
      "[(32, 8, 256), (32, 8, 256)] (32,)\n",
      "[(32, 8, 256), (32, 8, 256)] (32,)\n",
      "[(32, 8, 256), (32, 8, 256)] (32,)\n",
      "[(32, 8, 256), (32, 8, 256)] (32,)\n",
      "[(32, 8, 256), (32, 8, 256)] (32,)\n"
     ]
    }
   ],
   "source": [
    "for ii in range(10):\n",
    "    inps, targs = train_gen[ii]\n",
    "    print([x.shape for x in inps], targs.shape)"
   ]
  },
  {
   "cell_type": "code",
   "execution_count": 22,
   "metadata": {},
   "outputs": [
    {
     "data": {
      "text/plain": [
       "array([[1., 1., 1., 1., 0., 0., 0., 0.],\n",
       "       [1., 1., 1., 0., 0., 0., 0., 0.],\n",
       "       [1., 1., 1., 0., 0., 0., 0., 0.],\n",
       "       [1., 0., 0., 0., 0., 0., 0., 0.],\n",
       "       [1., 0., 0., 0., 0., 0., 0., 0.],\n",
       "       [1., 1., 1., 1., 0., 0., 0., 0.],\n",
       "       [1., 1., 1., 1., 0., 0., 0., 0.],\n",
       "       [1., 1., 1., 1., 0., 0., 0., 0.]])"
      ]
     },
     "execution_count": 22,
     "metadata": {},
     "output_type": "execute_result"
    }
   ],
   "source": [
    "inps[2]"
   ]
  },
  {
   "cell_type": "code",
   "execution_count": 14,
   "metadata": {},
   "outputs": [
    {
     "name": "stdout",
     "output_type": "stream",
     "text": [
      "1041 185\n"
     ]
    }
   ],
   "source": [
    "print(len(train_gen), len(valid_gen))"
   ]
  },
  {
   "cell_type": "code",
   "execution_count": 21,
   "metadata": {},
   "outputs": [
    {
     "name": "stdout",
     "output_type": "stream",
     "text": [
      "Epoch 1/100\n",
      "3332/3332 [==============================] - 327s 98ms/step - loss: 0.6228 - accuracy: 0.6456 - auc: 0.7045 - val_loss: 0.6003 - val_accuracy: 0.6793 - val_auc: 0.7414 - lr: 1.0000e-04\n",
      "Epoch 2/100\n",
      "3332/3332 [==============================] - 315s 94ms/step - loss: 0.5681 - accuracy: 0.7025 - auc: 0.7735 - val_loss: 0.6440 - val_accuracy: 0.6559 - val_auc: 0.7632 - lr: 1.0000e-04\n",
      "Epoch 3/100\n",
      "3332/3332 [==============================] - 315s 94ms/step - loss: 0.5369 - accuracy: 0.7251 - auc: 0.8033 - val_loss: 0.5453 - val_accuracy: 0.7206 - val_auc: 0.7981 - lr: 1.0000e-04\n",
      "Epoch 4/100\n",
      "3332/3332 [==============================] - 315s 94ms/step - loss: 0.5142 - accuracy: 0.7432 - auc: 0.8228 - val_loss: 0.5472 - val_accuracy: 0.7229 - val_auc: 0.7972 - lr: 1.0000e-04\n",
      "Epoch 5/100\n",
      "3332/3332 [==============================] - 315s 95ms/step - loss: 0.4944 - accuracy: 0.7565 - auc: 0.8383 - val_loss: 0.5428 - val_accuracy: 0.7261 - val_auc: 0.8055 - lr: 1.0000e-04\n",
      "Epoch 6/100\n",
      "3332/3332 [==============================] - 316s 95ms/step - loss: 0.4747 - accuracy: 0.7703 - auc: 0.8529 - val_loss: 0.5506 - val_accuracy: 0.7261 - val_auc: 0.8084 - lr: 1.0000e-04\n",
      "Epoch 7/100\n",
      "3332/3332 [==============================] - 316s 95ms/step - loss: 0.4514 - accuracy: 0.7846 - auc: 0.8684 - val_loss: 0.5384 - val_accuracy: 0.7348 - val_auc: 0.8142 - lr: 1.0000e-04\n",
      "Epoch 8/100\n",
      "3332/3332 [==============================] - 315s 95ms/step - loss: 0.4289 - accuracy: 0.7966 - auc: 0.8825 - val_loss: 0.5429 - val_accuracy: 0.7410 - val_auc: 0.8189 - lr: 1.0000e-04\n",
      "Epoch 9/100\n",
      "3332/3332 [==============================] - 316s 95ms/step - loss: 0.4013 - accuracy: 0.8155 - auc: 0.8985 - val_loss: 0.6200 - val_accuracy: 0.7120 - val_auc: 0.8165 - lr: 1.0000e-04\n",
      "Epoch 10/100\n",
      "3332/3332 [==============================] - 316s 95ms/step - loss: 0.3327 - accuracy: 0.8551 - auc: 0.9335 - val_loss: 0.5577 - val_accuracy: 0.7483 - val_auc: 0.8263 - lr: 2.0000e-05\n",
      "Epoch 11/100\n",
      "3332/3332 [==============================] - 316s 95ms/step - loss: 0.3117 - accuracy: 0.8641 - auc: 0.9416 - val_loss: 0.5723 - val_accuracy: 0.7422 - val_auc: 0.8244 - lr: 2.0000e-05\n",
      "Epoch 12/100\n",
      "3332/3332 [==============================] - 315s 95ms/step - loss: 0.2871 - accuracy: 0.8788 - auc: 0.9518 - val_loss: 0.5798 - val_accuracy: 0.7468 - val_auc: 0.8258 - lr: 4.0000e-06\n",
      "Epoch 13/100\n",
      "3332/3332 [==============================] - 316s 95ms/step - loss: 0.2827 - accuracy: 0.8813 - auc: 0.9532 - val_loss: 0.5828 - val_accuracy: 0.7476 - val_auc: 0.8256 - lr: 4.0000e-06\n"
     ]
    },
    {
     "data": {
      "text/plain": [
       "4138.68944311142"
      ]
     },
     "execution_count": 21,
     "metadata": {},
     "output_type": "execute_result"
    }
   ],
   "source": [
    "learning_rate = 1.0e-04\n",
    "epochs = 100\n",
    "patience = 6\n",
    "num_train = len(train_X)\n",
    "checkpoint_filepath = base_dir + '/checkpoint'\n",
    "\n",
    "opt = keras.optimizers.Adam(learning_rate=learning_rate)\n",
    "loss = tf.keras.losses.BinaryCrossentropy(from_logits=False, name='binary_crossentropy')\n",
    "model.compile(loss=loss, optimizer=opt, metrics=[\"accuracy\", tf.keras.metrics.AUC()])  # \n",
    "callback = EarlyStopping(\n",
    "                        monitor=\"val_loss\",\n",
    "                        min_delta=0,\n",
    "                        patience=patience,\n",
    "                        verbose=0,\n",
    "                        mode=\"auto\",\n",
    "                        baseline=None,\n",
    "                        restore_best_weights=True,\n",
    "                    )\n",
    "\n",
    "# wandb_callback = WandbCallback(\n",
    "#                         monitor=\"val_loss\",\n",
    "#                         verbose=0,\n",
    "#                         save_model=(False), \n",
    "#                         mode=\"auto\")\n",
    "\n",
    "model_checkpoint_callback = tf.keras.callbacks.ModelCheckpoint(\n",
    "    filepath=checkpoint_filepath,\n",
    "    save_weights_only=True,\n",
    "    monitor='val_loss',\n",
    "    mode='min',\n",
    "    save_best_only=True)\n",
    "\n",
    "reduce_lr = ReduceLROnPlateau(monitor='val_loss', factor=0.2,\n",
    "                              patience=2, min_lr=1e-06)\n",
    "\n",
    "tic = time.time()\n",
    "# run = wandb.init(reinit=True)\n",
    "if 'history' in locals():\n",
    "    history_prev = history\n",
    "history = model.fit(train_gen, \n",
    "                    epochs=epochs, \n",
    "                    batch_size=batch_size,\n",
    "#                     steps_per_epoch=math.ceil(num_train/batch_size),\n",
    "                    validation_data=valid_gen,\n",
    "                    validation_batch_size=32,\n",
    "                    validation_freq=1,\n",
    "                    callbacks=[callback, reduce_lr],\n",
    "                    verbose=1)\n",
    "# run.finish()\n",
    "time.time() - tic"
   ]
  },
  {
   "cell_type": "code",
   "execution_count": 14,
   "metadata": {},
   "outputs": [
    {
     "name": "stdout",
     "output_type": "stream",
     "text": [
      "Done\n"
     ]
    }
   ],
   "source": [
    "print(f\"compatibility_{data_type}_{model_type}_model_{max_seq_len}\")"
   ]
  },
  {
   "cell_type": "code",
   "execution_count": 17,
   "metadata": {},
   "outputs": [
    {
     "name": "stdout",
     "output_type": "stream",
     "text": [
      "WARNING:tensorflow:From /anaconda/envs/py37_tensorflow/lib/python3.7/site-packages/tensorflow/python/ops/resource_variable_ops.py:1817: calling BaseResourceVariable.__init__ (from tensorflow.python.ops.resource_variable_ops) with constraint is deprecated and will be removed in a future version.\n",
      "Instructions for updating:\n",
      "If using Keras pass *_constraint arguments to layers.\n",
      "INFO:tensorflow:Assets written to: compatibility_nondisjoint_rnn_model_8/assets\n"
     ]
    }
   ],
   "source": [
    "model.save(f\"compatibility_{data_type}_{model_type}_model_{max_seq_len}\")"
   ]
  },
  {
   "cell_type": "code",
   "execution_count": 33,
   "metadata": {},
   "outputs": [
    {
     "data": {
      "text/plain": [
       "(1062, 33990, 1062, 1063)"
      ]
     },
     "execution_count": 33,
     "metadata": {},
     "output_type": "execute_result"
    }
   ],
   "source": [
    "len(train_gen), len(train_X), len(train_X)//32, math.ceil(num_train/batch_size)"
   ]
  },
  {
   "cell_type": "code",
   "execution_count": 17,
   "metadata": {},
   "outputs": [
    {
     "data": {
      "text/plain": [
       "<matplotlib.legend.Legend at 0x7fee9a0e25d0>"
      ]
     },
     "execution_count": 17,
     "metadata": {},
     "output_type": "execute_result"
    },
    {
     "data": {
      "image/png": "[encoded data removed]",
      "text/plain": [
       "<Figure size 1080x432 with 2 Axes>"
      ]
     },
     "metadata": {
      "needs_background": "light"
     },
     "output_type": "display_data"
    }
   ],
   "source": [
    "auc_str = \"auc_1\"\n",
    "f, axs = plt.subplots(1,2,figsize=(15,6))\n",
    "max_val_auc = max(history.history[f'val_{auc_str}'])\n",
    "f.suptitle(f'Performance of a {model_type} model (Max. AUC = {max_val_auc:.4})', fontsize=16)\n",
    "plt.subplot(121)\n",
    "plt.plot(history.history['loss'], label='train-loss')\n",
    "plt.plot(history.history['val_loss'], label='validation-loss')\n",
    "plt.legend()\n",
    "\n",
    "plt.subplot(122)\n",
    "plt.plot(history.history[auc_str], label='train-AUC')\n",
    "plt.plot(history.history[f'val_{auc_str}'], label='validation-AUC')\n",
    "plt.legend()"
   ]
  },
  {
   "cell_type": "code",
   "execution_count": 16,
   "metadata": {},
   "outputs": [
    {
     "data": {
      "text/plain": [
       "<matplotlib.legend.Legend at 0x7f31cda76850>"
      ]
     },
     "execution_count": 16,
     "metadata": {},
     "output_type": "execute_result"
    },
    {
     "data": {
      "image/png": "[encoded data removed]",
      "text/plain": [
       "<Figure size 1080x432 with 2 Axes>"
      ]
     },
     "metadata": {
      "needs_background": "light"
     },
     "output_type": "display_data"
    }
   ],
   "source": [
    "auc_str = \"auc\"\n",
    "f, axs = plt.subplots(1,2,figsize=(15,6))\n",
    "max_val_auc = max(history.history[f'val_{auc_str}'])\n",
    "f.suptitle(f'Performance of a {model_type} model (Max. AUC = {max_val_auc:.4})', fontsize=16)\n",
    "plt.subplot(121)\n",
    "plt.plot(history.history['loss'], label='train-loss')\n",
    "plt.plot(history.history['val_loss'], label='validation-loss')\n",
    "plt.legend()\n",
    "\n",
    "plt.subplot(122)\n",
    "plt.plot(history.history[auc_str], label='train-AUC')\n",
    "plt.plot(history.history[f'val_{auc_str}'], label='validation-AUC')\n",
    "plt.legend()"
   ]
  },
  {
   "cell_type": "code",
   "execution_count": 54,
   "metadata": {},
   "outputs": [
    {
     "data": {
      "text/plain": [
       "<matplotlib.legend.Legend at 0x7f5e0cbd3210>"
      ]
     },
     "execution_count": 54,
     "metadata": {},
     "output_type": "execute_result"
    },
    {
     "data": {
      "image/png": "[encoded data removed]",
      "text/plain": [
       "<Figure size 1080x432 with 2 Axes>"
      ]
     },
     "metadata": {
      "needs_background": "light"
     },
     "output_type": "display_data"
    }
   ],
   "source": [
    "f, axs = plt.subplots(1,2,figsize=(15,6))\n",
    "plt.subplot(121)\n",
    "plt.plot(history.history['loss'], label='train-loss')\n",
    "plt.plot(history.history['val_loss'], label='validation-loss')\n",
    "plt.legend()\n",
    "\n",
    "plt.subplot(122)\n",
    "plt.plot(history.history['auc_9'], label='train-AUC')\n",
    "plt.plot(history.history['val_auc_9'], label='validation-AUC')\n",
    "plt.legend()"
   ]
  },
  {
   "cell_type": "code",
   "execution_count": 14,
   "metadata": {},
   "outputs": [],
   "source": [
    "test_gen = CustomDataGen(test_X, test_y, \n",
    "                          item_dict, \n",
    "                          pv_items, \n",
    "                          image_dir, \n",
    "                          batch_size=batch_size, \n",
    "                          only_image=not include_text,\n",
    "                          image_embedding=True,\n",
    "                          image_embedding_dim=image_embedding_dim,\n",
    "                          image_embedding_file=image_embedding_file,\n",
    "                          text_embedding_file=\"bert_polyvore.pkl\",)"
   ]
  },
  {
   "cell_type": "code",
   "execution_count": 33,
   "metadata": {},
   "outputs": [],
   "source": [
    "def get_accuracy_auc(data_gen):\n",
    "    m = tf.keras.metrics.BinaryAccuracy()\n",
    "    m2 = tf.keras.metrics.AUC()\n",
    "    acc_list = []\n",
    "    pbar = tqdm(range(len(data_gen)))\n",
    "    ys, yhats = [], []\n",
    "    for ii in pbar:\n",
    "        x, y = data_gen[ii]  # batch size\n",
    "        yhat = model(x)\n",
    "        m.update_state(y, yhat)\n",
    "        batch_acc = m.result().numpy()\n",
    "        acc_list.append(batch_acc)\n",
    "        pbar.set_description(\"Batch accuracy %g\" % batch_acc)\n",
    "        ys.append(y)\n",
    "        yhats.append(yhat)\n",
    "    print(f\"Average Accuracy: {np.mean(acc_list)}\")\n",
    "    big_y = np.concatenate(ys, axis=0)\n",
    "    big_yh = np.concatenate(yhats, axis=0)\n",
    "    m2.update_state(big_y, big_yh)\n",
    "    auc = m2.result().numpy()\n",
    "    print(f\"AUC: {auc}\")\n"
   ]
  },
  {
   "cell_type": "code",
   "execution_count": 35,
   "metadata": {},
   "outputs": [
    {
     "name": "stderr",
     "output_type": "stream",
     "text": [
      "Batch accuracy 0.919822: 100%|██████████| 1063/1063 [00:32<00:00, 32.94it/s]\n"
     ]
    },
    {
     "name": "stdout",
     "output_type": "stream",
     "text": [
      "Average Accuracy: 0.9177117347717285\n",
      "AUC: 0.9803071618080139\n"
     ]
    }
   ],
   "source": [
    "get_accuracy_auc(train_gen)"
   ]
  },
  {
   "cell_type": "code",
   "execution_count": 36,
   "metadata": {},
   "outputs": [
    {
     "name": "stderr",
     "output_type": "stream",
     "text": [
      "Batch accuracy 0.691323: 100%|██████████| 188/188 [00:05<00:00, 32.20it/s]\n"
     ]
    },
    {
     "name": "stdout",
     "output_type": "stream",
     "text": [
      "Average Accuracy: 0.6867008805274963\n",
      "AUC: 0.7629901766777039\n"
     ]
    }
   ],
   "source": [
    "get_accuracy_auc(valid_gen)"
   ]
  },
  {
   "cell_type": "code",
   "execution_count": 34,
   "metadata": {},
   "outputs": [
    {
     "name": "stderr",
     "output_type": "stream",
     "text": [
      "Batch accuracy 0.674806: 100%|██████████| 947/947 [00:28<00:00, 33.24it/s]\n"
     ]
    },
    {
     "name": "stdout",
     "output_type": "stream",
     "text": [
      "Average Accuracy: 0.6465033292770386\n",
      "AUC: 0.7359540462493896\n"
     ]
    }
   ],
   "source": [
    "get_accuracy_auc(test_gen)"
   ]
  },
  {
   "cell_type": "markdown",
   "metadata": {},
   "source": [
    "## Text Embeddings\n",
    "\n",
    " - pre-compute all the text embeddings"
   ]
  },
  {
   "cell_type": "code",
   "execution_count": 13,
   "metadata": {},
   "outputs": [
    {
     "name": "stderr",
     "output_type": "stream",
     "text": [
      "Some weights of the model checkpoint at bert-base-uncased were not used when initializing BertModel: ['cls.predictions.bias', 'cls.predictions.transform.dense.bias', 'cls.seq_relationship.weight', 'cls.predictions.transform.dense.weight', 'cls.predictions.decoder.weight', 'cls.seq_relationship.bias', 'cls.predictions.transform.LayerNorm.weight', 'cls.predictions.transform.LayerNorm.bias']\n",
      "- This IS expected if you are initializing BertModel from the checkpoint of a model trained on another task or with another architecture (e.g. initializing a BertForSequenceClassification model from a BertForPreTraining model).\n",
      "- This IS NOT expected if you are initializing BertModel from the checkpoint of a model that you expect to be exactly identical (initializing a BertForSequenceClassification model from a BertForSequenceClassification model).\n"
     ]
    }
   ],
   "source": [
    "from transformers import BertTokenizer, BertModel\n",
    "import torch\n",
    "\n",
    "tokenizer = BertTokenizer.from_pretrained(\"bert-base-uncased\")\n",
    "model = BertModel.from_pretrained(\"bert-base-uncased\")\n",
    "\n",
    "# inputs = tokenizer(\"Hello, my dog is cute\", return_tensors=\"pt\")\n",
    "# outputs = model(**inputs)\n",
    "\n",
    "# last_hidden_states = outputs.last_hidden_state\n",
    "# pooled_output = outputs.pooler_output.detach().numpy()\n",
    "# pooled_output[0,:].shape"
   ]
  },
  {
   "cell_type": "code",
   "execution_count": 31,
   "metadata": {},
   "outputs": [
    {
     "name": "stderr",
     "output_type": "stream",
     "text": [
      "100%|██████████| 251008/251008 [4:44:18<00:00, 14.71it/s]  \n"
     ]
    }
   ],
   "source": [
    "def get_texts(item_id, item_description):\n",
    "    item = item_description[item_id]  # item attributes\n",
    "    text = \" \".join(\n",
    "        [\n",
    "            item[\"url_name\"],\n",
    "            item[\"description\"],\n",
    "            item[\"title\"],\n",
    "            item[\"semantic_category\"],\n",
    "        ]\n",
    "    )\n",
    "#     text = \" \".join(text.split()[:512])\n",
    "    return text\n",
    "\n",
    "bert_dict = {}\n",
    "for item_id in tqdm(pv_items):\n",
    "    text = get_texts(item_id, pv_items)\n",
    "    inputs = tokenizer(text, return_tensors=\"pt\")\n",
    "    new_inputs = {'input_ids': inputs['input_ids'][:,:512], \n",
    "                  'token_type_ids': inputs['token_type_ids'][:,:512], \n",
    "                  'attention_mask': inputs['attention_mask'][:,:512]}\n",
    "    outputs = model(**new_inputs)\n",
    "#     outputs = model(input_ids=inputs['input_ids'][:,:512], \n",
    "#           attention_mask=inputs['attention_mask'][:,:512], \n",
    "#           token_type_ids=inputs['token_type_ids'][:,:512])\n",
    "    text_emb = outputs.pooler_output.detach().numpy()[0, :]\n",
    "    bert_dict[item_id] = text_emb\n",
    "    "
   ]
  },
  {
   "cell_type": "code",
   "execution_count": 32,
   "metadata": {},
   "outputs": [],
   "source": [
    "with open(\"bert_polyvore.pkl\", \"wb\") as output_file:\n",
    "    pickle.dump(bert_dict, output_file)"
   ]
  },
  {
   "cell_type": "markdown",
   "metadata": {},
   "source": [
    "## Image Embeddings"
   ]
  },
  {
   "cell_type": "code",
   "execution_count": null,
   "metadata": {},
   "outputs": [
    {
     "name": "stdout",
     "output_type": "stream",
     "text": [
      "WARNING:tensorflow:From /anaconda/envs/py37_tensorflow/lib/python3.7/site-packages/tensorflow/python/training/tracking/util.py:1283: NameBasedSaverStatus.__init__ (from tensorflow.python.training.tracking.util) is deprecated and will be removed in a future version.\n",
      "Instructions for updating:\n",
      "Restoring a name-based tf.train.Saver checkpoint using the object-based restore API. This mode uses global names to match variables, and so is somewhat fragile. It also adds new restore ops to the graph each time it is called when graph building. Prefer re-encoding training checkpoints in the object-based format: run save() on the object-based saver (the same one this message is coming from) and use that checkpoint in the future.\n"
     ]
    },
    {
     "name": "stderr",
     "output_type": "stream",
     "text": [
      "WARNING:tensorflow:From /anaconda/envs/py37_tensorflow/lib/python3.7/site-packages/tensorflow/python/training/tracking/util.py:1283: NameBasedSaverStatus.__init__ (from tensorflow.python.training.tracking.util) is deprecated and will be removed in a future version.\n",
      "Instructions for updating:\n",
      "Restoring a name-based tf.train.Saver checkpoint using the object-based restore API. This mode uses global names to match variables, and so is somewhat fragile. It also adds new restore ops to the graph each time it is called when graph building. Prefer re-encoding training checkpoints in the object-based format: run save() on the object-based saver (the same one this message is coming from) and use that checkpoint in the future.\n",
      " 70%|███████   | 183608/261057 [5:51:32<2:25:03,  8.90it/s]"
     ]
    }
   ],
   "source": [
    "import glob\n",
    "efficient_net_dict = {}\n",
    "\n",
    "eff2_model = tf.keras.models.Sequential(\n",
    "                [\n",
    "                    tf.keras.layers.InputLayer(input_shape=[224, 224, 3]),\n",
    "                    effnetv2_model.get_model(\"efficientnetv2-b0\", include_top=False),\n",
    "                ]\n",
    "            )\n",
    "\n",
    "for image_path in tqdm(glob.glob(image_dir+\"/*.jpg\")):\n",
    "    item_id = image_path.split('/')[-1].split('.')[0]\n",
    "    image = tf.keras.preprocessing.image.load_img(image_path)\n",
    "    image_arr = tf.keras.preprocessing.image.img_to_array(image)\n",
    "    image_arr = tf.image.resize(image_arr, (224, 224)).numpy()\n",
    "    image_arr /= 255.0\n",
    "    image_embed = tf.squeeze(eff2_model(tf.expand_dims(image_arr, 0)))\n",
    "    efficient_net_dict[item_id] = image_embed"
   ]
  },
  {
   "cell_type": "code",
   "execution_count": 8,
   "metadata": {},
   "outputs": [],
   "source": [
    "with open(\"effnet2_polyvore.pkl\", \"wb\") as output_file:\n",
    "    pickle.dump(efficient_net_dict, output_file)"
   ]
  },
  {
   "cell_type": "code",
   "execution_count": 2,
   "metadata": {},
   "outputs": [],
   "source": [
    "class image_embedding_layer(tf.keras.layers.Layer):\n",
    "    def __init__(self, dropout, embedding_dim, activation):\n",
    "        super(image_embedding_layer, self).__init__()\n",
    "        self.dropout = dropout\n",
    "        self.embedding_dim = embedding_dim\n",
    "        self.activation = activation\n",
    "\n",
    "    def build(self, input_shape):\n",
    "        self.layer = tf.keras.Sequential(\n",
    "            [\n",
    "                effnetv2_model.get_model(\"efficientnetv2-b0\", include_top=False),\n",
    "                tf.keras.layers.Dropout(rate=self.dropout),\n",
    "                tf.keras.layers.Dense(self.embedding_dim, activation=self.activation),\n",
    "            ]\n",
    "        )\n",
    "\n",
    "    def call(self, input_tensor):\n",
    "        return self.layer(input_tensor)\n"
   ]
  },
  {
   "cell_type": "code",
   "execution_count": null,
   "metadata": {},
   "outputs": [],
   "source": [
    "inputs = tf.keras.layers.Input(shape=[224, 224, 3])\n",
    "output = image_embedding_layer(0.1, 256, \"tanh\")(inputs)\n",
    "model = tensorflow.keras.models.Model(inputs=inputs, outputs=output)\n",
    "model.summary()"
   ]
  },
  {
   "cell_type": "code",
   "execution_count": 4,
   "metadata": {},
   "outputs": [],
   "source": [
    "model = tf.keras.models.Sequential([\n",
    "    tf.keras.layers.InputLayer(input_shape=[224, 224, 3]),\n",
    "    effnetv2_model.get_model('efficientnetv2-b0', include_top=False),\n",
    "    tf.keras.layers.Dropout(rate=0.2),\n",
    "    tf.keras.layers.Dense(4, activation='softmax'),\n",
    "])"
   ]
  },
  {
   "cell_type": "code",
   "execution_count": null,
   "metadata": {},
   "outputs": [],
   "source": [
    "im_layer = tf.keras.Sequential([\n",
    "    tf.keras.layers.InputLayer(input_shape=[224, 224, 3]),\n",
    "    effnetv2_model.get_model('efficientnetv2-b0', include_top=False),\n",
    "    tf.keras.layers.Dropout(rate=0.2),\n",
    "    tf.keras.layers.Dense(4, activation='softmax'),\n",
    "])"
   ]
  },
  {
   "cell_type": "code",
   "execution_count": null,
   "metadata": {},
   "outputs": [],
   "source": [
    "inputs = tf.keras.Input(shape=(16, 224, 224, 3))\n",
    "outputs = tf.keras.layers.TimeDistributed(model)(inputs)\n",
    "outputs.shape"
   ]
  },
  {
   "cell_type": "code",
   "execution_count": 10,
   "metadata": {},
   "outputs": [
    {
     "name": "stdout",
     "output_type": "stream",
     "text": [
      "--2022-07-09 07:51:48--  https://storage.googleapis.com/cloud-tpu-checkpoints/efficientnet/v2/efficientnetv2-b0.tgz\n",
      "Resolving storage.googleapis.com... 142.250.138.128, 142.251.45.48, 142.251.35.208, ...\n",
      "Connecting to storage.googleapis.com|142.250.138.128|:443... connected.\n",
      "HTTP request sent, awaiting response... 200 OK\n",
      "Length: 105641132 (101M) [application/octet-stream]\n",
      "Saving to: ‘efficientnetv2-b0.tgz’\n",
      "\n",
      "efficientnetv2-b0.t 100%[===================>] 100.75M  43.7MB/s    in 2.3s    \n",
      "\n",
      "2022-07-09 07:51:50 (43.7 MB/s) - ‘efficientnetv2-b0.tgz’ saved [105641132/105641132]\n",
      "\n"
     ]
    }
   ],
   "source": [
    "MODEL = 'efficientnetv2-b0'  #@param\n",
    "\n",
    "def download(m):\n",
    "    if m not in os.listdir():\n",
    "        !wget https://storage.googleapis.com/cloud-tpu-checkpoints/efficientnet/v2/{m}.tgz\n",
    "        !tar zxf {m}.tgz\n",
    "    ckpt_path = os.path.join(os.getcwd(), m)\n",
    "    return ckpt_path\n",
    "\n",
    "# Download checkpoint.\n",
    "ckpt_path = download(MODEL)\n",
    "if tf.io.gfile.isdir(ckpt_path):\n",
    "    ckpt_path = tf.train.latest_checkpoint(ckpt_path)"
   ]
  },
  {
   "cell_type": "code",
   "execution_count": 25,
   "metadata": {},
   "outputs": [
    {
     "name": "stdout",
     "output_type": "stream",
     "text": [
      "Model: \"test\"\n",
      "_________________________________________________________________\n",
      "Layer (type)                 Output Shape              Param #   \n",
      "=================================================================\n",
      "input_13 (InputLayer)        [(None, 8, 224, 224, 3)]  0         \n",
      "_________________________________________________________________\n",
      "time_distributed_2 (TimeDist (None, 8, 2048)           58370944  \n",
      "=================================================================\n",
      "Total params: 58,370,944\n",
      "Trainable params: 58,219,520\n",
      "Non-trainable params: 151,424\n",
      "_________________________________________________________________\n"
     ]
    }
   ],
   "source": [
    "resnet152 = tf.keras.applications.resnet.ResNet152(\n",
    "    include_top=False,\n",
    "    weights='imagenet',\n",
    "    pooling='avg',\n",
    ")\n",
    "in1 = tf.keras.layers.Input(shape=(8, 224, 224, 3))\n",
    "out = tf.keras.layers.TimeDistributed(resnet152)(in1)\n",
    "test_model = tf.keras.models.Model(inputs=in1, outputs=out, name=\"test\")\n",
    "test_model.summary()"
   ]
  },
  {
   "cell_type": "code",
   "execution_count": null,
   "metadata": {},
   "outputs": [],
   "source": []
  }
 ],
 "metadata": {
  "kernelspec": {
   "display_name": "Python 3",
   "language": "python",
   "name": "python3"
  },
  "language_info": {
   "codemirror_mode": {
    "name": "ipython",
    "version": 3
   },
   "file_extension": ".py",
   "mimetype": "text/x-python",
   "name": "python",
   "nbconvert_exporter": "python",
   "pygments_lexer": "ipython3",
   "version": "3.7.7"
  }
 },
 "nbformat": 4,
 "nbformat_minor": 4
}
