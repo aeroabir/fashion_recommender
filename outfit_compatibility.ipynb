{
 "cells": [
  {
   "cell_type": "markdown",
   "metadata": {},
   "source": [
    "# Outfit Compatibility Prediction"
   ]
  },
  {
   "cell_type": "code",
   "execution_count": 1,
   "metadata": {},
   "outputs": [],
   "source": [
    "%load_ext autoreload\n",
    "%autoreload 2"
   ]
  },
  {
   "cell_type": "code",
   "execution_count": 2,
   "metadata": {},
   "outputs": [
    {
     "name": "stdout",
     "output_type": "stream",
     "text": [
      "Populating the interactive namespace from numpy and matplotlib\n"
     ]
    }
   ],
   "source": [
    "import os\n",
    "import json\n",
    "from collections import Counter\n",
    "from PIL import Image\n",
    "import pandas as pd\n",
    "import tensorflow as tf\n",
    "from tensorflow import keras\n",
    "from tensorflow.keras.callbacks import EarlyStopping\n",
    "\n",
    "from tqdm import tqdm\n",
    "import pickle\n",
    "\n",
    "import sys\n",
    "sys.path.insert(0, \"/recsys_data/RecSys/fashion/automl/efficientnetv2\")\n",
    "import effnetv2_model\n",
    "\n",
    "%pylab inline\n",
    "import matplotlib.pyplot as plt"
   ]
  },
  {
   "cell_type": "code",
   "execution_count": 3,
   "metadata": {},
   "outputs": [],
   "source": [
    "# import wandb\n",
    "# from wandb.keras import WandbCallback\n",
    "\n",
    "# wandb.init(project=\"compatibility\")"
   ]
  },
  {
   "cell_type": "code",
   "execution_count": 3,
   "metadata": {},
   "outputs": [],
   "source": [
    "base_dir = \"/recsys_data/RecSys/fashion/polyvore-dataset/polyvore_outfits\"\n",
    "data_type = \"disjoint\" # \"nondisjoint\"\n",
    "train_dir = os.path.join(base_dir, data_type)\n",
    "image_dir = os.path.join(base_dir, \"images\")\n",
    "train_json = \"train.json\"\n",
    "valid_json = \"valid.json\"\n",
    "test_json = \"test.json\"\n",
    "\n",
    "train_file = \"compatibility_train.txt\"\n",
    "valid_file = \"compatibility_valid.txt\"\n",
    "test_file = \"compatibility_test.txt\"\n",
    "item_file = \"polyvore_item_metadata.json\"\n",
    "outfit_file = \"polyvore_outfit_titles.json\"\n",
    "\n",
    "model_type = \"rnn\" #\"set-transformer\"\n",
    "include_text = True"
   ]
  },
  {
   "cell_type": "code",
   "execution_count": 4,
   "metadata": {},
   "outputs": [],
   "source": [
    "with open(os.path.join(train_dir, train_json), 'r') as fr:\n",
    "    train_pos = json.load(fr)\n",
    "    \n",
    "with open(os.path.join(train_dir, valid_json), 'r') as fr:\n",
    "    valid_pos = json.load(fr)\n",
    "    \n",
    "with open(os.path.join(train_dir, test_json), 'r') as fr:\n",
    "    test_pos = json.load(fr)\n",
    "    \n",
    "with open(os.path.join(base_dir, item_file), 'r') as fr:\n",
    "    pv_items = json.load(fr)\n",
    "    \n",
    "with open(os.path.join(base_dir, outfit_file), 'r') as fr:\n",
    "    pv_outfits = json.load(fr)\n"
   ]
  },
  {
   "cell_type": "code",
   "execution_count": 5,
   "metadata": {},
   "outputs": [],
   "source": [
    "with open(os.path.join(train_dir, train_file), 'r') as fr:\n",
    "    train_X, train_y = [], []\n",
    "    for line in fr:\n",
    "        elems = line.strip().split()\n",
    "        train_y.append(elems[0])\n",
    "        train_X.append(elems[1:])\n",
    "\n",
    "with open(os.path.join(train_dir, valid_file), 'r') as fr:\n",
    "    valid_X, valid_y = [], []\n",
    "    for line in fr:\n",
    "        elems = line.strip().split()\n",
    "        valid_y.append(elems[0])\n",
    "        valid_X.append(elems[1:])\n",
    "\n",
    "with open(os.path.join(train_dir, test_file), 'r') as fr:\n",
    "    test_X, test_y = [], []\n",
    "    for line in fr:\n",
    "        elems = line.strip().split()\n",
    "        test_y.append(elems[0])\n",
    "        test_X.append(elems[1:])\n"
   ]
  },
  {
   "cell_type": "code",
   "execution_count": 6,
   "metadata": {},
   "outputs": [
    {
     "name": "stdout",
     "output_type": "stream",
     "text": [
      "85935\n",
      "101223\n",
      "175485\n"
     ]
    }
   ],
   "source": [
    "item_dict = {}\n",
    "for ii, outfit in enumerate(train_pos):\n",
    "    items = outfit['items']\n",
    "    mapped = train_X[ii]\n",
    "    item_dict.update({jj:kk['item_id'] for jj, kk in zip(mapped, items)})\n",
    "print(len(item_dict))\n",
    "\n",
    "for ii, outfit in enumerate(valid_pos):\n",
    "    items = outfit['items']\n",
    "    mapped = valid_X[ii]\n",
    "    item_dict.update({jj:kk['item_id'] for jj, kk in zip(mapped, items)})\n",
    "print(len(item_dict))\n",
    "\n",
    "for ii, outfit in enumerate(test_pos):\n",
    "    items = outfit['items']\n",
    "    mapped = test_X[ii]\n",
    "    item_dict.update({jj:kk['item_id'] for jj, kk in zip(mapped, items)})\n",
    "print(len(item_dict))"
   ]
  },
  {
   "cell_type": "code",
   "execution_count": 7,
   "metadata": {},
   "outputs": [],
   "source": [
    "from build_model import build_multilevel_transformer\n",
    "from build_model import build_set_transformer\n",
    "from rnn import build_multilevel_rnn_unequal"
   ]
  },
  {
   "cell_type": "code",
   "execution_count": 57,
   "metadata": {},
   "outputs": [],
   "source": [
    "model_type = \"set-transformer\" # \"set-transformer\"\n",
    "include_text = True\n",
    "use_graphsage = False\n",
    "batch_size = 32\n",
    "max_seq_len = 8\n",
    "if use_graphsage:\n",
    "    image_embedding_dim = 50\n",
    "    image_embedding_file = \"graphsage_dict2_polyvore.pkl\"\n",
    "else:\n",
    "    image_embedding_dim = 1280\n",
    "    image_embedding_file = \"effnet_tuned_polyvore.pkl\""
   ]
  },
  {
   "cell_type": "code",
   "execution_count": 58,
   "metadata": {},
   "outputs": [
    {
     "name": "stdout",
     "output_type": "stream",
     "text": [
      "WARNING:tensorflow:Layer lstm_4 will not use cuDNN kernel since it doesn't meet the cuDNN kernel criteria. It will use generic GPU kernel as fallback when running on GPU\n",
      "Model: \"set_transformer\"\n",
      "__________________________________________________________________________________________________\n",
      "Layer (type)                    Output Shape         Param #     Connected to                     \n",
      "==================================================================================================\n",
      "input_5 (InputLayer)            [(None, 8, 1280)]    0                                            \n",
      "__________________________________________________________________________________________________\n",
      "input_6 (InputLayer)            [(None, 8, 768)]     0                                            \n",
      "__________________________________________________________________________________________________\n",
      "dense_4 (Dense)                 (None, 8, 64)        81984       input_5[0][0]                    \n",
      "__________________________________________________________________________________________________\n",
      "dense_27 (Dense)                (None, 8, 64)        49216       input_6[0][0]                    \n",
      "__________________________________________________________________________________________________\n",
      "st_encoder (STEncoder)          (None, 8, 64)        92288       dense_4[0][0]                    \n",
      "__________________________________________________________________________________________________\n",
      "st_encoder_1 (STEncoder)        (None, 8, 64)        92288       dense_27[0][0]                   \n",
      "__________________________________________________________________________________________________\n",
      "concatenate_2 (Concatenate)     (None, 8, 128)       0           st_encoder[0][0]                 \n",
      "                                                                 st_encoder_1[0][0]               \n",
      "__________________________________________________________________________________________________\n",
      "lstm_4 (LSTM)                   (None, 32)           20608       concatenate_2[0][0]              \n",
      "__________________________________________________________________________________________________\n",
      "dense_50 (Dense)                (None, 1)            33          lstm_4[0][0]                     \n",
      "==================================================================================================\n",
      "Total params: 336,417\n",
      "Trainable params: 336,417\n",
      "Non-trainable params: 0\n",
      "__________________________________________________________________________________________________\n"
     ]
    }
   ],
   "source": [
    "if model_type == \"rnn\":\n",
    "    model = build_multilevel_rnn_unequal(max_seq_len, \n",
    "                                         image_embedding_dim,\n",
    "                                         num_classes=2,\n",
    "                                         num_layers=1,\n",
    "                                         d_model=512,\n",
    "                                         rnn=\"bilstm\",\n",
    "                                         final_activation=\"sigmoid\",\n",
    "                                         include_text=include_text\n",
    "                                        )\n",
    "elif model_type == \"transformer\":\n",
    "    model = build_multilevel_transformer(max_seq_len, \n",
    "                                         image_embedding_dim,\n",
    "                                         num_layers=1,\n",
    "                                         d_model=64,\n",
    "                                         num_heads=1,\n",
    "                                         dff=32,\n",
    "                                         rate=0.0,\n",
    "                                         include_text=include_text,\n",
    "                                         inp_dim2=768,\n",
    "                                         num_classes=2,\n",
    "                                         lstm_dim=32,\n",
    "                                         embedding_activation=\"linear\",\n",
    "                                         lstm_activation=\"linear\",\n",
    "                                         final_activation=\"sigmoid\"\n",
    "                                        )\n",
    "elif model_type == \"set-transformer\":\n",
    "    model = build_set_transformer(max_seq_len, \n",
    "                                  image_embedding_dim, \n",
    "                                  num_layers=3,\n",
    "                                  d_model=64,\n",
    "                                  num_heads=1,\n",
    "                                  dff=32,\n",
    "                                  num_classes=2,\n",
    "                                  lstm_dim=32,\n",
    "                                  include_text=include_text,\n",
    "                                  inp_dim2=768,\n",
    "                                  embedding_activation=\"relu\",\n",
    "                                  lstm_activation=\"relu\",\n",
    "                                  final_activation=\"sigmoid\"\n",
    "                                 )\n",
    "    \n",
    "model.summary()"
   ]
  },
  {
   "cell_type": "code",
   "execution_count": 39,
   "metadata": {},
   "outputs": [],
   "source": [
    "from data_process import CustomDataGen\n",
    "train_gen = CustomDataGen(train_X, train_y, \n",
    "                          item_dict, \n",
    "                          pv_items, \n",
    "                          image_dir, \n",
    "                          batch_size=batch_size,\n",
    "                          max_len=max_seq_len,\n",
    "                          only_image=not include_text,\n",
    "                          image_embedding=True,\n",
    "                          image_embedding_dim=image_embedding_dim,\n",
    "                          image_embedding_file=image_embedding_file,\n",
    "                          text_embedding_file=\"bert_polyvore.pkl\",\n",
    "                         )\n",
    "valid_gen = CustomDataGen(valid_X, valid_y, \n",
    "                          item_dict, \n",
    "                          pv_items, \n",
    "                          image_dir, \n",
    "                          batch_size=batch_size,\n",
    "                          max_len=max_seq_len,\n",
    "                          only_image=not include_text,\n",
    "                          image_embedding=True,\n",
    "                          image_embedding_dim=image_embedding_dim,\n",
    "                          image_embedding_file=image_embedding_file,\n",
    "                          text_embedding_file=\"bert_polyvore.pkl\",\n",
    "                         )"
   ]
  },
  {
   "cell_type": "code",
   "execution_count": 52,
   "metadata": {},
   "outputs": [
    {
     "name": "stdout",
     "output_type": "stream",
     "text": [
      "(32, 8, 1280) (32, 8, 768) (32,)\n",
      "(32, 8, 1280) (32, 8, 768) (32,)\n",
      "(32, 8, 1280) (32, 8, 768) (32,)\n",
      "(32, 8, 1280) (32, 8, 768) (32,)\n",
      "(32, 8, 1280) (32, 8, 768) (32,)\n",
      "(32, 8, 1280) (32, 8, 768) (32,)\n",
      "(32, 8, 1280) (32, 8, 768) (32,)\n",
      "(32, 8, 1280) (32, 8, 768) (32,)\n",
      "(32, 8, 1280) (32, 8, 768) (32,)\n",
      "(32, 8, 1280) (32, 8, 768) (32,)\n"
     ]
    }
   ],
   "source": [
    "for ii in range(10):\n",
    "    x, y = train_gen[ii]\n",
    "    print(x[0].shape, x[1].shape, y.shape)"
   ]
  },
  {
   "cell_type": "code",
   "execution_count": 59,
   "metadata": {},
   "outputs": [
    {
     "name": "stdout",
     "output_type": "stream",
     "text": [
      "Epoch 1/100\n",
      "1063/1063 [==============================] - 42s 39ms/step - loss: 0.6984 - accuracy: 0.4991 - auc_10: 0.4971 - val_loss: 0.6934 - val_accuracy: 0.4977 - val_auc_10: 0.5051\n",
      "Epoch 2/100\n",
      "1063/1063 [==============================] - 39s 37ms/step - loss: 0.6934 - accuracy: 0.5046 - auc_10: 0.5056 - val_loss: 0.6928 - val_accuracy: 0.4997 - val_auc_10: 0.5134\n",
      "Epoch 3/100\n",
      "1063/1063 [==============================] - 40s 37ms/step - loss: 0.6923 - accuracy: 0.5118 - auc_10: 0.5211 - val_loss: 0.6918 - val_accuracy: 0.5067 - val_auc_10: 0.5230\n",
      "Epoch 4/100\n",
      "1063/1063 [==============================] - 40s 37ms/step - loss: 0.6901 - accuracy: 0.5258 - auc_10: 0.5413 - val_loss: 0.6889 - val_accuracy: 0.5305 - val_auc_10: 0.5444\n",
      "Epoch 5/100\n",
      "1063/1063 [==============================] - 40s 37ms/step - loss: 0.6848 - accuracy: 0.5456 - auc_10: 0.5633 - val_loss: 0.6835 - val_accuracy: 0.5422 - val_auc_10: 0.5648\n",
      "Epoch 6/100\n",
      "1063/1063 [==============================] - 40s 37ms/step - loss: 0.6777 - accuracy: 0.5632 - auc_10: 0.5879 - val_loss: 0.6815 - val_accuracy: 0.5585 - val_auc_10: 0.5778\n",
      "Epoch 7/100\n",
      "1063/1063 [==============================] - 40s 37ms/step - loss: 0.6708 - accuracy: 0.5762 - auc_10: 0.6094 - val_loss: 0.6758 - val_accuracy: 0.5660 - val_auc_10: 0.5955\n",
      "Epoch 8/100\n",
      "1063/1063 [==============================] - 39s 37ms/step - loss: 0.6634 - accuracy: 0.5904 - auc_10: 0.6287 - val_loss: 0.6715 - val_accuracy: 0.5822 - val_auc_10: 0.6094\n",
      "Epoch 9/100\n",
      "1063/1063 [==============================] - 40s 37ms/step - loss: 0.6556 - accuracy: 0.6027 - auc_10: 0.6468 - val_loss: 0.6672 - val_accuracy: 0.5803 - val_auc_10: 0.6195\n",
      "Epoch 10/100\n",
      "1063/1063 [==============================] - 39s 37ms/step - loss: 0.6480 - accuracy: 0.6128 - auc_10: 0.6625 - val_loss: 0.6627 - val_accuracy: 0.5927 - val_auc_10: 0.6343\n",
      "Epoch 11/100\n",
      "1063/1063 [==============================] - 40s 37ms/step - loss: 0.6392 - accuracy: 0.6267 - auc_10: 0.6788 - val_loss: 0.6614 - val_accuracy: 0.5988 - val_auc_10: 0.6394\n",
      "Epoch 12/100\n",
      "1063/1063 [==============================] - 39s 37ms/step - loss: 0.6309 - accuracy: 0.6366 - auc_10: 0.6921 - val_loss: 0.6556 - val_accuracy: 0.6123 - val_auc_10: 0.6547\n",
      "Epoch 13/100\n",
      "1063/1063 [==============================] - 39s 37ms/step - loss: 0.6231 - accuracy: 0.6479 - auc_10: 0.7048 - val_loss: 0.6528 - val_accuracy: 0.6120 - val_auc_10: 0.6598\n",
      "Epoch 14/100\n",
      "1063/1063 [==============================] - 39s 37ms/step - loss: 0.6143 - accuracy: 0.6570 - auc_10: 0.7169 - val_loss: 0.6512 - val_accuracy: 0.6210 - val_auc_10: 0.6665\n",
      "Epoch 15/100\n",
      "1063/1063 [==============================] - 39s 37ms/step - loss: 0.6073 - accuracy: 0.6603 - auc_10: 0.7262 - val_loss: 0.6500 - val_accuracy: 0.6215 - val_auc_10: 0.6703\n",
      "Epoch 16/100\n",
      "1063/1063 [==============================] - 39s 36ms/step - loss: 0.6009 - accuracy: 0.6693 - auc_10: 0.7350 - val_loss: 0.6445 - val_accuracy: 0.6280 - val_auc_10: 0.6765\n",
      "Epoch 17/100\n",
      "1063/1063 [==============================] - 39s 37ms/step - loss: 0.5936 - accuracy: 0.6771 - auc_10: 0.7436 - val_loss: 0.6437 - val_accuracy: 0.6297 - val_auc_10: 0.6801\n",
      "Epoch 18/100\n",
      "1063/1063 [==============================] - 39s 37ms/step - loss: 0.5864 - accuracy: 0.6840 - auc_10: 0.7526 - val_loss: 0.6512 - val_accuracy: 0.6268 - val_auc_10: 0.6747\n",
      "Epoch 19/100\n",
      "1063/1063 [==============================] - 39s 37ms/step - loss: 0.5793 - accuracy: 0.6894 - auc_10: 0.7605 - val_loss: 0.6476 - val_accuracy: 0.6310 - val_auc_10: 0.6844\n",
      "Epoch 20/100\n",
      "1063/1063 [==============================] - 40s 37ms/step - loss: 0.5722 - accuracy: 0.6968 - auc_10: 0.7688 - val_loss: 0.6431 - val_accuracy: 0.6390 - val_auc_10: 0.6901\n",
      "Epoch 21/100\n",
      "1063/1063 [==============================] - 39s 37ms/step - loss: 0.5654 - accuracy: 0.7012 - auc_10: 0.7757 - val_loss: 0.6470 - val_accuracy: 0.6408 - val_auc_10: 0.6894\n",
      "Epoch 22/100\n",
      "1063/1063 [==============================] - 39s 37ms/step - loss: 0.5590 - accuracy: 0.7066 - auc_10: 0.7823 - val_loss: 0.6458 - val_accuracy: 0.6395 - val_auc_10: 0.6933\n",
      "Epoch 23/100\n",
      "1063/1063 [==============================] - 39s 37ms/step - loss: 0.5504 - accuracy: 0.7151 - auc_10: 0.7909 - val_loss: 0.6428 - val_accuracy: 0.6448 - val_auc_10: 0.6961\n",
      "Epoch 24/100\n",
      "1063/1063 [==============================] - 39s 37ms/step - loss: 0.5441 - accuracy: 0.7189 - auc_10: 0.7966 - val_loss: 0.6513 - val_accuracy: 0.6392 - val_auc_10: 0.6971\n",
      "Epoch 25/100\n",
      "1063/1063 [==============================] - 39s 37ms/step - loss: 0.5380 - accuracy: 0.7218 - auc_10: 0.8025 - val_loss: 0.6646 - val_accuracy: 0.6345 - val_auc_10: 0.6937\n",
      "Epoch 26/100\n",
      "1063/1063 [==============================] - 39s 37ms/step - loss: 0.5330 - accuracy: 0.7279 - auc_10: 0.8073 - val_loss: 0.6492 - val_accuracy: 0.6442 - val_auc_10: 0.7012\n",
      "Epoch 27/100\n",
      "1063/1063 [==============================] - 39s 36ms/step - loss: 0.5253 - accuracy: 0.7324 - auc_10: 0.8139 - val_loss: 0.6486 - val_accuracy: 0.6438 - val_auc_10: 0.7009\n",
      "Epoch 28/100\n",
      "1063/1063 [==============================] - 39s 37ms/step - loss: 0.5197 - accuracy: 0.7375 - auc_10: 0.8183 - val_loss: 0.6528 - val_accuracy: 0.6463 - val_auc_10: 0.7034\n",
      "Epoch 29/100\n",
      "1063/1063 [==============================] - 39s 37ms/step - loss: 0.5123 - accuracy: 0.7437 - auc_10: 0.8248 - val_loss: 0.6550 - val_accuracy: 0.6483 - val_auc_10: 0.7030\n",
      "Epoch 30/100\n",
      "1063/1063 [==============================] - 39s 37ms/step - loss: 0.5073 - accuracy: 0.7473 - auc_10: 0.8288 - val_loss: 0.6581 - val_accuracy: 0.6432 - val_auc_10: 0.7036\n",
      "Epoch 31/100\n",
      "1063/1063 [==============================] - 39s 36ms/step - loss: 0.5007 - accuracy: 0.7524 - auc_10: 0.8343 - val_loss: 0.6660 - val_accuracy: 0.6452 - val_auc_10: 0.7040\n",
      "Epoch 32/100\n",
      "1063/1063 [==============================] - 39s 37ms/step - loss: 0.4945 - accuracy: 0.7556 - auc_10: 0.8387 - val_loss: 0.6611 - val_accuracy: 0.6470 - val_auc_10: 0.7055\n",
      "Epoch 33/100\n",
      "1063/1063 [==============================] - 39s 37ms/step - loss: 0.4877 - accuracy: 0.7589 - auc_10: 0.8437 - val_loss: 0.6708 - val_accuracy: 0.6492 - val_auc_10: 0.7075\n",
      "Epoch 34/100\n",
      "1063/1063 [==============================] - 39s 37ms/step - loss: 0.4812 - accuracy: 0.7650 - auc_10: 0.8489 - val_loss: 0.6672 - val_accuracy: 0.6495 - val_auc_10: 0.7090\n",
      "Epoch 35/100\n",
      "1063/1063 [==============================] - 39s 37ms/step - loss: 0.4752 - accuracy: 0.7683 - auc_10: 0.8531 - val_loss: 0.6741 - val_accuracy: 0.6477 - val_auc_10: 0.7096\n",
      "Epoch 36/100\n",
      "1063/1063 [==============================] - 39s 37ms/step - loss: 0.4683 - accuracy: 0.7742 - auc_10: 0.8581 - val_loss: 0.6712 - val_accuracy: 0.6503 - val_auc_10: 0.7078\n",
      "Epoch 37/100\n",
      "1063/1063 [==============================] - 39s 37ms/step - loss: 0.4617 - accuracy: 0.7797 - auc_10: 0.8626 - val_loss: 0.6925 - val_accuracy: 0.6462 - val_auc_10: 0.7093\n",
      "Epoch 38/100\n",
      "1063/1063 [==============================] - 39s 37ms/step - loss: 0.4554 - accuracy: 0.7833 - auc_10: 0.8669 - val_loss: 0.6870 - val_accuracy: 0.6495 - val_auc_10: 0.7112\n",
      "Epoch 39/100\n",
      "1063/1063 [==============================] - 39s 36ms/step - loss: 0.4501 - accuracy: 0.7880 - auc_10: 0.8702 - val_loss: 0.6896 - val_accuracy: 0.6470 - val_auc_10: 0.7090\n",
      "Epoch 40/100\n",
      "1063/1063 [==============================] - 39s 37ms/step - loss: 0.4431 - accuracy: 0.7913 - auc_10: 0.8747 - val_loss: 0.6953 - val_accuracy: 0.6503 - val_auc_10: 0.7111\n",
      "Epoch 41/100\n",
      "1063/1063 [==============================] - 39s 37ms/step - loss: 0.4357 - accuracy: 0.7951 - auc_10: 0.8794 - val_loss: 0.7101 - val_accuracy: 0.6488 - val_auc_10: 0.7108\n"
     ]
    },
    {
     "data": {
      "text/plain": [
       "1623.5192222595215"
      ]
     },
     "execution_count": 59,
     "metadata": {},
     "output_type": "execute_result"
    }
   ],
   "source": [
    "learning_rate = 1.0e-05\n",
    "epochs = 100\n",
    "patience = 5\n",
    "num_train = len(train_X)\n",
    "checkpoint_filepath = base_dir + '/checkpoint'\n",
    "\n",
    "opt = keras.optimizers.Adam(learning_rate=learning_rate)\n",
    "loss = tf.keras.losses.BinaryCrossentropy(from_logits=False, name='binary_crossentropy')\n",
    "model.compile(loss=loss, optimizer=opt, metrics=[\"accuracy\", tf.keras.metrics.AUC()])  # \n",
    "callback = EarlyStopping(\n",
    "                        monitor=\"val_accuracy\",\n",
    "                        min_delta=0,\n",
    "                        patience=patience,\n",
    "                        verbose=0,\n",
    "                        mode=\"auto\",\n",
    "                        baseline=None,\n",
    "                        restore_best_weights=True,\n",
    "                    )\n",
    "\n",
    "# wandb_callback = WandbCallback(\n",
    "#                         monitor=\"val_loss\",\n",
    "#                         verbose=0,\n",
    "#                         save_model=(False), \n",
    "#                         mode=\"auto\")\n",
    "\n",
    "model_checkpoint_callback = tf.keras.callbacks.ModelCheckpoint(\n",
    "    filepath=checkpoint_filepath,\n",
    "    save_weights_only=True,\n",
    "    monitor='val_loss',\n",
    "    mode='min',\n",
    "    save_best_only=True)\n",
    "\n",
    "tic = time.time()\n",
    "# run = wandb.init(reinit=True)\n",
    "if 'history' in locals():\n",
    "    history_prev = history\n",
    "history = model.fit(train_gen, \n",
    "                    epochs=epochs, \n",
    "                    batch_size=batch_size,\n",
    "#                     steps_per_epoch=math.ceil(num_train/batch_size),\n",
    "                    validation_data=valid_gen,\n",
    "                    validation_batch_size=32,\n",
    "                    validation_freq=1,\n",
    "                    callbacks=[callback, model_checkpoint_callback],\n",
    "                    verbose=1)\n",
    "# run.finish()\n",
    "time.time() - tic"
   ]
  },
  {
   "cell_type": "code",
   "execution_count": 33,
   "metadata": {},
   "outputs": [
    {
     "data": {
      "text/plain": [
       "(1062, 33990, 1062, 1063)"
      ]
     },
     "execution_count": 33,
     "metadata": {},
     "output_type": "execute_result"
    }
   ],
   "source": [
    "len(train_gen), len(train_X), len(train_X)//32, math.ceil(num_train/batch_size)"
   ]
  },
  {
   "cell_type": "code",
   "execution_count": 60,
   "metadata": {},
   "outputs": [
    {
     "data": {
      "text/plain": [
       "<matplotlib.legend.Legend at 0x7f5de4768350>"
      ]
     },
     "execution_count": 60,
     "metadata": {},
     "output_type": "execute_result"
    },
    {
     "data": {
      "image/png": "[encoded data removed]",
      "text/plain": [
       "<Figure size 1080x432 with 2 Axes>"
      ]
     },
     "metadata": {
      "needs_background": "light"
     },
     "output_type": "display_data"
    }
   ],
   "source": [
    "f, axs = plt.subplots(1,2,figsize=(15,6))\n",
    "plt.subplot(121)\n",
    "plt.plot(history.history['loss'], label='train-loss')\n",
    "plt.plot(history.history['val_loss'], label='validation-loss')\n",
    "plt.legend()\n",
    "\n",
    "plt.subplot(122)\n",
    "plt.plot(history.history['auc_10'], label='train-AUC')\n",
    "plt.plot(history.history['val_auc_10'], label='validation-AUC')\n",
    "plt.legend()"
   ]
  },
  {
   "cell_type": "code",
   "execution_count": 54,
   "metadata": {},
   "outputs": [
    {
     "data": {
      "text/plain": [
       "<matplotlib.legend.Legend at 0x7f5e0cbd3210>"
      ]
     },
     "execution_count": 54,
     "metadata": {},
     "output_type": "execute_result"
    },
    {
     "data": {
      "image/png": "[encoded data removed]",
      "text/plain": [
       "<Figure size 1080x432 with 2 Axes>"
      ]
     },
     "metadata": {
      "needs_background": "light"
     },
     "output_type": "display_data"
    }
   ],
   "source": [
    "f, axs = plt.subplots(1,2,figsize=(15,6))\n",
    "plt.subplot(121)\n",
    "plt.plot(history.history['loss'], label='train-loss')\n",
    "plt.plot(history.history['val_loss'], label='validation-loss')\n",
    "plt.legend()\n",
    "\n",
    "plt.subplot(122)\n",
    "plt.plot(history.history['auc_9'], label='train-AUC')\n",
    "plt.plot(history.history['val_auc_9'], label='validation-AUC')\n",
    "plt.legend()"
   ]
  },
  {
   "cell_type": "code",
   "execution_count": 14,
   "metadata": {},
   "outputs": [],
   "source": [
    "test_gen = CustomDataGen(test_X, test_y, \n",
    "                          item_dict, \n",
    "                          pv_items, \n",
    "                          image_dir, \n",
    "                          batch_size=batch_size, \n",
    "                          only_image=not include_text,\n",
    "                          image_embedding=True,\n",
    "                          image_embedding_dim=image_embedding_dim,\n",
    "                          image_embedding_file=image_embedding_file,\n",
    "                          text_embedding_file=\"bert_polyvore.pkl\",)"
   ]
  },
  {
   "cell_type": "code",
   "execution_count": 33,
   "metadata": {},
   "outputs": [],
   "source": [
    "def get_accuracy_auc(data_gen):\n",
    "    m = tf.keras.metrics.BinaryAccuracy()\n",
    "    m2 = tf.keras.metrics.AUC()\n",
    "    acc_list = []\n",
    "    pbar = tqdm(range(len(data_gen)))\n",
    "    ys, yhats = [], []\n",
    "    for ii in pbar:\n",
    "        x, y = data_gen[ii]  # batch size\n",
    "        yhat = model(x)\n",
    "        m.update_state(y, yhat)\n",
    "        batch_acc = m.result().numpy()\n",
    "        acc_list.append(batch_acc)\n",
    "        pbar.set_description(\"Batch accuracy %g\" % batch_acc)\n",
    "        ys.append(y)\n",
    "        yhats.append(yhat)\n",
    "    print(f\"Average Accuracy: {np.mean(acc_list)}\")\n",
    "    big_y = np.concatenate(ys, axis=0)\n",
    "    big_yh = np.concatenate(yhats, axis=0)\n",
    "    m2.update_state(big_y, big_yh)\n",
    "    auc = m2.result().numpy()\n",
    "    print(f\"AUC: {auc}\")\n"
   ]
  },
  {
   "cell_type": "code",
   "execution_count": 35,
   "metadata": {},
   "outputs": [
    {
     "name": "stderr",
     "output_type": "stream",
     "text": [
      "Batch accuracy 0.919822: 100%|██████████| 1063/1063 [00:32<00:00, 32.94it/s]\n"
     ]
    },
    {
     "name": "stdout",
     "output_type": "stream",
     "text": [
      "Average Accuracy: 0.9177117347717285\n",
      "AUC: 0.9803071618080139\n"
     ]
    }
   ],
   "source": [
    "get_accuracy_auc(train_gen)"
   ]
  },
  {
   "cell_type": "code",
   "execution_count": 36,
   "metadata": {},
   "outputs": [
    {
     "name": "stderr",
     "output_type": "stream",
     "text": [
      "Batch accuracy 0.691323: 100%|██████████| 188/188 [00:05<00:00, 32.20it/s]\n"
     ]
    },
    {
     "name": "stdout",
     "output_type": "stream",
     "text": [
      "Average Accuracy: 0.6867008805274963\n",
      "AUC: 0.7629901766777039\n"
     ]
    }
   ],
   "source": [
    "get_accuracy_auc(valid_gen)"
   ]
  },
  {
   "cell_type": "code",
   "execution_count": 34,
   "metadata": {},
   "outputs": [
    {
     "name": "stderr",
     "output_type": "stream",
     "text": [
      "Batch accuracy 0.674806: 100%|██████████| 947/947 [00:28<00:00, 33.24it/s]\n"
     ]
    },
    {
     "name": "stdout",
     "output_type": "stream",
     "text": [
      "Average Accuracy: 0.6465033292770386\n",
      "AUC: 0.7359540462493896\n"
     ]
    }
   ],
   "source": [
    "get_accuracy_auc(test_gen)"
   ]
  },
  {
   "cell_type": "markdown",
   "metadata": {},
   "source": [
    "## Text Embeddings\n",
    "\n",
    " - pre-compute all the text embeddings"
   ]
  },
  {
   "cell_type": "code",
   "execution_count": 13,
   "metadata": {},
   "outputs": [
    {
     "name": "stderr",
     "output_type": "stream",
     "text": [
      "Some weights of the model checkpoint at bert-base-uncased were not used when initializing BertModel: ['cls.predictions.bias', 'cls.predictions.transform.dense.bias', 'cls.seq_relationship.weight', 'cls.predictions.transform.dense.weight', 'cls.predictions.decoder.weight', 'cls.seq_relationship.bias', 'cls.predictions.transform.LayerNorm.weight', 'cls.predictions.transform.LayerNorm.bias']\n",
      "- This IS expected if you are initializing BertModel from the checkpoint of a model trained on another task or with another architecture (e.g. initializing a BertForSequenceClassification model from a BertForPreTraining model).\n",
      "- This IS NOT expected if you are initializing BertModel from the checkpoint of a model that you expect to be exactly identical (initializing a BertForSequenceClassification model from a BertForSequenceClassification model).\n"
     ]
    }
   ],
   "source": [
    "from transformers import BertTokenizer, BertModel\n",
    "import torch\n",
    "\n",
    "tokenizer = BertTokenizer.from_pretrained(\"bert-base-uncased\")\n",
    "model = BertModel.from_pretrained(\"bert-base-uncased\")\n",
    "\n",
    "# inputs = tokenizer(\"Hello, my dog is cute\", return_tensors=\"pt\")\n",
    "# outputs = model(**inputs)\n",
    "\n",
    "# last_hidden_states = outputs.last_hidden_state\n",
    "# pooled_output = outputs.pooler_output.detach().numpy()\n",
    "# pooled_output[0,:].shape"
   ]
  },
  {
   "cell_type": "code",
   "execution_count": 31,
   "metadata": {},
   "outputs": [
    {
     "name": "stderr",
     "output_type": "stream",
     "text": [
      "100%|██████████| 251008/251008 [4:44:18<00:00, 14.71it/s]  \n"
     ]
    }
   ],
   "source": [
    "def get_texts(item_id, item_description):\n",
    "    item = item_description[item_id]  # item attributes\n",
    "    text = \" \".join(\n",
    "        [\n",
    "            item[\"url_name\"],\n",
    "            item[\"description\"],\n",
    "            item[\"title\"],\n",
    "            item[\"semantic_category\"],\n",
    "        ]\n",
    "    )\n",
    "#     text = \" \".join(text.split()[:512])\n",
    "    return text\n",
    "\n",
    "bert_dict = {}\n",
    "for item_id in tqdm(pv_items):\n",
    "    text = get_texts(item_id, pv_items)\n",
    "    inputs = tokenizer(text, return_tensors=\"pt\")\n",
    "    new_inputs = {'input_ids': inputs['input_ids'][:,:512], \n",
    "                  'token_type_ids': inputs['token_type_ids'][:,:512], \n",
    "                  'attention_mask': inputs['attention_mask'][:,:512]}\n",
    "    outputs = model(**new_inputs)\n",
    "#     outputs = model(input_ids=inputs['input_ids'][:,:512], \n",
    "#           attention_mask=inputs['attention_mask'][:,:512], \n",
    "#           token_type_ids=inputs['token_type_ids'][:,:512])\n",
    "    text_emb = outputs.pooler_output.detach().numpy()[0, :]\n",
    "    bert_dict[item_id] = text_emb\n",
    "    "
   ]
  },
  {
   "cell_type": "code",
   "execution_count": 32,
   "metadata": {},
   "outputs": [],
   "source": [
    "with open(\"bert_polyvore.pkl\", \"wb\") as output_file:\n",
    "    pickle.dump(bert_dict, output_file)"
   ]
  },
  {
   "cell_type": "markdown",
   "metadata": {},
   "source": [
    "## Image Embeddings"
   ]
  },
  {
   "cell_type": "code",
   "execution_count": null,
   "metadata": {},
   "outputs": [
    {
     "name": "stdout",
     "output_type": "stream",
     "text": [
      "WARNING:tensorflow:From /anaconda/envs/py37_tensorflow/lib/python3.7/site-packages/tensorflow/python/training/tracking/util.py:1283: NameBasedSaverStatus.__init__ (from tensorflow.python.training.tracking.util) is deprecated and will be removed in a future version.\n",
      "Instructions for updating:\n",
      "Restoring a name-based tf.train.Saver checkpoint using the object-based restore API. This mode uses global names to match variables, and so is somewhat fragile. It also adds new restore ops to the graph each time it is called when graph building. Prefer re-encoding training checkpoints in the object-based format: run save() on the object-based saver (the same one this message is coming from) and use that checkpoint in the future.\n"
     ]
    },
    {
     "name": "stderr",
     "output_type": "stream",
     "text": [
      "WARNING:tensorflow:From /anaconda/envs/py37_tensorflow/lib/python3.7/site-packages/tensorflow/python/training/tracking/util.py:1283: NameBasedSaverStatus.__init__ (from tensorflow.python.training.tracking.util) is deprecated and will be removed in a future version.\n",
      "Instructions for updating:\n",
      "Restoring a name-based tf.train.Saver checkpoint using the object-based restore API. This mode uses global names to match variables, and so is somewhat fragile. It also adds new restore ops to the graph each time it is called when graph building. Prefer re-encoding training checkpoints in the object-based format: run save() on the object-based saver (the same one this message is coming from) and use that checkpoint in the future.\n",
      " 70%|███████   | 183608/261057 [5:51:32<2:25:03,  8.90it/s]"
     ]
    }
   ],
   "source": [
    "import glob\n",
    "efficient_net_dict = {}\n",
    "\n",
    "eff2_model = tf.keras.models.Sequential(\n",
    "                [\n",
    "                    tf.keras.layers.InputLayer(input_shape=[224, 224, 3]),\n",
    "                    effnetv2_model.get_model(\"efficientnetv2-b0\", include_top=False),\n",
    "                ]\n",
    "            )\n",
    "\n",
    "for image_path in tqdm(glob.glob(image_dir+\"/*.jpg\")):\n",
    "    item_id = image_path.split('/')[-1].split('.')[0]\n",
    "    image = tf.keras.preprocessing.image.load_img(image_path)\n",
    "    image_arr = tf.keras.preprocessing.image.img_to_array(image)\n",
    "    image_arr = tf.image.resize(image_arr, (224, 224)).numpy()\n",
    "    image_arr /= 255.0\n",
    "    image_embed = tf.squeeze(eff2_model(tf.expand_dims(image_arr, 0)))\n",
    "    efficient_net_dict[item_id] = image_embed"
   ]
  },
  {
   "cell_type": "code",
   "execution_count": 8,
   "metadata": {},
   "outputs": [],
   "source": [
    "with open(\"effnet2_polyvore.pkl\", \"wb\") as output_file:\n",
    "    pickle.dump(efficient_net_dict, output_file)"
   ]
  },
  {
   "cell_type": "code",
   "execution_count": 2,
   "metadata": {},
   "outputs": [],
   "source": [
    "class image_embedding_layer(tf.keras.layers.Layer):\n",
    "    def __init__(self, dropout, embedding_dim, activation):\n",
    "        super(image_embedding_layer, self).__init__()\n",
    "        self.dropout = dropout\n",
    "        self.embedding_dim = embedding_dim\n",
    "        self.activation = activation\n",
    "\n",
    "    def build(self, input_shape):\n",
    "        self.layer = tf.keras.Sequential(\n",
    "            [\n",
    "                effnetv2_model.get_model(\"efficientnetv2-b0\", include_top=False),\n",
    "                tf.keras.layers.Dropout(rate=self.dropout),\n",
    "                tf.keras.layers.Dense(self.embedding_dim, activation=self.activation),\n",
    "            ]\n",
    "        )\n",
    "\n",
    "    def call(self, input_tensor):\n",
    "        return self.layer(input_tensor)\n"
   ]
  },
  {
   "cell_type": "code",
   "execution_count": null,
   "metadata": {},
   "outputs": [],
   "source": [
    "inputs = tf.keras.layers.Input(shape=[224, 224, 3])\n",
    "output = image_embedding_layer(0.1, 256, \"tanh\")(inputs)\n",
    "model = tensorflow.keras.models.Model(inputs=inputs, outputs=output)\n",
    "model.summary()"
   ]
  },
  {
   "cell_type": "code",
   "execution_count": 4,
   "metadata": {},
   "outputs": [],
   "source": [
    "model = tf.keras.models.Sequential([\n",
    "    tf.keras.layers.InputLayer(input_shape=[224, 224, 3]),\n",
    "    effnetv2_model.get_model('efficientnetv2-b0', include_top=False),\n",
    "    tf.keras.layers.Dropout(rate=0.2),\n",
    "    tf.keras.layers.Dense(4, activation='softmax'),\n",
    "])"
   ]
  },
  {
   "cell_type": "code",
   "execution_count": null,
   "metadata": {},
   "outputs": [],
   "source": [
    "im_layer = tf.keras.Sequential([\n",
    "    tf.keras.layers.InputLayer(input_shape=[224, 224, 3]),\n",
    "    effnetv2_model.get_model('efficientnetv2-b0', include_top=False),\n",
    "    tf.keras.layers.Dropout(rate=0.2),\n",
    "    tf.keras.layers.Dense(4, activation='softmax'),\n",
    "])"
   ]
  },
  {
   "cell_type": "code",
   "execution_count": null,
   "metadata": {},
   "outputs": [],
   "source": [
    "inputs = tf.keras.Input(shape=(16, 224, 224, 3))\n",
    "outputs = tf.keras.layers.TimeDistributed(model)(inputs)\n",
    "outputs.shape"
   ]
  },
  {
   "cell_type": "code",
   "execution_count": 10,
   "metadata": {},
   "outputs": [
    {
     "name": "stdout",
     "output_type": "stream",
     "text": [
      "--2022-07-09 07:51:48--  https://storage.googleapis.com/cloud-tpu-checkpoints/efficientnet/v2/efficientnetv2-b0.tgz\n",
      "Resolving storage.googleapis.com... 142.250.138.128, 142.251.45.48, 142.251.35.208, ...\n",
      "Connecting to storage.googleapis.com|142.250.138.128|:443... connected.\n",
      "HTTP request sent, awaiting response... 200 OK\n",
      "Length: 105641132 (101M) [application/octet-stream]\n",
      "Saving to: ‘efficientnetv2-b0.tgz’\n",
      "\n",
      "efficientnetv2-b0.t 100%[===================>] 100.75M  43.7MB/s    in 2.3s    \n",
      "\n",
      "2022-07-09 07:51:50 (43.7 MB/s) - ‘efficientnetv2-b0.tgz’ saved [105641132/105641132]\n",
      "\n"
     ]
    }
   ],
   "source": [
    "MODEL = 'efficientnetv2-b0'  #@param\n",
    "\n",
    "def download(m):\n",
    "    if m not in os.listdir():\n",
    "        !wget https://storage.googleapis.com/cloud-tpu-checkpoints/efficientnet/v2/{m}.tgz\n",
    "        !tar zxf {m}.tgz\n",
    "    ckpt_path = os.path.join(os.getcwd(), m)\n",
    "    return ckpt_path\n",
    "\n",
    "# Download checkpoint.\n",
    "ckpt_path = download(MODEL)\n",
    "if tf.io.gfile.isdir(ckpt_path):\n",
    "    ckpt_path = tf.train.latest_checkpoint(ckpt_path)"
   ]
  },
  {
   "cell_type": "code",
   "execution_count": null,
   "metadata": {},
   "outputs": [],
   "source": []
  }
 ],
 "metadata": {
  "kernelspec": {
   "display_name": "Python 3",
   "language": "python",
   "name": "python3"
  },
  "language_info": {
   "codemirror_mode": {
    "name": "ipython",
    "version": 3
   },
   "file_extension": ".py",
   "mimetype": "text/x-python",
   "name": "python",
   "nbconvert_exporter": "python",
   "pygments_lexer": "ipython3",
   "version": "3.7.7"
  }
 },
 "nbformat": 4,
 "nbformat_minor": 4
}
