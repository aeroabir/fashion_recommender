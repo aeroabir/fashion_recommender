{
 "cells": [
  {
   "cell_type": "markdown",
   "metadata": {},
   "source": [
    "# Outfit Compatibility Prediction"
   ]
  },
  {
   "cell_type": "code",
   "execution_count": 1,
   "metadata": {},
   "outputs": [],
   "source": [
    "%load_ext autoreload\n",
    "%autoreload 2"
   ]
  },
  {
   "cell_type": "code",
   "execution_count": 2,
   "metadata": {},
   "outputs": [
    {
     "name": "stdout",
     "output_type": "stream",
     "text": [
      "Populating the interactive namespace from numpy and matplotlib\n"
     ]
    }
   ],
   "source": [
    "import os\n",
    "import json\n",
    "from collections import Counter\n",
    "from PIL import Image\n",
    "import pandas as pd\n",
    "import tensorflow as tf\n",
    "from tensorflow import keras\n",
    "from tensorflow.keras.callbacks import EarlyStopping\n",
    "\n",
    "from tqdm import tqdm\n",
    "import pickle\n",
    "\n",
    "import sys\n",
    "sys.path.insert(0, \"/recsys_data/RecSys/fashion/automl/efficientnetv2\")\n",
    "import effnetv2_model\n",
    "\n",
    "%pylab inline\n",
    "import matplotlib.pyplot as plt"
   ]
  },
  {
   "cell_type": "code",
   "execution_count": 3,
   "metadata": {},
   "outputs": [],
   "source": [
    "# import wandb\n",
    "# from wandb.keras import WandbCallback\n",
    "\n",
    "# wandb.init(project=\"compatibility\")"
   ]
  },
  {
   "cell_type": "code",
   "execution_count": 4,
   "metadata": {},
   "outputs": [],
   "source": [
    "base_dir = \"/recsys_data/RecSys/fashion/polyvore-dataset/polyvore_outfits\"\n",
    "train_dir = os.path.join(base_dir, \"disjoint\")\n",
    "image_dir = os.path.join(base_dir, \"images\")\n",
    "train_json = \"train.json\"\n",
    "valid_json = \"valid.json\"\n",
    "test_json = \"test.json\"\n",
    "\n",
    "train_file = \"compatibility_train.txt\"\n",
    "valid_file = \"compatibility_valid.txt\"\n",
    "test_file = \"compatibility_test.txt\"\n",
    "item_file = \"polyvore_item_metadata.json\"\n",
    "outfit_file = \"polyvore_outfit_titles.json\"\n",
    "\n",
    "model_type = \"rnn\" #\"set-transformer\"\n",
    "include_text = True"
   ]
  },
  {
   "cell_type": "code",
   "execution_count": 5,
   "metadata": {},
   "outputs": [],
   "source": [
    "with open(os.path.join(train_dir, train_json), 'r') as fr:\n",
    "    train_pos = json.load(fr)\n",
    "    \n",
    "with open(os.path.join(train_dir, valid_json), 'r') as fr:\n",
    "    valid_pos = json.load(fr)\n",
    "    \n",
    "with open(os.path.join(train_dir, test_json), 'r') as fr:\n",
    "    test_pos = json.load(fr)\n",
    "    \n",
    "with open(os.path.join(base_dir, item_file), 'r') as fr:\n",
    "    pv_items = json.load(fr)\n",
    "    \n",
    "with open(os.path.join(base_dir, outfit_file), 'r') as fr:\n",
    "    pv_outfits = json.load(fr)\n"
   ]
  },
  {
   "cell_type": "code",
   "execution_count": 6,
   "metadata": {},
   "outputs": [],
   "source": [
    "with open(os.path.join(train_dir, train_file), 'r') as fr:\n",
    "    train_X, train_y = [], []\n",
    "    for line in fr:\n",
    "        elems = line.strip().split()\n",
    "        train_y.append(elems[0])\n",
    "        train_X.append(elems[1:])\n",
    "\n",
    "with open(os.path.join(train_dir, valid_file), 'r') as fr:\n",
    "    valid_X, valid_y = [], []\n",
    "    for line in fr:\n",
    "        elems = line.strip().split()\n",
    "        valid_y.append(elems[0])\n",
    "        valid_X.append(elems[1:])\n",
    "\n",
    "with open(os.path.join(train_dir, test_file), 'r') as fr:\n",
    "    test_X, test_y = [], []\n",
    "    for line in fr:\n",
    "        elems = line.strip().split()\n",
    "        test_y.append(elems[0])\n",
    "        test_X.append(elems[1:])\n"
   ]
  },
  {
   "cell_type": "code",
   "execution_count": 7,
   "metadata": {},
   "outputs": [
    {
     "name": "stdout",
     "output_type": "stream",
     "text": [
      "85935\n",
      "101223\n",
      "175485\n"
     ]
    }
   ],
   "source": [
    "item_dict = {}\n",
    "for ii, outfit in enumerate(train_pos):\n",
    "    items = outfit['items']\n",
    "    mapped = train_X[ii]\n",
    "    item_dict.update({jj:kk['item_id'] for jj, kk in zip(mapped, items)})\n",
    "print(len(item_dict))\n",
    "\n",
    "for ii, outfit in enumerate(valid_pos):\n",
    "    items = outfit['items']\n",
    "    mapped = valid_X[ii]\n",
    "    item_dict.update({jj:kk['item_id'] for jj, kk in zip(mapped, items)})\n",
    "print(len(item_dict))\n",
    "\n",
    "for ii, outfit in enumerate(test_pos):\n",
    "    items = outfit['items']\n",
    "    mapped = test_X[ii]\n",
    "    item_dict.update({jj:kk['item_id'] for jj, kk in zip(mapped, items)})\n",
    "print(len(item_dict))"
   ]
  },
  {
   "cell_type": "code",
   "execution_count": 8,
   "metadata": {},
   "outputs": [],
   "source": [
    "from build_model import build_multilevel_transformer\n",
    "from build_model import build_set_transformer\n",
    "from rnn import build_multilevel_rnn_unequal"
   ]
  },
  {
   "cell_type": "code",
   "execution_count": 9,
   "metadata": {},
   "outputs": [],
   "source": [
    "model_type = \"set-transformer\"\n",
    "include_text = False\n",
    "use_graphsage = True\n",
    "if use_graphsage:\n",
    "    image_embedding_dim = 50\n",
    "else:\n",
    "    image_embedding_dim = 1280"
   ]
  },
  {
   "cell_type": "code",
   "execution_count": 10,
   "metadata": {},
   "outputs": [
    {
     "name": "stdout",
     "output_type": "stream",
     "text": [
      "WARNING:tensorflow:Layer lstm will not use cuDNN kernel since it doesn't meet the cuDNN kernel criteria. It will use generic GPU kernel as fallback when running on GPU\n",
      "Model: \"set_transformer\"\n",
      "_________________________________________________________________\n",
      "Layer (type)                 Output Shape              Param #   \n",
      "=================================================================\n",
      "input_1 (InputLayer)         [(None, 16, 50)]          0         \n",
      "_________________________________________________________________\n",
      "dense (Dense)                (None, 16, 64)            3264      \n",
      "_________________________________________________________________\n",
      "st_encoder (STEncoder)       (None, 16, 64)            92288     \n",
      "_________________________________________________________________\n",
      "lstm (LSTM)                  (None, 32)                12416     \n",
      "_________________________________________________________________\n",
      "dense_23 (Dense)             (None, 1)                 33        \n",
      "=================================================================\n",
      "Total params: 108,001\n",
      "Trainable params: 108,001\n",
      "Non-trainable params: 0\n",
      "_________________________________________________________________\n"
     ]
    }
   ],
   "source": [
    "if model_type == \"rnn\":\n",
    "    model = build_multilevel_rnn_unequal(16, 1280,\n",
    "                                         num_classes=2,\n",
    "                                         num_layers=1,\n",
    "                                         d_model=512,\n",
    "                                         rnn=\"bilstm\",\n",
    "                                         final_activation=\"sigmoid\",\n",
    "                                         include_text=include_text\n",
    "                                        )\n",
    "elif model_type == \"transformer\":\n",
    "    model = build_multilevel_transformer(16, 1280, \n",
    "                                         num_layers=1,\n",
    "                                         d_model=64,\n",
    "                                         num_heads=1,\n",
    "                                         dff=32,\n",
    "                                         rate=0.0,\n",
    "                                         include_text=include_text,\n",
    "                                         inp_dim2=768,\n",
    "                                         num_classes=2,\n",
    "                                         lstm_dim=32,\n",
    "                                         embedding_activation=\"linear\",\n",
    "                                         lstm_activation=\"linear\",\n",
    "                                         final_activation=\"sigmoid\"\n",
    "                                        )\n",
    "elif model_type == \"set-transformer\":\n",
    "    model = build_set_transformer(16, \n",
    "                                  image_embedding_dim, \n",
    "                                  num_layers=3,\n",
    "                                  d_model=64,\n",
    "                                  num_heads=1,\n",
    "                                  dff=32,\n",
    "                                  num_classes=2,\n",
    "                                  lstm_dim=32,\n",
    "                                  include_text=include_text,\n",
    "                                  inp_dim2=768,\n",
    "                                  embedding_activation=\"relu\",\n",
    "                                  lstm_activation=\"relu\",\n",
    "                                  final_activation=\"sigmoid\"\n",
    "                                 )\n",
    "    \n",
    "model.summary()"
   ]
  },
  {
   "cell_type": "code",
   "execution_count": 11,
   "metadata": {},
   "outputs": [],
   "source": [
    "from data_process import CustomDataGen\n",
    "\n",
    "train_gen = CustomDataGen(train_X, train_y, \n",
    "                          item_dict, \n",
    "                          pv_items, \n",
    "                          image_dir, \n",
    "                          batch_size=32, \n",
    "                          only_image=not include_text,\n",
    "                          image_embedding=True,\n",
    "                          image_embedding_dim=image_embedding_dim,\n",
    "                          image_embedding_file=\"graphsage_dict2_polyvore.pkl\",\n",
    "                         )\n",
    "valid_gen = CustomDataGen(valid_X, valid_y, \n",
    "                          item_dict, \n",
    "                          pv_items, \n",
    "                          image_dir, \n",
    "                          batch_size=32, \n",
    "                          only_image=not include_text,\n",
    "                          image_embedding=True,\n",
    "                          image_embedding_dim=image_embedding_dim,\n",
    "                          image_embedding_file=\"graphsage_dict2_polyvore.pkl\",\n",
    "                         )\n",
    "# test_gen = CustomDataGen(test_X, test_y, item_dict, pv_items, image_dir, batch_size=32, only_image=not include_text)"
   ]
  },
  {
   "cell_type": "code",
   "execution_count": 12,
   "metadata": {},
   "outputs": [
    {
     "data": {
      "text/plain": [
       "((16, 50), (16, 50), (32,))"
      ]
     },
     "execution_count": 12,
     "metadata": {},
     "output_type": "execute_result"
    }
   ],
   "source": [
    "x, y = train_gen[0]\n",
    "x[0].shape, x[1].shape, y.shape"
   ]
  },
  {
   "cell_type": "code",
   "execution_count": 13,
   "metadata": {},
   "outputs": [
    {
     "name": "stdout",
     "output_type": "stream",
     "text": [
      "Epoch 1/100\n",
      "1063/1063 [==============================] - 41s 38ms/step - loss: 0.2900 - accuracy: 0.8782 - auc: 0.9503 - val_loss: 1.3413 - val_accuracy: 0.5522 - val_auc: 0.5961\n",
      "Epoch 2/100\n",
      "1063/1063 [==============================] - 40s 37ms/step - loss: 0.1500 - accuracy: 0.9409 - auc: 0.9856 - val_loss: 1.0689 - val_accuracy: 0.5547 - val_auc: 0.6076\n",
      "Epoch 3/100\n",
      "1063/1063 [==============================] - 40s 37ms/step - loss: 0.1297 - accuracy: 0.9485 - auc: 0.9890 - val_loss: 1.0229 - val_accuracy: 0.5728 - val_auc: 0.6166\n",
      "Epoch 4/100\n",
      "1063/1063 [==============================] - 40s 37ms/step - loss: 0.1197 - accuracy: 0.9531 - auc: 0.9905 - val_loss: 1.3607 - val_accuracy: 0.5645 - val_auc: 0.6167\n",
      "Epoch 5/100\n",
      "1063/1063 [==============================] - 40s 37ms/step - loss: 0.1104 - accuracy: 0.9576 - auc: 0.9917 - val_loss: 1.3983 - val_accuracy: 0.5628 - val_auc: 0.6099\n",
      "Epoch 6/100\n",
      "1063/1063 [==============================] - 39s 37ms/step - loss: 0.1036 - accuracy: 0.9581 - auc: 0.9927 - val_loss: 1.2790 - val_accuracy: 0.5548 - val_auc: 0.6260\n",
      "Epoch 7/100\n",
      "1063/1063 [==============================] - 39s 36ms/step - loss: 0.0995 - accuracy: 0.9604 - auc: 0.9931 - val_loss: 1.2300 - val_accuracy: 0.5565 - val_auc: 0.6048\n",
      "Epoch 8/100\n",
      "1063/1063 [==============================] - 39s 37ms/step - loss: 0.0936 - accuracy: 0.9625 - auc: 0.9939 - val_loss: 1.1500 - val_accuracy: 0.5582 - val_auc: 0.6092\n",
      "Epoch 9/100\n",
      "1063/1063 [==============================] - 39s 37ms/step - loss: 0.0884 - accuracy: 0.9649 - auc: 0.9943 - val_loss: 1.3570 - val_accuracy: 0.5560 - val_auc: 0.5919\n",
      "Epoch 10/100\n",
      "1063/1063 [==============================] - 39s 37ms/step - loss: 0.0853 - accuracy: 0.9678 - auc: 0.9949 - val_loss: 1.2782 - val_accuracy: 0.5568 - val_auc: 0.6012\n",
      "Epoch 11/100\n",
      "1063/1063 [==============================] - 39s 37ms/step - loss: 0.0802 - accuracy: 0.9689 - auc: 0.9953 - val_loss: 1.3084 - val_accuracy: 0.5442 - val_auc: 0.5975\n",
      "Epoch 12/100\n",
      "1063/1063 [==============================] - 41s 38ms/step - loss: 0.0772 - accuracy: 0.9700 - auc: 0.9958 - val_loss: 1.6671 - val_accuracy: 0.5362 - val_auc: 0.5837\n",
      "Epoch 13/100\n",
      "1063/1063 [==============================] - 41s 39ms/step - loss: 0.0742 - accuracy: 0.9706 - auc: 0.9959 - val_loss: 1.6646 - val_accuracy: 0.5638 - val_auc: 0.6024\n"
     ]
    },
    {
     "data": {
      "text/plain": [
       "522.8550872802734"
      ]
     },
     "execution_count": 13,
     "metadata": {},
     "output_type": "execute_result"
    }
   ],
   "source": [
    "learning_rate = 1.0e-04\n",
    "batch_size = 32\n",
    "epochs = 100\n",
    "patience = 10\n",
    "num_train = len(train_X)\n",
    "checkpoint_filepath = base_dir + '/checkpoint'\n",
    "\n",
    "opt = keras.optimizers.Adam(learning_rate=learning_rate)\n",
    "loss = tf.keras.losses.BinaryCrossentropy(from_logits=False, name='binary_crossentropy')\n",
    "model.compile(loss=loss, optimizer=opt, metrics=[\"accuracy\", tf.keras.metrics.AUC()])  # \n",
    "callback = EarlyStopping(\n",
    "                        monitor=\"val_accuracy\",\n",
    "                        min_delta=0,\n",
    "                        patience=patience,\n",
    "                        verbose=0,\n",
    "                        mode=\"auto\",\n",
    "                        baseline=None,\n",
    "                        restore_best_weights=True,\n",
    "                    )\n",
    "\n",
    "# wandb_callback = WandbCallback(\n",
    "#                         monitor=\"val_loss\",\n",
    "#                         verbose=0,\n",
    "#                         save_model=(False), \n",
    "#                         mode=\"auto\")\n",
    "\n",
    "model_checkpoint_callback = tf.keras.callbacks.ModelCheckpoint(\n",
    "    filepath=checkpoint_filepath,\n",
    "    save_weights_only=True,\n",
    "    monitor='val_loss',\n",
    "    mode='min',\n",
    "    save_best_only=True)\n",
    "\n",
    "tic = time.time()\n",
    "# run = wandb.init(reinit=True)\n",
    "if 'history' in locals():\n",
    "    history_prev = history\n",
    "history = model.fit(train_gen, \n",
    "                    epochs=epochs, \n",
    "                    batch_size=batch_size,\n",
    "#                     steps_per_epoch=math.ceil(num_train/batch_size),\n",
    "                    validation_data=valid_gen,\n",
    "                    validation_batch_size=32,\n",
    "                    validation_freq=1,\n",
    "                    callbacks=[callback, model_checkpoint_callback],\n",
    "                    verbose=1)\n",
    "# run.finish()\n",
    "time.time() - tic"
   ]
  },
  {
   "cell_type": "code",
   "execution_count": 33,
   "metadata": {},
   "outputs": [
    {
     "data": {
      "text/plain": [
       "(1062, 33990, 1062, 1063)"
      ]
     },
     "execution_count": 33,
     "metadata": {},
     "output_type": "execute_result"
    }
   ],
   "source": [
    "len(train_gen), len(train_X), len(train_X)//32, math.ceil(num_train/batch_size)"
   ]
  },
  {
   "cell_type": "code",
   "execution_count": 19,
   "metadata": {},
   "outputs": [
    {
     "data": {
      "text/plain": [
       "<matplotlib.legend.Legend at 0x7f18dd925750>"
      ]
     },
     "execution_count": 19,
     "metadata": {},
     "output_type": "execute_result"
    },
    {
     "data": {
      "image/png": "[encoded data removed]",
      "text/plain": [
       "<Figure size 1080x432 with 2 Axes>"
      ]
     },
     "metadata": {
      "needs_background": "light"
     },
     "output_type": "display_data"
    }
   ],
   "source": [
    "f, axs = plt.subplots(1,2,figsize=(15,6))\n",
    "plt.subplot(121)\n",
    "plt.plot(history.history['loss'], label='train-loss')\n",
    "plt.plot(history.history['val_loss'], label='validation-loss')\n",
    "plt.legend()\n",
    "\n",
    "plt.subplot(122)\n",
    "plt.plot(history.history['auc_2'], label='train-AUC')\n",
    "plt.plot(history.history['val_auc_2'], label='validation-AUC')\n",
    "plt.legend()"
   ]
  },
  {
   "cell_type": "code",
   "execution_count": 24,
   "metadata": {},
   "outputs": [
    {
     "data": {
      "text/plain": [
       "<matplotlib.legend.Legend at 0x7f1868dbdd90>"
      ]
     },
     "execution_count": 24,
     "metadata": {},
     "output_type": "execute_result"
    },
    {
     "data": {
      "image/png": "[encoded data removed]",
      "text/plain": [
       "<Figure size 1080x432 with 2 Axes>"
      ]
     },
     "metadata": {
      "needs_background": "light"
     },
     "output_type": "display_data"
    }
   ],
   "source": [
    "f, axs = plt.subplots(1,2,figsize=(15,6))\n",
    "plt.subplot(121)\n",
    "plt.plot(history.history['loss'], label='train-loss')\n",
    "plt.plot(history.history['val_loss'], label='validation-loss')\n",
    "plt.legend()\n",
    "\n",
    "plt.subplot(122)\n",
    "plt.plot(history.history['auc_3'], label='train-AUC')\n",
    "plt.plot(history.history['val_auc_3'], label='validation-AUC')\n",
    "plt.legend()"
   ]
  },
  {
   "cell_type": "markdown",
   "metadata": {},
   "source": [
    "## Text Embeddings\n",
    "\n",
    " - pre-compute all the text embeddings"
   ]
  },
  {
   "cell_type": "code",
   "execution_count": 13,
   "metadata": {},
   "outputs": [
    {
     "name": "stderr",
     "output_type": "stream",
     "text": [
      "Some weights of the model checkpoint at bert-base-uncased were not used when initializing BertModel: ['cls.predictions.bias', 'cls.predictions.transform.dense.bias', 'cls.seq_relationship.weight', 'cls.predictions.transform.dense.weight', 'cls.predictions.decoder.weight', 'cls.seq_relationship.bias', 'cls.predictions.transform.LayerNorm.weight', 'cls.predictions.transform.LayerNorm.bias']\n",
      "- This IS expected if you are initializing BertModel from the checkpoint of a model trained on another task or with another architecture (e.g. initializing a BertForSequenceClassification model from a BertForPreTraining model).\n",
      "- This IS NOT expected if you are initializing BertModel from the checkpoint of a model that you expect to be exactly identical (initializing a BertForSequenceClassification model from a BertForSequenceClassification model).\n"
     ]
    }
   ],
   "source": [
    "from transformers import BertTokenizer, BertModel\n",
    "import torch\n",
    "\n",
    "tokenizer = BertTokenizer.from_pretrained(\"bert-base-uncased\")\n",
    "model = BertModel.from_pretrained(\"bert-base-uncased\")\n",
    "\n",
    "# inputs = tokenizer(\"Hello, my dog is cute\", return_tensors=\"pt\")\n",
    "# outputs = model(**inputs)\n",
    "\n",
    "# last_hidden_states = outputs.last_hidden_state\n",
    "# pooled_output = outputs.pooler_output.detach().numpy()\n",
    "# pooled_output[0,:].shape"
   ]
  },
  {
   "cell_type": "code",
   "execution_count": 31,
   "metadata": {},
   "outputs": [
    {
     "name": "stderr",
     "output_type": "stream",
     "text": [
      "100%|██████████| 251008/251008 [4:44:18<00:00, 14.71it/s]  \n"
     ]
    }
   ],
   "source": [
    "def get_texts(item_id, item_description):\n",
    "    item = item_description[item_id]  # item attributes\n",
    "    text = \" \".join(\n",
    "        [\n",
    "            item[\"url_name\"],\n",
    "            item[\"description\"],\n",
    "            item[\"title\"],\n",
    "            item[\"semantic_category\"],\n",
    "        ]\n",
    "    )\n",
    "#     text = \" \".join(text.split()[:512])\n",
    "    return text\n",
    "\n",
    "bert_dict = {}\n",
    "for item_id in tqdm(pv_items):\n",
    "    text = get_texts(item_id, pv_items)\n",
    "    inputs = tokenizer(text, return_tensors=\"pt\")\n",
    "    new_inputs = {'input_ids': inputs['input_ids'][:,:512], \n",
    "                  'token_type_ids': inputs['token_type_ids'][:,:512], \n",
    "                  'attention_mask': inputs['attention_mask'][:,:512]}\n",
    "    outputs = model(**new_inputs)\n",
    "#     outputs = model(input_ids=inputs['input_ids'][:,:512], \n",
    "#           attention_mask=inputs['attention_mask'][:,:512], \n",
    "#           token_type_ids=inputs['token_type_ids'][:,:512])\n",
    "    text_emb = outputs.pooler_output.detach().numpy()[0, :]\n",
    "    bert_dict[item_id] = text_emb\n",
    "    "
   ]
  },
  {
   "cell_type": "code",
   "execution_count": 32,
   "metadata": {},
   "outputs": [],
   "source": [
    "with open(\"bert_polyvore.pkl\", \"wb\") as output_file:\n",
    "    pickle.dump(bert_dict, output_file)"
   ]
  },
  {
   "cell_type": "markdown",
   "metadata": {},
   "source": [
    "## Image Embeddings"
   ]
  },
  {
   "cell_type": "code",
   "execution_count": null,
   "metadata": {},
   "outputs": [
    {
     "name": "stdout",
     "output_type": "stream",
     "text": [
      "WARNING:tensorflow:From /anaconda/envs/py37_tensorflow/lib/python3.7/site-packages/tensorflow/python/training/tracking/util.py:1283: NameBasedSaverStatus.__init__ (from tensorflow.python.training.tracking.util) is deprecated and will be removed in a future version.\n",
      "Instructions for updating:\n",
      "Restoring a name-based tf.train.Saver checkpoint using the object-based restore API. This mode uses global names to match variables, and so is somewhat fragile. It also adds new restore ops to the graph each time it is called when graph building. Prefer re-encoding training checkpoints in the object-based format: run save() on the object-based saver (the same one this message is coming from) and use that checkpoint in the future.\n"
     ]
    },
    {
     "name": "stderr",
     "output_type": "stream",
     "text": [
      "WARNING:tensorflow:From /anaconda/envs/py37_tensorflow/lib/python3.7/site-packages/tensorflow/python/training/tracking/util.py:1283: NameBasedSaverStatus.__init__ (from tensorflow.python.training.tracking.util) is deprecated and will be removed in a future version.\n",
      "Instructions for updating:\n",
      "Restoring a name-based tf.train.Saver checkpoint using the object-based restore API. This mode uses global names to match variables, and so is somewhat fragile. It also adds new restore ops to the graph each time it is called when graph building. Prefer re-encoding training checkpoints in the object-based format: run save() on the object-based saver (the same one this message is coming from) and use that checkpoint in the future.\n",
      " 70%|███████   | 183608/261057 [5:51:32<2:25:03,  8.90it/s]"
     ]
    }
   ],
   "source": [
    "import glob\n",
    "efficient_net_dict = {}\n",
    "\n",
    "eff2_model = tf.keras.models.Sequential(\n",
    "                [\n",
    "                    tf.keras.layers.InputLayer(input_shape=[224, 224, 3]),\n",
    "                    effnetv2_model.get_model(\"efficientnetv2-b0\", include_top=False),\n",
    "                ]\n",
    "            )\n",
    "\n",
    "for image_path in tqdm(glob.glob(image_dir+\"/*.jpg\")):\n",
    "    item_id = image_path.split('/')[-1].split('.')[0]\n",
    "    image = tf.keras.preprocessing.image.load_img(image_path)\n",
    "    image_arr = tf.keras.preprocessing.image.img_to_array(image)\n",
    "    image_arr = tf.image.resize(image_arr, (224, 224)).numpy()\n",
    "    image_arr /= 255.0\n",
    "    image_embed = tf.squeeze(eff2_model(tf.expand_dims(image_arr, 0)))\n",
    "    efficient_net_dict[item_id] = image_embed"
   ]
  },
  {
   "cell_type": "code",
   "execution_count": 8,
   "metadata": {},
   "outputs": [],
   "source": [
    "with open(\"effnet2_polyvore.pkl\", \"wb\") as output_file:\n",
    "    pickle.dump(efficient_net_dict, output_file)"
   ]
  },
  {
   "cell_type": "code",
   "execution_count": 2,
   "metadata": {},
   "outputs": [],
   "source": [
    "class image_embedding_layer(tf.keras.layers.Layer):\n",
    "    def __init__(self, dropout, embedding_dim, activation):\n",
    "        super(image_embedding_layer, self).__init__()\n",
    "        self.dropout = dropout\n",
    "        self.embedding_dim = embedding_dim\n",
    "        self.activation = activation\n",
    "\n",
    "    def build(self, input_shape):\n",
    "        self.layer = tf.keras.Sequential(\n",
    "            [\n",
    "                effnetv2_model.get_model(\"efficientnetv2-b0\", include_top=False),\n",
    "                tf.keras.layers.Dropout(rate=self.dropout),\n",
    "                tf.keras.layers.Dense(self.embedding_dim, activation=self.activation),\n",
    "            ]\n",
    "        )\n",
    "\n",
    "    def call(self, input_tensor):\n",
    "        return self.layer(input_tensor)\n"
   ]
  },
  {
   "cell_type": "code",
   "execution_count": null,
   "metadata": {},
   "outputs": [],
   "source": [
    "inputs = tf.keras.layers.Input(shape=[224, 224, 3])\n",
    "output = image_embedding_layer(0.1, 256, \"tanh\")(inputs)\n",
    "model = tensorflow.keras.models.Model(inputs=inputs, outputs=output)\n",
    "model.summary()"
   ]
  },
  {
   "cell_type": "code",
   "execution_count": 4,
   "metadata": {},
   "outputs": [],
   "source": [
    "model = tf.keras.models.Sequential([\n",
    "    tf.keras.layers.InputLayer(input_shape=[224, 224, 3]),\n",
    "    effnetv2_model.get_model('efficientnetv2-b0', include_top=False),\n",
    "    tf.keras.layers.Dropout(rate=0.2),\n",
    "    tf.keras.layers.Dense(4, activation='softmax'),\n",
    "])"
   ]
  },
  {
   "cell_type": "code",
   "execution_count": null,
   "metadata": {},
   "outputs": [],
   "source": [
    "im_layer = tf.keras.Sequential([\n",
    "    tf.keras.layers.InputLayer(input_shape=[224, 224, 3]),\n",
    "    effnetv2_model.get_model('efficientnetv2-b0', include_top=False),\n",
    "    tf.keras.layers.Dropout(rate=0.2),\n",
    "    tf.keras.layers.Dense(4, activation='softmax'),\n",
    "])"
   ]
  },
  {
   "cell_type": "code",
   "execution_count": null,
   "metadata": {},
   "outputs": [],
   "source": [
    "inputs = tf.keras.Input(shape=(16, 224, 224, 3))\n",
    "outputs = tf.keras.layers.TimeDistributed(model)(inputs)\n",
    "outputs.shape"
   ]
  },
  {
   "cell_type": "code",
   "execution_count": 10,
   "metadata": {},
   "outputs": [
    {
     "name": "stdout",
     "output_type": "stream",
     "text": [
      "--2022-07-09 07:51:48--  https://storage.googleapis.com/cloud-tpu-checkpoints/efficientnet/v2/efficientnetv2-b0.tgz\n",
      "Resolving storage.googleapis.com... 142.250.138.128, 142.251.45.48, 142.251.35.208, ...\n",
      "Connecting to storage.googleapis.com|142.250.138.128|:443... connected.\n",
      "HTTP request sent, awaiting response... 200 OK\n",
      "Length: 105641132 (101M) [application/octet-stream]\n",
      "Saving to: ‘efficientnetv2-b0.tgz’\n",
      "\n",
      "efficientnetv2-b0.t 100%[===================>] 100.75M  43.7MB/s    in 2.3s    \n",
      "\n",
      "2022-07-09 07:51:50 (43.7 MB/s) - ‘efficientnetv2-b0.tgz’ saved [105641132/105641132]\n",
      "\n"
     ]
    }
   ],
   "source": [
    "MODEL = 'efficientnetv2-b0'  #@param\n",
    "\n",
    "def download(m):\n",
    "    if m not in os.listdir():\n",
    "        !wget https://storage.googleapis.com/cloud-tpu-checkpoints/efficientnet/v2/{m}.tgz\n",
    "        !tar zxf {m}.tgz\n",
    "    ckpt_path = os.path.join(os.getcwd(), m)\n",
    "    return ckpt_path\n",
    "\n",
    "# Download checkpoint.\n",
    "ckpt_path = download(MODEL)\n",
    "if tf.io.gfile.isdir(ckpt_path):\n",
    "    ckpt_path = tf.train.latest_checkpoint(ckpt_path)"
   ]
  },
  {
   "cell_type": "code",
   "execution_count": null,
   "metadata": {},
   "outputs": [],
   "source": []
  }
 ],
 "metadata": {
  "kernelspec": {
   "display_name": "Python 3",
   "language": "python",
   "name": "python3"
  },
  "language_info": {
   "codemirror_mode": {
    "name": "ipython",
    "version": 3
   },
   "file_extension": ".py",
   "mimetype": "text/x-python",
   "name": "python",
   "nbconvert_exporter": "python",
   "pygments_lexer": "ipython3",
   "version": "3.7.7"
  }
 },
 "nbformat": 4,
 "nbformat_minor": 4
}
